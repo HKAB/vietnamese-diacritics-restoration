{
  "nbformat": 4,
  "nbformat_minor": 0,
  "metadata": {
    "colab": {
      "name": "[nlp]transformers",
      "provenance": [],
      "collapsed_sections": [],
      "machine_shape": "hm"
    },
    "kernelspec": {
      "display_name": "Python 3",
      "name": "python3"
    }
  },
  "cells": [
    {
      "cell_type": "code",
      "metadata": {
        "colab": {
          "base_uri": "https://localhost:8080/"
        },
        "id": "SuEKX3p4Lj7Z",
        "outputId": "8151193e-b73a-49f5-a8d8-5ebb315589de"
      },
      "source": [
        "from google.colab import drive\n",
        "drive.mount('/content/drive')"
      ],
      "execution_count": null,
      "outputs": [
        {
          "output_type": "stream",
          "text": [
            "Mounted at /content/drive\n"
          ],
          "name": "stdout"
        }
      ]
    },
    {
      "cell_type": "code",
      "metadata": {
        "id": "jnHMAkMA0WmC"
      },
      "source": [
        "import torch\n",
        "import torchtext\n",
        "from torchtext.data import get_tokenizer\n",
        "from collections import Counter\n",
        "from torchtext.vocab import Vocab\n",
        "import pandas as pd\n",
        "import numpy as np\n",
        "from tqdm import tqdm\n",
        "import matplotlib.pyplot as plt\n",
        "import torch.nn as nn\n",
        "from torch import Tensor\n",
        "from typing import Tuple\n",
        "from torch.nn import functional as F\n",
        "import math"
      ],
      "execution_count": null,
      "outputs": []
    },
    {
      "cell_type": "code",
      "metadata": {
        "id": "rhZ9e6-I0hz1"
      },
      "source": [
        "device = torch.device('cuda' if torch.cuda.is_available() else 'cpu')"
      ],
      "execution_count": null,
      "outputs": []
    },
    {
      "cell_type": "markdown",
      "metadata": {
        "id": "x2CdkCw6qRK4"
      },
      "source": [
        "# Load data"
      ]
    },
    {
      "cell_type": "code",
      "metadata": {
        "id": "X6hhbQXd0ZDo"
      },
      "source": [
        "df = pd.read_csv('/content/drive/MyDrive/NMT/final_data.csv')"
      ],
      "execution_count": null,
      "outputs": []
    },
    {
      "cell_type": "code",
      "metadata": {
        "id": "loHhuV2S0aiL"
      },
      "source": [
        "# tokenize by space\n",
        "tokenizer = get_tokenizer(tokenizer=None)"
      ],
      "execution_count": null,
      "outputs": []
    },
    {
      "cell_type": "code",
      "metadata": {
        "id": "d00ytWbb0bqj"
      },
      "source": [
        "def build_vocab(iter_text_data, tokenizer):\n",
        "    counter = Counter()\n",
        "    for line in iter_text_data:#df.text_clean.to_numpy():\n",
        "        counter.update(tokenizer(line))\n",
        "    return Vocab(counter, min_freq=1000, specials=['<unk>', '<pad>', '<bos>', '<eos>'])"
      ],
      "execution_count": null,
      "outputs": []
    },
    {
      "cell_type": "code",
      "metadata": {
        "colab": {
          "base_uri": "https://localhost:8080/"
        },
        "id": "dTlPalea0bh4",
        "outputId": "47d3c373-8f23-4202-9db4-a47b7b0792c2"
      },
      "source": [
        "%%time\n",
        "tone_vocab = build_vocab(df.text_clean.to_numpy(), tokenizer)\n",
        "no_tone_vocab = build_vocab(df.text_clean_no_accent.to_numpy(), tokenizer)"
      ],
      "execution_count": null,
      "outputs": [
        {
          "output_type": "stream",
          "text": [
            "CPU times: user 1min 16s, sys: 328 ms, total: 1min 17s\n",
            "Wall time: 1min 17s\n"
          ],
          "name": "stdout"
        }
      ]
    },
    {
      "cell_type": "code",
      "metadata": {
        "id": "t4DLC2UkZpw8"
      },
      "source": [
        "BATCH_SIZE = 64\n",
        "PAD_IDX = tone_vocab['<pad>']\n",
        "BOS_IDX = tone_vocab['<bos>']\n",
        "EOS_IDX = tone_vocab['<eos>']"
      ],
      "execution_count": null,
      "outputs": []
    },
    {
      "cell_type": "code",
      "metadata": {
        "colab": {
          "base_uri": "https://localhost:8080/"
        },
        "id": "m6aTKTvbOpyk",
        "outputId": "0dd115db-e2b3-4dde-97fa-f000d062212e"
      },
      "source": [
        "len(tone_vocab), len(no_tone_vocab)"
      ],
      "execution_count": null,
      "outputs": [
        {
          "output_type": "execute_result",
          "data": {
            "text/plain": [
              "(4136, 2248)"
            ]
          },
          "metadata": {
            "tags": []
          },
          "execution_count": 31
        }
      ]
    },
    {
      "cell_type": "code",
      "metadata": {
        "id": "5IybvC0Q0dVB"
      },
      "source": [
        "def data_process(tone_array, no_tone_array, tone_vocab, no_tone_vocab, tokenizer):\n",
        "    data = []\n",
        "    for (tone_str, no_tone_str) in tqdm(zip(tone_array, no_tone_array)):\n",
        "#         print(tone_str, no_tone_str)\n",
        "#         break\n",
        "        tone_tensor_ = torch.tensor([tone_vocab[token] for token in tokenizer(tone_str)],\n",
        "                                dtype=torch.long)\n",
        "        no_tone_tensor_ = torch.tensor([no_tone_vocab[token] for token in tokenizer(no_tone_str)],\n",
        "                                dtype=torch.long)\n",
        "        data.append((tone_tensor_, no_tone_tensor_))\n",
        "    return data"
      ],
      "execution_count": null,
      "outputs": []
    },
    {
      "cell_type": "code",
      "metadata": {
        "colab": {
          "base_uri": "https://localhost:8080/"
        },
        "id": "kBJ8nM_t0ebI",
        "outputId": "90254e82-acce-4b0f-82c9-b896fbc7f744"
      },
      "source": [
        "train_range = 100000#int(df.shape[0]*1/100)\n",
        "test_range = 1000#int(df.shape[0]*0.5/100)\n",
        "df_train = df.iloc[:train_range, :]\n",
        "df_test = df.iloc[-test_range:, :]\n",
        "df_train.shape, df_test.shape"
      ],
      "execution_count": null,
      "outputs": [
        {
          "output_type": "execute_result",
          "data": {
            "text/plain": [
              "((100000, 2), (1000, 2))"
            ]
          },
          "metadata": {
            "tags": []
          },
          "execution_count": 81
        }
      ]
    },
    {
      "cell_type": "code",
      "metadata": {
        "colab": {
          "base_uri": "https://localhost:8080/"
        },
        "id": "ZCeLte6mr22g",
        "outputId": "ecd6f0de-3b36-497c-b2e9-640d0a8fa1f4"
      },
      "source": [
        "df_train"
      ],
      "execution_count": null,
      "outputs": [
        {
          "output_type": "execute_result",
          "data": {
            "text/html": [
              "<div>\n",
              "<style scoped>\n",
              "    .dataframe tbody tr th:only-of-type {\n",
              "        vertical-align: middle;\n",
              "    }\n",
              "\n",
              "    .dataframe tbody tr th {\n",
              "        vertical-align: top;\n",
              "    }\n",
              "\n",
              "    .dataframe thead th {\n",
              "        text-align: right;\n",
              "    }\n",
              "</style>\n",
              "<table border=\"1\" class=\"dataframe\">\n",
              "  <thead>\n",
              "    <tr style=\"text-align: right;\">\n",
              "      <th></th>\n",
              "      <th>text_clean</th>\n",
              "      <th>text_clean_no_accent</th>\n",
              "    </tr>\n",
              "  </thead>\n",
              "  <tbody>\n",
              "    <tr>\n",
              "      <th>0</th>\n",
              "      <td>chây ì nộp phạt nguội</td>\n",
              "      <td>chay i nop phat nguoi</td>\n",
              "    </tr>\n",
              "    <tr>\n",
              "      <th>1</th>\n",
              "      <td>cháu đòi tiền cơm dì đòi tiền nhà</td>\n",
              "      <td>chau doi tien com di doi tien nha</td>\n",
              "    </tr>\n",
              "    <tr>\n",
              "      <th>2</th>\n",
              "      <td>đà nẵng nghiên cứu tiện ích nhắn tin khi vi ph...</td>\n",
              "      <td>da nang nghien cuu tien ich nhan tin khi vi ph...</td>\n",
              "    </tr>\n",
              "    <tr>\n",
              "      <th>3</th>\n",
              "      <td>khó xử vụ mẹ tuổi trộm xe hơi của con gái</td>\n",
              "      <td>kho xu vu me tuoi trom xe hoi cua con gai</td>\n",
              "    </tr>\n",
              "    <tr>\n",
              "      <th>4</th>\n",
              "      <td>thay đổi về đăng ký chuyển nhượng xe từ bạn cầ...</td>\n",
              "      <td>thay doi ve dang ky chuyen nhuong xe tu ban ca...</td>\n",
              "    </tr>\n",
              "    <tr>\n",
              "      <th>...</th>\n",
              "      <td>...</td>\n",
              "      <td>...</td>\n",
              "    </tr>\n",
              "    <tr>\n",
              "      <th>99995</th>\n",
              "      <td>mùi hương nổi bật năm</td>\n",
              "      <td>mui huong noi bat nam</td>\n",
              "    </tr>\n",
              "    <tr>\n",
              "      <th>99996</th>\n",
              "      <td>im lặng cho hoa nở nghi thức để đến vẻ đẹp</td>\n",
              "      <td>im lang cho hoa no nghi thuc de den ve dep</td>\n",
              "    </tr>\n",
              "    <tr>\n",
              "      <th>99997</th>\n",
              "      <td>những khoảnh khắc lịch sử của u việt nam tại c...</td>\n",
              "      <td>nhung khoanh khac lich su cua u viet nam tai c...</td>\n",
              "    </tr>\n",
              "    <tr>\n",
              "      <th>99998</th>\n",
              "      <td>hành động đẹp của duy mạnh làm tan chảy trái t...</td>\n",
              "      <td>hanh dong dep cua duy manh lam tan chay trai t...</td>\n",
              "    </tr>\n",
              "    <tr>\n",
              "      <th>99999</th>\n",
              "      <td>phim ngôn tình nhật bản về tình yêu thầy trò s...</td>\n",
              "      <td>phim ngon tinh nhat ban ve tinh yeu thay tro s...</td>\n",
              "    </tr>\n",
              "  </tbody>\n",
              "</table>\n",
              "<p>100000 rows × 2 columns</p>\n",
              "</div>"
            ],
            "text/plain": [
              "                                              text_clean                               text_clean_no_accent\n",
              "0                                  chây ì nộp phạt nguội                              chay i nop phat nguoi\n",
              "1                      cháu đòi tiền cơm dì đòi tiền nhà                  chau doi tien com di doi tien nha\n",
              "2      đà nẵng nghiên cứu tiện ích nhắn tin khi vi ph...  da nang nghien cuu tien ich nhan tin khi vi ph...\n",
              "3              khó xử vụ mẹ tuổi trộm xe hơi của con gái          kho xu vu me tuoi trom xe hoi cua con gai\n",
              "4      thay đổi về đăng ký chuyển nhượng xe từ bạn cầ...  thay doi ve dang ky chuyen nhuong xe tu ban ca...\n",
              "...                                                  ...                                                ...\n",
              "99995                              mùi hương nổi bật năm                              mui huong noi bat nam\n",
              "99996         im lặng cho hoa nở nghi thức để đến vẻ đẹp         im lang cho hoa no nghi thuc de den ve dep\n",
              "99997  những khoảnh khắc lịch sử của u việt nam tại c...  nhung khoanh khac lich su cua u viet nam tai c...\n",
              "99998  hành động đẹp của duy mạnh làm tan chảy trái t...  hanh dong dep cua duy manh lam tan chay trai t...\n",
              "99999  phim ngôn tình nhật bản về tình yêu thầy trò s...  phim ngon tinh nhat ban ve tinh yeu thay tro s...\n",
              "\n",
              "[100000 rows x 2 columns]"
            ]
          },
          "metadata": {
            "tags": []
          },
          "execution_count": 10
        }
      ]
    },
    {
      "cell_type": "code",
      "metadata": {
        "colab": {
          "base_uri": "https://localhost:8080/",
          "height": 206
        },
        "id": "9KMqPjURl7II",
        "outputId": "281807f8-956e-4c05-8fce-5c260ea08c6b"
      },
      "source": [
        "df_test.head(5)"
      ],
      "execution_count": null,
      "outputs": [
        {
          "output_type": "execute_result",
          "data": {
            "text/html": [
              "<div>\n",
              "<style scoped>\n",
              "    .dataframe tbody tr th:only-of-type {\n",
              "        vertical-align: middle;\n",
              "    }\n",
              "\n",
              "    .dataframe tbody tr th {\n",
              "        vertical-align: top;\n",
              "    }\n",
              "\n",
              "    .dataframe thead th {\n",
              "        text-align: right;\n",
              "    }\n",
              "</style>\n",
              "<table border=\"1\" class=\"dataframe\">\n",
              "  <thead>\n",
              "    <tr style=\"text-align: right;\">\n",
              "      <th></th>\n",
              "      <th>text_clean</th>\n",
              "      <th>text_clean_no_accent</th>\n",
              "    </tr>\n",
              "  </thead>\n",
              "  <tbody>\n",
              "    <tr>\n",
              "      <th>9478271</th>\n",
              "      <td>quan hệ quốc phòng mỹ ấn độ thắt chặt sau thỏa...</td>\n",
              "      <td>quan he quoc phong my an do that chat sau thoa...</td>\n",
              "    </tr>\n",
              "    <tr>\n",
              "      <th>9478272</th>\n",
              "      <td>xin lãnh đạo nhịn phát biểu khai giảng</td>\n",
              "      <td>xin lanh dao nhin phat bieu khai giang</td>\n",
              "    </tr>\n",
              "    <tr>\n",
              "      <th>9478273</th>\n",
              "      <td>bđbp tỉnh quảng nam nhận trách nhiệm trong vụ ...</td>\n",
              "      <td>bdbp tinh quang nam nhan trach nhiem trong vu ...</td>\n",
              "    </tr>\n",
              "    <tr>\n",
              "      <th>9478274</th>\n",
              "      <td>premier league hù dọa châu âu bằng tỷ bảng</td>\n",
              "      <td>premier league hu doa chau au bang ty bang</td>\n",
              "    </tr>\n",
              "    <tr>\n",
              "      <th>9478275</th>\n",
              "      <td>năm thực hiện tái cơ cấu nông nghiệp mờ nhạt b...</td>\n",
              "      <td>nam thuc hien tai co cau nong nghiep mo nhat b...</td>\n",
              "    </tr>\n",
              "  </tbody>\n",
              "</table>\n",
              "</div>"
            ],
            "text/plain": [
              "                                                text_clean                               text_clean_no_accent\n",
              "9478271  quan hệ quốc phòng mỹ ấn độ thắt chặt sau thỏa...  quan he quoc phong my an do that chat sau thoa...\n",
              "9478272             xin lãnh đạo nhịn phát biểu khai giảng             xin lanh dao nhin phat bieu khai giang\n",
              "9478273  bđbp tỉnh quảng nam nhận trách nhiệm trong vụ ...  bdbp tinh quang nam nhan trach nhiem trong vu ...\n",
              "9478274         premier league hù dọa châu âu bằng tỷ bảng         premier league hu doa chau au bang ty bang\n",
              "9478275  năm thực hiện tái cơ cấu nông nghiệp mờ nhạt b...  nam thuc hien tai co cau nong nghiep mo nhat b..."
            ]
          },
          "metadata": {
            "tags": []
          },
          "execution_count": 51
        }
      ]
    },
    {
      "cell_type": "code",
      "metadata": {
        "colab": {
          "base_uri": "https://localhost:8080/"
        },
        "id": "x5W47MSd0fmN",
        "outputId": "fcdbcb29-05ac-4ecb-9982-d5f40ff3a805"
      },
      "source": [
        "# %%time\n",
        "train_data = data_process(df_train.text_clean.to_numpy(), \n",
        "                          df_train.text_clean_no_accent.to_numpy(), \n",
        "                          tone_vocab, no_tone_vocab, tokenizer)\n",
        "# val_data = data_process(df_test.text_clean.to_numpy(), \n",
        "#                           df_test.text_clean_no_accent.to_numpy(), \n",
        "#                           tone_vocab, no_tone_vocab, tokenizer)"
      ],
      "execution_count": null,
      "outputs": [
        {
          "output_type": "stream",
          "text": [
            "100000it [00:03, 27554.93it/s]\n"
          ],
          "name": "stderr"
        }
      ]
    },
    {
      "cell_type": "code",
      "metadata": {
        "colab": {
          "base_uri": "https://localhost:8080/"
        },
        "id": "40YEENGb0gvH",
        "outputId": "9562c2ad-c471-482e-a11e-3cead5406f3a"
      },
      "source": [
        "val_data = data_process(df_test.text_clean.to_numpy(), \n",
        "                          df_test.text_clean_no_accent.to_numpy(), \n",
        "                          tone_vocab, no_tone_vocab, tokenizer)"
      ],
      "execution_count": null,
      "outputs": [
        {
          "output_type": "stream",
          "text": [
            "1000it [00:00, 53404.77it/s]\n"
          ],
          "name": "stderr"
        }
      ]
    },
    {
      "cell_type": "code",
      "metadata": {
        "id": "LtRWyDdA0itJ"
      },
      "source": [
        "from torch.nn.utils.rnn import pad_sequence\n",
        "from torch.utils.data import DataLoader\n",
        "\n",
        "def generate_batch(data_batch):\n",
        "    tone_batch, no_tone_batch = [], []\n",
        "    for (tone_item, no_tone_item) in data_batch:\n",
        "        # Remove bos token\n",
        "        tone_batch.append(torch.cat([tone_item, torch.tensor([EOS_IDX])]))\n",
        "        no_tone_batch.append(torch.cat([no_tone_item, torch.tensor([EOS_IDX])]))\n",
        "        \n",
        "    tone_batch = pad_sequence(tone_batch, padding_value=PAD_IDX, batch_first=True)\n",
        "    no_tone_batch = pad_sequence(no_tone_batch, padding_value=PAD_IDX, batch_first=True)\n",
        "    return no_tone_batch, tone_batch"
      ],
      "execution_count": null,
      "outputs": []
    },
    {
      "cell_type": "code",
      "metadata": {
        "colab": {
          "base_uri": "https://localhost:8080/"
        },
        "id": "zU4TcfdhYtrO",
        "outputId": "b9d90a4f-d5e6-4773-c83b-f5cf12332f04"
      },
      "source": [
        "PAD_IDX, BOS_IDX, EOS_IDX"
      ],
      "execution_count": null,
      "outputs": [
        {
          "output_type": "execute_result",
          "data": {
            "text/plain": [
              "(1, 2, 3)"
            ]
          },
          "metadata": {
            "tags": []
          },
          "execution_count": 15
        }
      ]
    },
    {
      "cell_type": "code",
      "metadata": {
        "colab": {
          "base_uri": "https://localhost:8080/"
        },
        "id": "AtMSDuN10j6n",
        "outputId": "102872b0-888c-404e-b62c-cc57379a909f"
      },
      "source": [
        "%%time\n",
        "train_iter = DataLoader(train_data, batch_size=BATCH_SIZE,\n",
        "                        shuffle=True, collate_fn=generate_batch)\n",
        "valid_iter = DataLoader(val_data, batch_size=BATCH_SIZE,\n",
        "                        shuffle=True, collate_fn=generate_batch)\n"
      ],
      "execution_count": null,
      "outputs": [
        {
          "output_type": "stream",
          "text": [
            "CPU times: user 123 µs, sys: 0 ns, total: 123 µs\n",
            "Wall time: 129 µs\n"
          ],
          "name": "stdout"
        }
      ]
    },
    {
      "cell_type": "code",
      "metadata": {
        "colab": {
          "base_uri": "https://localhost:8080/"
        },
        "id": "v0Nq5Uie0lGA",
        "outputId": "f933abfb-71a3-488f-cb2d-ddf75f8423e0"
      },
      "source": [
        "for X, y in train_iter:\n",
        "    print(X[0])\n",
        "    print(X.shape)\n",
        "    break"
      ],
      "execution_count": null,
      "outputs": [
        {
          "output_type": "stream",
          "text": [
            "tensor([ 98, 134,  33, 117, 547, 297,  14, 170,  65,  20,  22,   7,  56, 151,\n",
            "          3,   1,   1,   1,   1,   1,   1,   1,   1,   1,   1])\n",
            "torch.Size([64, 25])\n"
          ],
          "name": "stdout"
        }
      ]
    },
    {
      "cell_type": "markdown",
      "metadata": {
        "id": "ve_KB6dLqV1m"
      },
      "source": [
        "# Model"
      ]
    },
    {
      "cell_type": "code",
      "metadata": {
        "id": "KqIxRoak0vba"
      },
      "source": [
        "class DotProductAttention(nn.Module):\n",
        "  def __init__(self, dropout):\n",
        "    super().__init__()\n",
        "    self.dropout = nn.Dropout(dropout)\n",
        "\n",
        "  # queries:  (batch_size*num_head x num_steps x num_hiddens/num_head) \n",
        "  # keys:     (batch_size*num_head x num_steps x num_hiddens/num_head) \n",
        "  # values:   (batch_size*num_head x num_steps x num_hiddens/num_head) \n",
        "  # mask:     (batch_size*num_heads x 1 x num_steps)\n",
        "  def forward(self, queries, keys, values, mask):\n",
        "    d = queries.shape[-1]\n",
        "    scores = torch.bmm(queries, keys.transpose(1, 2))/math.sqrt(d)\n",
        "\n",
        "    # scores: (batch_size*num_head x num_steps x num_steps)\n",
        "    # mask:   (batch_size*num_heads x 1 x num_steps)\n",
        "    # self.attention_weights: (batch_size*num_head x num_steps x num_steps)\n",
        "    self.attention_weights = F.softmax(scores.masked_fill(mask=mask, value=-np.inf), dim=-1)\n",
        "\n",
        "    # output: (batch_size*num_head x num_steps x num_hiddens/num_head)\n",
        "    return torch.bmm(self.dropout(self.attention_weights), values)"
      ],
      "execution_count": null,
      "outputs": []
    },
    {
      "cell_type": "code",
      "metadata": {
        "colab": {
          "base_uri": "https://localhost:8080/"
        },
        "id": "1v6_Bgibz_EQ",
        "outputId": "1be0bd20-d19f-4585-a6d5-89fe46243146"
      },
      "source": [
        "# How mask work\n",
        "scores = torch.ones(2, 2, 10)\n",
        "mask = (torch.rand(2, 2, 10) > 0.5)\n",
        "scores.masked_fill(mask=mask, value=-np.inf),  mask"
      ],
      "execution_count": null,
      "outputs": [
        {
          "output_type": "execute_result",
          "data": {
            "text/plain": [
              "(tensor([[[-inf, 1., -inf, -inf, -inf, 1., -inf, 1., -inf, -inf],\n",
              "          [-inf, -inf, -inf, -inf, -inf, -inf, 1., -inf, 1., -inf]],\n",
              " \n",
              "         [[-inf, 1., -inf, -inf, -inf, 1., 1., 1., -inf, -inf],\n",
              "          [-inf, -inf, 1., -inf, 1., 1., -inf, 1., 1., 1.]]]),\n",
              " tensor([[[ True, False,  True,  True,  True, False,  True, False,  True,  True],\n",
              "          [ True,  True,  True,  True,  True,  True, False,  True, False,  True]],\n",
              " \n",
              "         [[ True, False,  True,  True,  True, False, False, False,  True,  True],\n",
              "          [ True,  True, False,  True, False, False,  True, False, False, False]]]))"
            ]
          },
          "metadata": {
            "tags": []
          },
          "execution_count": 11
        }
      ]
    },
    {
      "cell_type": "code",
      "metadata": {
        "colab": {
          "base_uri": "https://localhost:8080/"
        },
        "id": "osvOvjMQL40_",
        "outputId": "31450b67-2579-42fb-977e-d6e166c29785"
      },
      "source": [
        "# with DotProductAttention, both the query and the key have the same vector length\n",
        "queries, keys = torch.normal(0, 1, (2, 1, 2)), torch.ones(2, 10, 2)\n",
        "values = torch.arange(40, dtype=torch.float32).reshape(1, 10, 4).repeat(2, 1, 1)\n",
        "\n",
        "attention = DotProductAttention(0.1)\n",
        "attention.eval()\n",
        "mask = torch.stack([torch.cat((torch.zeros(2), torch.ones(8))),\n",
        "                    torch.cat((torch.zeros(6), torch.ones(4)))]).unsqueeze(1).type(torch.bool)\n",
        "attention(queries, keys, values, mask).shape, values.shape"
      ],
      "execution_count": null,
      "outputs": [
        {
          "output_type": "execute_result",
          "data": {
            "text/plain": [
              "(torch.Size([2, 1, 4]), torch.Size([2, 10, 4]))"
            ]
          },
          "metadata": {
            "tags": []
          },
          "execution_count": 12
        }
      ]
    },
    {
      "cell_type": "code",
      "metadata": {
        "id": "QCVqZd8WskO2"
      },
      "source": [
        "def transpose_qkv(X, num_heads):\n",
        "  # X: batch_size x key-value pairs x num_hiddens\n",
        "\n",
        "  # X shape -> batch_size x key-value pairs x num_head x num_hiddens/num_head\n",
        "  X = X.reshape(X.shape[0], X.shape[1], num_heads, -1)\n",
        "  X = X.permute(0, 2, 1, 3)\n",
        "\n",
        "  return X.reshape(-1, X.shape[2], X.shape[3])\n",
        "def transpose_output(X, num_heads):\n",
        "  X = X.reshape(-1, num_heads, X.shape[1], X.shape[2])\n",
        "\n",
        "  X = X.permute(0, 2, 1, 3)\n",
        "\n",
        "  return X.reshape(X.shape[0], X.shape[1], -1)"
      ],
      "execution_count": null,
      "outputs": []
    },
    {
      "cell_type": "code",
      "metadata": {
        "id": "TNsc0DA4qkto"
      },
      "source": [
        "class MultiheadAttention(nn.Module):\n",
        "  def __init__(self, \n",
        "               key_size, query_size, value_size, \n",
        "               num_hiddens, num_heads, dropout, \n",
        "               bias=False):\n",
        "    super().__init__()\n",
        "    self.num_heads = num_heads\n",
        "    # self.attention = AdditiveAttention(int(key_size/num_heads), int(query_size/num_heads), int(num_hiddens/num_heads), dropout)\n",
        "    self.attention = DotProductAttention(dropout)\n",
        "    self.W_q = nn.Linear(query_size, num_hiddens, bias=False)\n",
        "    self.W_k = nn.Linear(key_size, num_hiddens, bias=False)\n",
        "    self.W_v = nn.Linear(value_size, num_hiddens, bias=False)\n",
        "    self.W_o = nn.Linear(num_hiddens, num_hiddens, bias=False)\n",
        "  \n",
        "  # queries: (batch_size x num_steps x num_hiddens) \n",
        "  # keys: (batch_size x num_steps x num_hiddens) \n",
        "  # values: (batch_size x num_steps x num_hiddens) \n",
        "  # mask: (batch_size*num_heads x num_steps)\n",
        "  def forward(self, queries, keys, values, mask):\n",
        "    queries = transpose_qkv(self.W_q(queries), self.num_heads)\n",
        "    keys = transpose_qkv(self.W_k(keys), self.num_heads)\n",
        "    values = transpose_qkv(self.W_v(values), self.num_heads)\n",
        "    \n",
        "    # after transpose_qkv\n",
        "    # queries: (batch_size*num_head x num_steps x num_hiddens/num_head) \n",
        "    # keys: (batch_size*num_head x num_steps x num_hiddens/num_head) \n",
        "    # values: (batch_size*num_head x num_steps x num_hiddens/num_head) \n",
        "\n",
        "    output = self.attention(queries, keys, values, mask)\n",
        "    # output: (batch_size*num_head x num_steps x num_hiddens/num_head)\n",
        "\n",
        "    output_concat = transpose_output(output, self.num_heads)\n",
        "    # output_concat: (batch_size x num_steps x num_hiddens)\n",
        "    # print(output_concat.shape, values.shape)\n",
        "    # return shape: (batch_size x num_steps x num_hiddens)\n",
        "    return self.W_o(output_concat)"
      ],
      "execution_count": null,
      "outputs": []
    },
    {
      "cell_type": "code",
      "metadata": {
        "colab": {
          "base_uri": "https://localhost:8080/"
        },
        "id": "e893CQZQyHSl",
        "outputId": "df3b4e91-ea8d-403d-e701-dead05505fa1"
      },
      "source": [
        "num_hiddens, num_heads = 100, 5\n",
        "attention = MultiheadAttention(num_hiddens, num_hiddens, num_hiddens, \n",
        "                               num_hiddens, num_heads, 0.5)\n",
        "attention.eval()"
      ],
      "execution_count": null,
      "outputs": [
        {
          "output_type": "execute_result",
          "data": {
            "text/plain": [
              "MultiheadAttention(\n",
              "  (attention): DotProductAttention(\n",
              "    (dropout): Dropout(p=0.5, inplace=False)\n",
              "  )\n",
              "  (W_q): Linear(in_features=100, out_features=100, bias=False)\n",
              "  (W_k): Linear(in_features=100, out_features=100, bias=False)\n",
              "  (W_v): Linear(in_features=100, out_features=100, bias=False)\n",
              "  (W_o): Linear(in_features=100, out_features=100, bias=False)\n",
              ")"
            ]
          },
          "metadata": {
            "tags": []
          },
          "execution_count": 15
        }
      ]
    },
    {
      "cell_type": "code",
      "metadata": {
        "colab": {
          "base_uri": "https://localhost:8080/"
        },
        "id": "E-GXz-3JysYn",
        "outputId": "270d5006-4b73-49bd-abac-f73ad87ddd09"
      },
      "source": [
        "batch_size, num_queries, num_kvpairs = 2, 10, 10\n",
        "mask = torch.stack([torch.cat((torch.zeros(2), torch.ones(8))),\n",
        "                    torch.cat((torch.zeros(6), torch.ones(4)))]).unsqueeze(1).type(torch.bool).repeat_interleave(5, dim=0)\n",
        "X = torch.ones((batch_size, num_queries, num_hiddens))\n",
        "Y = torch.ones((batch_size, num_kvpairs, num_hiddens))\n",
        "attention(X, Y, Y, mask).shape\n",
        "# mask.shape"
      ],
      "execution_count": null,
      "outputs": [
        {
          "output_type": "execute_result",
          "data": {
            "text/plain": [
              "torch.Size([2, 10, 100])"
            ]
          },
          "metadata": {
            "tags": []
          },
          "execution_count": 16
        }
      ]
    },
    {
      "cell_type": "code",
      "metadata": {
        "id": "A6GWfTyKJb0A"
      },
      "source": [
        "class PositionalEncoding(nn.Module):\n",
        "  def __init__(self, num_hiddens, dropout, max_len=1000):\n",
        "    super().__init__()\n",
        "    self.dropout = nn.Dropout(dropout)\n",
        "\n",
        "    self.P = torch.zeros((1, max_len, num_hiddens))\n",
        "\n",
        "    X = torch.arange(max_len, dtype=torch.float32).reshape(\n",
        "        -1, 1)/torch.pow(10000, torch.arange(0, num_hiddens, 2, dtype=torch.float32)/num_hiddens)\n",
        "    self.P[:, :, 0::2] = torch.sin(X)\n",
        "    self.P[:, :, 1::2] = torch.cos(X)\n",
        "  \n",
        "  # X: (batch_size x num_steps x num_hiddens)\n",
        "  def forward(self, X):\n",
        "    X = X + self.P[:, :X.shape[1], :].to(X.device)\n",
        "    # return shape: (batch_size x num_steps x num_hiddens)\n",
        "    return self.dropout(X)"
      ],
      "execution_count": null,
      "outputs": []
    },
    {
      "cell_type": "code",
      "metadata": {
        "id": "J_jT-hDVSsMS"
      },
      "source": [
        "class PositionWiseFFN(nn.Module):\n",
        "  def __init__(self, ffn_num_inputs, ffn_num_hiddens, ffn_num_outputs):\n",
        "    super().__init__()\n",
        "    self.dense1 = nn.Linear(ffn_num_inputs, ffn_num_hiddens)\n",
        "    self.relu = nn.ReLU()\n",
        "    self.dense2 = nn.Linear(ffn_num_hiddens, ffn_num_outputs)\n",
        "  # X: (batch_size x num_steps x num_hiddens)\n",
        "  def forward(self, X):\n",
        "    # FFN is the same for every num_steps\n",
        "    # num_hiddens should be equal to ffn_num_inputs, ffn_num_outputs\n",
        "    # self.dense1(X): (batch_size x num_steps x ffn_num_hiddens)\n",
        "    # return shape:   (batch_size x num_steps x ffn_num_outputs)\n",
        "    return self.dense2(self.relu(self.dense1(X)))"
      ],
      "execution_count": null,
      "outputs": []
    },
    {
      "cell_type": "code",
      "metadata": {
        "id": "ItqhqQq3UMxl"
      },
      "source": [
        "class AddNorm(nn.Module):\n",
        "  def __init__(self, normalized_shape, dropout):\n",
        "    super().__init__()\n",
        "    self.dropout = nn.Dropout(dropout)\n",
        "    self.ln = nn.LayerNorm(normalized_shape)\n",
        "  # X: (batch_size x num_steps x num_hiddens)\n",
        "  # Y: (batch_size x num_steps x num_hiddens)\n",
        "  def forward(self, X, Y):\n",
        "    # return shape: (batch_size x num_steps x num_hiddens)\n",
        "    return self.ln(self.dropout(Y) + X)"
      ],
      "execution_count": null,
      "outputs": []
    },
    {
      "cell_type": "code",
      "metadata": {
        "id": "c6oF0Lm-Y41j"
      },
      "source": [
        "class EncoderBlock(nn.Module):\n",
        "  def __init__(self, key_size, query_size, value_size, num_hiddens,\n",
        "                 norm_shape, ffn_num_input, ffn_num_hiddens, num_heads,\n",
        "                 dropout, use_bias=False):\n",
        "    super().__init__()\n",
        "    self.attention = MultiheadAttention(key_size, query_size, value_size, \n",
        "                                        num_hiddens, num_heads, dropout)\n",
        "    self.addnorm1 = AddNorm(norm_shape, dropout)\n",
        "    self.ffn = PositionWiseFFN(ffn_num_input, ffn_num_hiddens, num_hiddens)\n",
        "    self.addnorm2 = AddNorm(norm_shape, dropout)\n",
        "  # X: (batch_size x num_steps x num_hiddens) \n",
        "  # mask: (batch_size*num_heads x num_steps)\n",
        "  def forward(self, X, mask):\n",
        "    # self.attention(X, X, X, mask): (batch_size x num_steps x num_hiddens)\n",
        "    Y = self.addnorm1(X, self.attention(X, X, X, mask))\n",
        "    # Y: (batch_size x num_steps x num_hiddens)\n",
        "\n",
        "    # self.ffn(Y):  (batch_size x num_steps x num_hiddens)\n",
        "    # return shape: (batch_size x num_steps x num_hiddens)\n",
        "    return self.addnorm2(Y, self.ffn(Y))"
      ],
      "execution_count": null,
      "outputs": []
    },
    {
      "cell_type": "code",
      "metadata": {
        "colab": {
          "base_uri": "https://localhost:8080/"
        },
        "id": "Bmu4_fws4mk6",
        "outputId": "e3833b6f-7724-491e-9a0f-4df4ee6c8af1"
      },
      "source": [
        "X = torch.ones((2, 100, 24))\n",
        "encoder_blk = EncoderBlock(24, 24, 24, 24, [100, 24], 24, 48, 8, 0.5)\n",
        "encoder_blk.eval()\n",
        "mask = torch.stack([torch.cat((torch.zeros(3), torch.ones(97))),\n",
        "                    torch.cat((torch.zeros(2), torch.ones(98)))]).unsqueeze(1).type(torch.bool).repeat_interleave(8, dim=0)\n",
        "encoder_blk(X, mask).shape"
      ],
      "execution_count": null,
      "outputs": [
        {
          "output_type": "execute_result",
          "data": {
            "text/plain": [
              "torch.Size([2, 100, 24])"
            ]
          },
          "metadata": {
            "tags": []
          },
          "execution_count": 21
        }
      ]
    },
    {
      "cell_type": "code",
      "metadata": {
        "id": "iKDU96wsaoFS"
      },
      "source": [
        "class TransformerEncoder(nn.Module):\n",
        "  def __init__(self, vocab_size, key_size, query_size, value_size, num_hiddens,\n",
        "                 norm_shape, ffn_num_input, ffn_num_hiddens, num_heads,\n",
        "                 num_layers, dropout, use_bias=False):\n",
        "    super().__init__()\n",
        "    self.num_hiddens = num_hiddens\n",
        "    self.num_heads = num_heads\n",
        "    self.embedding = nn.Embedding(vocab_size, num_hiddens)\n",
        "    self.pos_encoding = PositionalEncoding(num_hiddens, dropout)\n",
        "    self.blks = nn.Sequential()\n",
        "\n",
        "    for i in range(num_layers):\n",
        "      self.blks.add_module(\n",
        "          \"block \" + str(i),\n",
        "          EncoderBlock(key_size, query_size, value_size, num_hiddens,\n",
        "                 norm_shape, ffn_num_input, ffn_num_hiddens, num_heads,\n",
        "                 dropout, use_bias))\n",
        "  # X: (batch_size x num_steps)\n",
        "  # mask: (batch_size*num_heads x 1 x  num_steps)\n",
        "  def forward(self, X, mask):\n",
        "    X = self.pos_encoding(self.embedding(X) * math.sqrt(self.num_hiddens))\n",
        "    # X: (batch_size x num_steps x num_hiddens)\n",
        "\n",
        "    self.attention_weights = [None]*len(self.blks)\n",
        "\n",
        "    for i, blk in enumerate(self.blks):\n",
        "      # X: (batch_size x num_steps x num_hiddens)\n",
        "      X = blk(X, mask)\n",
        "      self.attention_weights[i] = blk.attention.attention.attention_weights\n",
        "\n",
        "    # return shape: (batch_size x num_steps x num_hiddens)\n",
        "    return X"
      ],
      "execution_count": null,
      "outputs": []
    },
    {
      "cell_type": "code",
      "metadata": {
        "colab": {
          "base_uri": "https://localhost:8080/"
        },
        "id": "vAxsQIiz-BF0",
        "outputId": "47497e97-6c05-4bf9-8613-77a8add8cfa3"
      },
      "source": [
        "encoder = TransformerEncoder(200, 24, 24, 24, 24, [100, 24], 24, 48, 8, 2, 0.5)\n",
        "encoder.eval()\n",
        "mask = torch.stack([torch.cat((torch.zeros(3), torch.ones(97))),\n",
        "                    torch.cat((torch.zeros(2), torch.ones(98)))]).unsqueeze(1).type(torch.bool).repeat_interleave(8, dim=0)\n",
        "encoder(torch.ones((2, 100), dtype=torch.long), mask).shape"
      ],
      "execution_count": null,
      "outputs": [
        {
          "output_type": "execute_result",
          "data": {
            "text/plain": [
              "torch.Size([2, 100, 24])"
            ]
          },
          "metadata": {
            "tags": []
          },
          "execution_count": 23
        }
      ]
    },
    {
      "cell_type": "code",
      "metadata": {
        "id": "-BSK5hybeeSO"
      },
      "source": [
        "class DecoderBlock(nn.Module):\n",
        "  def __init__(self, key_size, query_size, value_size, num_hiddens,\n",
        "                 norm_shape, ffn_num_input, ffn_num_hiddens, num_heads,\n",
        "                 dropout, i):\n",
        "    super().__init__()\n",
        "    self.i = i\n",
        "    self.num_heads = num_heads\n",
        "    self.attention1 = MultiheadAttention(key_size, query_size, value_size, num_hiddens, num_heads, dropout)\n",
        "    # self.attention1 = DotProductAttention(dropout)\n",
        "    self.addnorm1 = AddNorm(norm_shape, dropout)\n",
        "    self.attention2 = MultiheadAttention(key_size, query_size, value_size, num_hiddens, num_heads, dropout)\n",
        "    self.addnorm2 = AddNorm(norm_shape, dropout)\n",
        "    self.ffn = PositionWiseFFN(ffn_num_input, ffn_num_hiddens, num_hiddens)\n",
        "    self.addnorm3 = AddNorm(norm_shape, dropout)\n",
        "\n",
        "\n",
        "  # X:                 (batch_size x num_steps, num_hiddens)\n",
        "  # state: [(batch_size x num_steps x num_hiddens), (batch_size*num_heads x num_steps), [None]*self.num_layers]\n",
        "  def forward(self, X, state):\n",
        "    enc_outputs, enc_mask = state[0], state[1]\n",
        "    # enc_outputs: (batch_size x num_steps x num_hiddens)\n",
        "    # enc_mask:    (batch_size*num_heads x num_steps)\n",
        "\n",
        "    if state[2][self.i] is None:\n",
        "      key_values = X\n",
        "      # key_values: (batch_size x num_steps x num_hiddens)\n",
        "    else:\n",
        "      key_values = torch.cat([state[2][self.i], X], axis = 1)\n",
        "      # never run in here?\n",
        "      # print(\"layer\", self.i, \"key_values.shape\", key_values.shape)\n",
        "    state[2][self.i] = key_values\n",
        "\n",
        "    batch_size, num_steps, _ = X.shape\n",
        "    if self.training:\n",
        "      # spectial mask for each time step\n",
        "      dec_mask = torch.ones(batch_size, num_steps, num_steps).triu(diagonal=1).type(torch.bool).repeat(self.num_heads, 1, 1).to(device)\n",
        "      # dec_mask = torch.zeros(batch_size, num_steps).type(torch.bool).unsqueeze(1)#.repeat(self.num_heads, 1, 1).to(device)\n",
        "      # dec_mask: (batch_size*num_heads, 1, num_steps)\n",
        "    else:\n",
        "      dec_mask = torch.zeros(batch_size, num_steps, num_steps).type(torch.bool).repeat(self.num_heads, 1, 1).to(device)\n",
        "      # dec_mask: (batch_size*num_heads, 1, num_steps)\n",
        "    \n",
        "    # self attention?\n",
        "    X2 = self.attention1(X, key_values, key_values, dec_mask)\n",
        "    # X2: (batch_size x num_steps x num_hiddens)\n",
        "    \n",
        "    Y = self.addnorm1(X, X2)\n",
        "    # Y: (batch_size x num_steps x num_hiddens)\n",
        "\n",
        "    Y2 = self.attention2(Y, enc_outputs, enc_outputs, enc_mask)\n",
        "    # Y2: (batch_size x num_steps x num_hiddens)\n",
        "    Z = self.addnorm2(Y, Y2)\n",
        "    # Z: (batch_size x num_steps x num_hiddens)\n",
        "\n",
        "    output = self.addnorm3(Z, self.ffn(Z))\n",
        "    # output: (batch_size x num_steps x num_hiddens)\n",
        "    # state[2][self.i] is updated\n",
        "    return output, state"
      ],
      "execution_count": null,
      "outputs": []
    },
    {
      "cell_type": "code",
      "metadata": {
        "id": "7HiFDMByMN1C",
        "colab": {
          "base_uri": "https://localhost:8080/"
        },
        "outputId": "3d1ef8a1-a48f-4c6e-b974-7dcb7129d970"
      },
      "source": [
        "# How decoder mask work\n",
        "mask = torch.ones(2, 5, 5).triu(diagonal=1).type(torch.bool).repeat(2, 1, 1).to(device)\n",
        "a = torch.rand((4, 5, 5))\n",
        "F.softmax(a.masked_fill(mask=mask, value=-np.inf), dim=-1),  mask"
      ],
      "execution_count": null,
      "outputs": [
        {
          "output_type": "execute_result",
          "data": {
            "text/plain": [
              "(tensor([[[1.0000, 0.0000, 0.0000, 0.0000, 0.0000],\n",
              "          [0.5613, 0.4387, 0.0000, 0.0000, 0.0000],\n",
              "          [0.3536, 0.3291, 0.3173, 0.0000, 0.0000],\n",
              "          [0.3614, 0.3127, 0.1595, 0.1663, 0.0000],\n",
              "          [0.1973, 0.1921, 0.2102, 0.2381, 0.1623]],\n",
              " \n",
              "         [[1.0000, 0.0000, 0.0000, 0.0000, 0.0000],\n",
              "          [0.5129, 0.4871, 0.0000, 0.0000, 0.0000],\n",
              "          [0.2963, 0.4471, 0.2566, 0.0000, 0.0000],\n",
              "          [0.2521, 0.2197, 0.3099, 0.2182, 0.0000],\n",
              "          [0.2073, 0.1821, 0.1760, 0.2480, 0.1866]],\n",
              " \n",
              "         [[1.0000, 0.0000, 0.0000, 0.0000, 0.0000],\n",
              "          [0.6456, 0.3544, 0.0000, 0.0000, 0.0000],\n",
              "          [0.3208, 0.3301, 0.3491, 0.0000, 0.0000],\n",
              "          [0.2718, 0.3260, 0.1964, 0.2058, 0.0000],\n",
              "          [0.1259, 0.2986, 0.1478, 0.2413, 0.1864]],\n",
              " \n",
              "         [[1.0000, 0.0000, 0.0000, 0.0000, 0.0000],\n",
              "          [0.6475, 0.3525, 0.0000, 0.0000, 0.0000],\n",
              "          [0.2071, 0.4735, 0.3194, 0.0000, 0.0000],\n",
              "          [0.2633, 0.2893, 0.2339, 0.2135, 0.0000],\n",
              "          [0.2092, 0.2526, 0.2606, 0.1442, 0.1334]]]),\n",
              " tensor([[[False,  True,  True,  True,  True],\n",
              "          [False, False,  True,  True,  True],\n",
              "          [False, False, False,  True,  True],\n",
              "          [False, False, False, False,  True],\n",
              "          [False, False, False, False, False]],\n",
              " \n",
              "         [[False,  True,  True,  True,  True],\n",
              "          [False, False,  True,  True,  True],\n",
              "          [False, False, False,  True,  True],\n",
              "          [False, False, False, False,  True],\n",
              "          [False, False, False, False, False]],\n",
              " \n",
              "         [[False,  True,  True,  True,  True],\n",
              "          [False, False,  True,  True,  True],\n",
              "          [False, False, False,  True,  True],\n",
              "          [False, False, False, False,  True],\n",
              "          [False, False, False, False, False]],\n",
              " \n",
              "         [[False,  True,  True,  True,  True],\n",
              "          [False, False,  True,  True,  True],\n",
              "          [False, False, False,  True,  True],\n",
              "          [False, False, False, False,  True],\n",
              "          [False, False, False, False, False]]]))"
            ]
          },
          "metadata": {
            "tags": []
          },
          "execution_count": 25
        }
      ]
    },
    {
      "cell_type": "code",
      "metadata": {
        "colab": {
          "base_uri": "https://localhost:8080/"
        },
        "id": "jTouzd1930C6",
        "outputId": "8f9b86da-b086-4f3f-899a-cb5d55fd618e"
      },
      "source": [
        "decoder_blk = DecoderBlock(24, 24, 24, 24, [24], 24, 48, 8, 0.5, 0)\n",
        "decoder_blk.eval()\n",
        "X = torch.ones((2, 100, 24))\n",
        "mask = torch.stack([torch.cat((torch.zeros(3), torch.ones(97))),\n",
        "                    torch.cat((torch.zeros(2), torch.ones(98)))]).unsqueeze(2).type(torch.bool).repeat_interleave(8, dim=0)\n",
        "state = [encoder_blk(X, mask), mask, [None]]\n",
        "decoder_blk(X, state)[0].shape"
      ],
      "execution_count": null,
      "outputs": [
        {
          "output_type": "execute_result",
          "data": {
            "text/plain": [
              "torch.Size([2, 100, 24])"
            ]
          },
          "metadata": {
            "tags": []
          },
          "execution_count": 26
        }
      ]
    },
    {
      "cell_type": "code",
      "metadata": {
        "id": "PLlVBDfQAeXe"
      },
      "source": [
        "class TransformerDecoder(nn.Module):\n",
        "  def __init__(self, vocab_size, key_size, query_size, value_size, num_hiddens,\n",
        "                 norm_shape, ffn_num_input, ffn_num_hiddens, num_heads, num_layers,\n",
        "                 dropout):\n",
        "    super().__init__()\n",
        "    self.num_hiddens = num_hiddens\n",
        "    self.num_layers = num_layers\n",
        "\n",
        "    self.embedding = nn.Embedding(vocab_size, num_hiddens)\n",
        "    self.pos_encoding = PositionalEncoding(num_hiddens, dropout)\n",
        "    self.blks = nn.Sequential()\n",
        "    for i in range(num_layers):\n",
        "      self.blks.add_module(\n",
        "          'block' + str(i),\n",
        "          DecoderBlock(key_size, query_size, value_size, num_hiddens,\n",
        "                 norm_shape, ffn_num_input, ffn_num_hiddens, num_heads,\n",
        "                 dropout, i)\n",
        "      )\n",
        "      self.dense = nn.Linear(num_hiddens, vocab_size)\n",
        "  def init_state(self, enc_outputs, mask):\n",
        "    return [enc_outputs, mask, [None]*self.num_layers]\n",
        "\n",
        "  # X    : (batch_size x num_steps)\n",
        "  # state: [(batch_size x num_steps x num_hiddens), (batch_size*num_heads x num_steps), [None]*self.num_layers]\n",
        "  def forward(self, X, state):\n",
        "    \n",
        "    X = self.pos_encoding(self.embedding(X)*math.sqrt(self.num_hiddens))\n",
        "    # self.embedding(X): (batch_size x num_steps, num_hiddens)\n",
        "    # X:                 (batch_size x num_steps, num_hiddens)\n",
        "    \n",
        "    self._attention_weights = [[None] * len(self.blks) for _ in range(2)]\n",
        "\n",
        "    for i, blk in enumerate(self.blks):\n",
        "      X, state = blk(X, state)\n",
        "      # X: (batch_size x num_steps x num_hiddens)\n",
        "      # [(batch_size x num_steps x num_hiddens), (batch_size*num_heads x num_steps), [(state)]]\n",
        "      self._attention_weights[0][i] = blk.attention1.attention.attention_weights\n",
        "      self._attention_weights[1][i] = blk.attention2.attention.attention_weights\n",
        "    \n",
        "    # return shape: (batch_size x num_steps x vocab_size), [(state)]\n",
        "    return self.dense(X), state\n",
        "  def attention_weights(self):\n",
        "    return self._attention_weights"
      ],
      "execution_count": null,
      "outputs": []
    },
    {
      "cell_type": "code",
      "metadata": {
        "id": "f4ndnrxcDIrl",
        "colab": {
          "base_uri": "https://localhost:8080/"
        },
        "outputId": "f752da96-8a04-4857-d4cf-c907c83d9287"
      },
      "source": [
        "encoder = TransformerEncoder(200, 24, 24, 24, 24, [100, 24], 24, 48, 8, 2, 0.5)\n",
        "encoder.eval()\n",
        "mask = torch.stack([torch.cat((torch.zeros(3), torch.ones(97))),\n",
        "                    torch.cat((torch.zeros(2), torch.ones(98)))]).unsqueeze(2).type(torch.bool).repeat_interleave(8, dim=0)\n",
        "enc_outputs = encoder(torch.ones((2, 100), dtype=torch.long), mask)\n",
        "\n",
        "decoder = TransformerDecoder(200, 24, 24, 24, 24, [100, 24], 24, 48, 8, 2, 0.5)\n",
        "dec_state = decoder.init_state(enc_outputs, mask)\n",
        "# dec_X = torch.tensor([[2]*2]).reshape(-1, 1)\n",
        "decoder(torch.ones((2, 100), dtype=torch.long), dec_state)[0].shape"
      ],
      "execution_count": null,
      "outputs": [
        {
          "output_type": "execute_result",
          "data": {
            "text/plain": [
              "torch.Size([2, 100, 200])"
            ]
          },
          "metadata": {
            "tags": []
          },
          "execution_count": 28
        }
      ]
    },
    {
      "cell_type": "code",
      "metadata": {
        "id": "3Pkf84fe0oeR"
      },
      "source": [
        "class Seq2Seq(nn.Module):\n",
        "    def __init__(self,\n",
        "                 encoder: nn.Module,\n",
        "                 decoder: nn.Module,\n",
        "                 pad_idx: int,\n",
        "                 device: torch.device,):\n",
        "        super().__init__()\n",
        "\n",
        "        self.encoder = encoder\n",
        "        self.decoder = decoder\n",
        "        self.pad_idx = pad_idx\n",
        "        self.device = device\n",
        "    def create_mask(self, src, num_heads):\n",
        "      return (src == self.pad_idx).unsqueeze(1).type(torch.bool).repeat_interleave(num_heads, dim=0).to(device)\n",
        "    # enc_X: (batch_size x num_steps)\n",
        "    # dec_X: (batch_size x num_steps)\n",
        "    def forward(self,\n",
        "                enc_X: Tensor,\n",
        "                dec_X: Tensor) -> Tensor:\n",
        "        mask = self.create_mask(enc_X, self.encoder.num_heads).to(self.device)\n",
        "        # mask: (batch_size*num_heads x 1 x num_steps)\n",
        "\n",
        "        enc_outputs = self.encoder(enc_X, mask)\n",
        "        # enc_outputs: (batch_size x num_steps x num_hiddens)\n",
        "\n",
        "        dec_state = self.decoder.init_state(enc_outputs, mask)\n",
        "        # dec_state: [enc_outputs, mask, [None]*self.num_layers]\n",
        "        # [(batch_size x num_steps x num_hiddens), (batch_size*num_heads x num_steps), [None]*self.num_layers]\n",
        "\n",
        "        # return shape: (batch_size x num_steps x vocab_size)\n",
        "        return self.decoder(dec_X, dec_state)"
      ],
      "execution_count": null,
      "outputs": []
    },
    {
      "cell_type": "code",
      "metadata": {
        "id": "_0NQ7jOm0pgT"
      },
      "source": [
        "def train_seq2seq(net, data_iter, lr, num_epochs, no_tone_vocab, device):\n",
        "    def xavier_init_weights(m):\n",
        "        if type(m) == nn.Linear:\n",
        "            nn.init.xavier_uniform_(m.weight)\n",
        "        if type(m) == nn.GRU:\n",
        "            for param in m._flat_weights_names:\n",
        "                if \"weight\" in param:\n",
        "                    nn.init.xavier_uniform_(m._parameters[param])\n",
        "    net.apply(xavier_init_weights)\n",
        "    net.to(device)\n",
        "    \n",
        "    optimizer = torch.optim.Adam(net.parameters(), lr=lr)\n",
        "    \n",
        "    PAD_IDX = tone_vocab.stoi['<pad>']\n",
        "    loss = nn.CrossEntropyLoss(ignore_index=PAD_IDX)\n",
        "    net.train()\n",
        "    \n",
        "    for epoch in range(num_epochs):\n",
        "        epoch_loss = 0\n",
        "        for batch in tqdm(data_iter, position=0, leave=True):\n",
        "            optimizer.zero_grad()\n",
        "            \n",
        "            X, Y = [x.to(device) for x in batch]\n",
        "            # X: (batch_size x num_steps)\n",
        "            # Y: (batch_size x num_steps)\n",
        "            bos = torch.tensor([tone_vocab.stoi['<bos>']]*Y.shape[0], device=device).reshape(-1, 1)\n",
        "            dec_input = torch.cat([bos, Y[:, :-1]], 1) # teacher forcing\n",
        "            # dec_input: (batch_size x Y.shape[1] - 1) remove last <eos>\n",
        "            \n",
        "            Y_hat, _ = net(X, dec_input)\n",
        "            # Y_hat: (batch_size x num_steps x vocab_size)\n",
        "            # Y: (batch_size x num_steps)\n",
        "            l = loss(Y_hat.permute(0, 2, 1), Y)#nn.functional.one_hot(Y, len(no_tone_vocab)).squeeze())\n",
        "            \n",
        "            l.sum().backward()\n",
        "            \n",
        "            # clip gradient\n",
        "            torch.nn.utils.clip_grad_norm_(net.parameters(), 1)\n",
        "            optimizer.step()\n",
        "            epoch_loss += l.item()\n",
        "        if ((epoch + 1) % 1 == 0):\n",
        "            print(f'Epoch {epoch}, Loss {epoch_loss/len(data_iter):.10f}')"
      ],
      "execution_count": null,
      "outputs": []
    },
    {
      "cell_type": "code",
      "metadata": {
        "id": "sC4AMyRyJt4I"
      },
      "source": [
        "# def evaluate_seq2seq(net, data_iter, device):\n",
        "#   net.eval()\n",
        "\n",
        "#   with torch.no_grad():\n",
        "#     for batch in tqdm(data_iter, position=0, leave=True):\n",
        "#       X, Y = [x.to(device) for x in batch]\n",
        "\n",
        "#       dec_X = torch.tensor([tone_vocab.stoi['<bos>']]*Y.shape[0], device=device).reshape(-1, 1)\n",
        "#       mask = (X == PAD_IDX).unsqueeze(1).type(torch.bool).repeat_interleave(net.encoder.num_heads, dim=0).to(device)\n",
        "#       enc_outputs = net.encoder(enc_X, mask)\n",
        "#       dec_state = net.decoder.init_state(enc_outputs, mask)#.repeat((1, beam_size, 1))\n",
        "\n",
        "#       for i in range(max_length):\n",
        "#         Y, dec_state = net.decoder(dec_X, dec_state)\n",
        "\n",
        "#         dec_X = Y.argmax(dim=2)"
      ],
      "execution_count": null,
      "outputs": []
    },
    {
      "cell_type": "code",
      "metadata": {
        "id": "QHQjcmYQ5so2"
      },
      "source": [
        "def evaluate(net, sentence, no_tone_vocab, tone_vocab, max_length, device, beam_size):\n",
        "  net.eval()\n",
        "\n",
        "  src_tokens = [no_tone_vocab.stoi[word] for word in sentence.lower().split(\" \")] + [no_tone_vocab.stoi['<eos>']]\n",
        "\n",
        "  # print(src_tokens)\n",
        "  # unsqueeze add more axis (add batch axis)\n",
        "  enc_X = torch.unsqueeze(\n",
        "      torch.tensor(src_tokens, dtype=torch.long, device=device), dim=0\n",
        "  )\n",
        "\n",
        "  # create mask for encoder\n",
        "  # mask: (batch_size*num_heads x 1 x num_steps)\n",
        "  mask = (enc_X == PAD_IDX).unsqueeze(1).type(torch.bool).repeat_interleave(net.encoder.num_heads, dim=0).to(device)\n",
        "  with torch.no_grad():\n",
        "    enc_outputs = net.encoder(enc_X, mask)\n",
        "    # enc_outputs: (batch_size x num_steps x num_hiddens)\n",
        "  \n",
        "  \n",
        "  dec_state = net.decoder.init_state(enc_outputs, mask)#.repeat((1, beam_size, 1))\n",
        "  # dec_state: [enc_outputs, mask, [None]*self.num_layers]\n",
        "  # [(batch_size x num_steps x num_hiddens), (batch_size*num_heads x num_steps), [None]*self.num_layers]\n",
        "\n",
        "  dec_state[0] = dec_state[0].repeat((beam_size, 1, 1))\n",
        "  dec_state[1] = dec_state[1].repeat((beam_size, 1, 1))\n",
        "\n",
        "  beam = [Beam(beam_size, 1, 2, 3, GNMTGlobalScorer(), 5) for _ in range(1)]\n",
        "\n",
        "  for i in range(max_length):\n",
        "    if all((b.done() for b in beam)):\n",
        "      break\n",
        "    with torch.no_grad():\n",
        "      # beam search automatically return <bos> in the first time\n",
        "      dec_X = torch.stack([b.get_current_state() for b in beam]).t().contiguous().view(1, -1).t().to(device)\n",
        "      # dec_state = dec_state.squeeze(0)\n",
        "      # print(\"dec_X.shape\", dec_X.shape, \"dec_state.shape\", dec_state.shape)    \n",
        "      Y, dec_state = net.decoder(dec_X, dec_state)\n",
        "      # print(\"Y.shape after passed to decoder\", Y.shape)\n",
        "      # (beam_size, vocab_size)\n",
        "      # Y = Y.squeeze(dim=1)\n",
        "      # Y = Y.log()\n",
        "\n",
        "      select_indices_array = []\n",
        "      for j, b in enumerate(beam):\n",
        "        # print(\"Y.shape\", Y.shape)\n",
        "        # print(\"Y[:, j].shape\", Y[:, j].shape)\n",
        "        b.advance(Y[:, j])\n",
        "        \n",
        "      \n",
        "      # select_indices_array.append(b.get_current_origin() * 1 + j)\n",
        "      # print(\"select_indices_array\", select_indices_array)\n",
        "      # select_indices = torch.cat(select_indices_array) \\\n",
        "      #                 .view(1, beam_size) \\\n",
        "      #                 .transpose(0, 1) \\\n",
        "      #                 .contiguous() \\\n",
        "      #                 .view(-1).type(torch.int32).to(device)\n",
        "      # print(\"select_indices\", select_indices)\n",
        "      # dec_state = dec_state.index_select(1, select_indices)\n",
        "  ret = _from_beam(beam)\n",
        "  return ret\n"
      ],
      "execution_count": null,
      "outputs": []
    },
    {
      "cell_type": "code",
      "metadata": {
        "id": "_QjCGct6icic"
      },
      "source": [
        "def inference(x):\n",
        "  "
      ],
      "execution_count": null,
      "outputs": []
    },
    {
      "cell_type": "markdown",
      "metadata": {
        "id": "WwLCaEJU0kjK"
      },
      "source": [
        "# Load pre-trained model"
      ]
    },
    {
      "cell_type": "code",
      "metadata": {
        "id": "DSWmeEtQWSoD",
        "colab": {
          "base_uri": "https://localhost:8080/"
        },
        "outputId": "7b469ea1-2e15-43fd-dd5b-eb988b29d252"
      },
      "source": [
        "tone_vocab_size = len(tone_vocab)\n",
        "no_tone_vocab_size = len(no_tone_vocab)\n",
        "\n",
        "num_hiddens, num_layers, dropout, batch_size, num_steps = 128, 2, 0.0, 128, 10\n",
        "lr, num_epochs = 0.001, 20\n",
        "ffn_num_input, ffn_num_hiddens, num_heads = 128, 256, 4\n",
        "key_size, query_size, value_size = 128, 128, 128\n",
        "norm_shape = [128]\n",
        "\n",
        "enc = TransformerEncoder(no_tone_vocab_size, key_size, query_size, value_size,\n",
        "                          num_hiddens, norm_shape, ffn_num_input,\n",
        "                          ffn_num_hiddens, num_heads, num_layers, dropout)\n",
        "\n",
        "dec = TransformerDecoder(tone_vocab_size, key_size, query_size, value_size,\n",
        "                          num_hiddens, norm_shape, ffn_num_input,\n",
        "                          ffn_num_hiddens, num_heads, num_layers, dropout)\n",
        "\n",
        "net = Seq2Seq(enc, dec, tone_vocab.stoi['<pad>'], device).to(device)\n",
        "\n",
        "net.load_state_dict(torch.load(\"/content/drive/MyDrive/Colab Notebooks/transformers_weights.pth\", map_location=torch.device('cpu')))\n",
        "net.eval()"
      ],
      "execution_count": null,
      "outputs": [
        {
          "output_type": "execute_result",
          "data": {
            "text/plain": [
              "Seq2Seq(\n",
              "  (encoder): TransformerEncoder(\n",
              "    (embedding): Embedding(2248, 128)\n",
              "    (pos_encoding): PositionalEncoding(\n",
              "      (dropout): Dropout(p=0.0, inplace=False)\n",
              "    )\n",
              "    (blks): Sequential(\n",
              "      (block 0): EncoderBlock(\n",
              "        (attention): MultiheadAttention(\n",
              "          (attention): DotProductAttention(\n",
              "            (dropout): Dropout(p=0.0, inplace=False)\n",
              "          )\n",
              "          (W_q): Linear(in_features=128, out_features=128, bias=False)\n",
              "          (W_k): Linear(in_features=128, out_features=128, bias=False)\n",
              "          (W_v): Linear(in_features=128, out_features=128, bias=False)\n",
              "          (W_o): Linear(in_features=128, out_features=128, bias=False)\n",
              "        )\n",
              "        (addnorm1): AddNorm(\n",
              "          (dropout): Dropout(p=0.0, inplace=False)\n",
              "          (ln): LayerNorm((128,), eps=1e-05, elementwise_affine=True)\n",
              "        )\n",
              "        (ffn): PositionWiseFFN(\n",
              "          (dense1): Linear(in_features=128, out_features=256, bias=True)\n",
              "          (relu): ReLU()\n",
              "          (dense2): Linear(in_features=256, out_features=128, bias=True)\n",
              "        )\n",
              "        (addnorm2): AddNorm(\n",
              "          (dropout): Dropout(p=0.0, inplace=False)\n",
              "          (ln): LayerNorm((128,), eps=1e-05, elementwise_affine=True)\n",
              "        )\n",
              "      )\n",
              "      (block 1): EncoderBlock(\n",
              "        (attention): MultiheadAttention(\n",
              "          (attention): DotProductAttention(\n",
              "            (dropout): Dropout(p=0.0, inplace=False)\n",
              "          )\n",
              "          (W_q): Linear(in_features=128, out_features=128, bias=False)\n",
              "          (W_k): Linear(in_features=128, out_features=128, bias=False)\n",
              "          (W_v): Linear(in_features=128, out_features=128, bias=False)\n",
              "          (W_o): Linear(in_features=128, out_features=128, bias=False)\n",
              "        )\n",
              "        (addnorm1): AddNorm(\n",
              "          (dropout): Dropout(p=0.0, inplace=False)\n",
              "          (ln): LayerNorm((128,), eps=1e-05, elementwise_affine=True)\n",
              "        )\n",
              "        (ffn): PositionWiseFFN(\n",
              "          (dense1): Linear(in_features=128, out_features=256, bias=True)\n",
              "          (relu): ReLU()\n",
              "          (dense2): Linear(in_features=256, out_features=128, bias=True)\n",
              "        )\n",
              "        (addnorm2): AddNorm(\n",
              "          (dropout): Dropout(p=0.0, inplace=False)\n",
              "          (ln): LayerNorm((128,), eps=1e-05, elementwise_affine=True)\n",
              "        )\n",
              "      )\n",
              "    )\n",
              "  )\n",
              "  (decoder): TransformerDecoder(\n",
              "    (embedding): Embedding(4136, 128)\n",
              "    (pos_encoding): PositionalEncoding(\n",
              "      (dropout): Dropout(p=0.0, inplace=False)\n",
              "    )\n",
              "    (blks): Sequential(\n",
              "      (block0): DecoderBlock(\n",
              "        (attention1): MultiheadAttention(\n",
              "          (attention): DotProductAttention(\n",
              "            (dropout): Dropout(p=0.0, inplace=False)\n",
              "          )\n",
              "          (W_q): Linear(in_features=128, out_features=128, bias=False)\n",
              "          (W_k): Linear(in_features=128, out_features=128, bias=False)\n",
              "          (W_v): Linear(in_features=128, out_features=128, bias=False)\n",
              "          (W_o): Linear(in_features=128, out_features=128, bias=False)\n",
              "        )\n",
              "        (addnorm1): AddNorm(\n",
              "          (dropout): Dropout(p=0.0, inplace=False)\n",
              "          (ln): LayerNorm((128,), eps=1e-05, elementwise_affine=True)\n",
              "        )\n",
              "        (attention2): MultiheadAttention(\n",
              "          (attention): DotProductAttention(\n",
              "            (dropout): Dropout(p=0.0, inplace=False)\n",
              "          )\n",
              "          (W_q): Linear(in_features=128, out_features=128, bias=False)\n",
              "          (W_k): Linear(in_features=128, out_features=128, bias=False)\n",
              "          (W_v): Linear(in_features=128, out_features=128, bias=False)\n",
              "          (W_o): Linear(in_features=128, out_features=128, bias=False)\n",
              "        )\n",
              "        (addnorm2): AddNorm(\n",
              "          (dropout): Dropout(p=0.0, inplace=False)\n",
              "          (ln): LayerNorm((128,), eps=1e-05, elementwise_affine=True)\n",
              "        )\n",
              "        (ffn): PositionWiseFFN(\n",
              "          (dense1): Linear(in_features=128, out_features=256, bias=True)\n",
              "          (relu): ReLU()\n",
              "          (dense2): Linear(in_features=256, out_features=128, bias=True)\n",
              "        )\n",
              "        (addnorm3): AddNorm(\n",
              "          (dropout): Dropout(p=0.0, inplace=False)\n",
              "          (ln): LayerNorm((128,), eps=1e-05, elementwise_affine=True)\n",
              "        )\n",
              "      )\n",
              "      (block1): DecoderBlock(\n",
              "        (attention1): MultiheadAttention(\n",
              "          (attention): DotProductAttention(\n",
              "            (dropout): Dropout(p=0.0, inplace=False)\n",
              "          )\n",
              "          (W_q): Linear(in_features=128, out_features=128, bias=False)\n",
              "          (W_k): Linear(in_features=128, out_features=128, bias=False)\n",
              "          (W_v): Linear(in_features=128, out_features=128, bias=False)\n",
              "          (W_o): Linear(in_features=128, out_features=128, bias=False)\n",
              "        )\n",
              "        (addnorm1): AddNorm(\n",
              "          (dropout): Dropout(p=0.0, inplace=False)\n",
              "          (ln): LayerNorm((128,), eps=1e-05, elementwise_affine=True)\n",
              "        )\n",
              "        (attention2): MultiheadAttention(\n",
              "          (attention): DotProductAttention(\n",
              "            (dropout): Dropout(p=0.0, inplace=False)\n",
              "          )\n",
              "          (W_q): Linear(in_features=128, out_features=128, bias=False)\n",
              "          (W_k): Linear(in_features=128, out_features=128, bias=False)\n",
              "          (W_v): Linear(in_features=128, out_features=128, bias=False)\n",
              "          (W_o): Linear(in_features=128, out_features=128, bias=False)\n",
              "        )\n",
              "        (addnorm2): AddNorm(\n",
              "          (dropout): Dropout(p=0.0, inplace=False)\n",
              "          (ln): LayerNorm((128,), eps=1e-05, elementwise_affine=True)\n",
              "        )\n",
              "        (ffn): PositionWiseFFN(\n",
              "          (dense1): Linear(in_features=128, out_features=256, bias=True)\n",
              "          (relu): ReLU()\n",
              "          (dense2): Linear(in_features=256, out_features=128, bias=True)\n",
              "        )\n",
              "        (addnorm3): AddNorm(\n",
              "          (dropout): Dropout(p=0.0, inplace=False)\n",
              "          (ln): LayerNorm((128,), eps=1e-05, elementwise_affine=True)\n",
              "        )\n",
              "      )\n",
              "    )\n",
              "    (dense): Linear(in_features=128, out_features=4136, bias=True)\n",
              "  )\n",
              ")"
            ]
          },
          "metadata": {
            "tags": []
          },
          "execution_count": 37
        }
      ]
    },
    {
      "cell_type": "code",
      "metadata": {
        "colab": {
          "base_uri": "https://localhost:8080/"
        },
        "id": "iqi2gA5-XRUO",
        "outputId": "d1b4bd0b-4c49-413d-e600-2e803879a915"
      },
      "source": [
        "def count_parameters(model: nn.Module):\n",
        "    return sum(p.numel() for p in model.parameters() if p.requires_grad)\n",
        "\n",
        "\n",
        "print(f'The model has {count_parameters(net):,} trainable parameters')"
      ],
      "execution_count": null,
      "outputs": [
        {
          "output_type": "stream",
          "text": [
            "The model has 2,010,152 trainable parameters\n"
          ],
          "name": "stdout"
        }
      ]
    },
    {
      "cell_type": "code",
      "metadata": {
        "colab": {
          "base_uri": "https://localhost:8080/"
        },
        "id": "Suq2xMLoXxmx",
        "outputId": "7e49326b-e1dd-490f-8e34-79b5743e86a2"
      },
      "source": [
        "train_seq2seq(net, train_iter, lr, num_epochs, no_tone_vocab, device)"
      ],
      "execution_count": null,
      "outputs": [
        {
          "output_type": "stream",
          "text": [
            "100%|██████████| 1563/1563 [00:34<00:00, 44.89it/s]\n",
            "  0%|          | 5/1563 [00:00<00:35, 44.04it/s]"
          ],
          "name": "stderr"
        },
        {
          "output_type": "stream",
          "text": [
            "Epoch 0, Loss 4.5241308659\n"
          ],
          "name": "stdout"
        },
        {
          "output_type": "stream",
          "text": [
            "100%|██████████| 1563/1563 [00:34<00:00, 44.83it/s]\n",
            "  0%|          | 5/1563 [00:00<00:37, 41.86it/s]"
          ],
          "name": "stderr"
        },
        {
          "output_type": "stream",
          "text": [
            "Epoch 1, Loss 1.8142873072\n"
          ],
          "name": "stdout"
        },
        {
          "output_type": "stream",
          "text": [
            "100%|██████████| 1563/1563 [00:34<00:00, 44.69it/s]\n",
            "  0%|          | 5/1563 [00:00<00:37, 41.71it/s]"
          ],
          "name": "stderr"
        },
        {
          "output_type": "stream",
          "text": [
            "Epoch 2, Loss 1.2322631132\n"
          ],
          "name": "stdout"
        },
        {
          "output_type": "stream",
          "text": [
            "100%|██████████| 1563/1563 [00:35<00:00, 44.62it/s]\n",
            "  0%|          | 5/1563 [00:00<00:34, 45.64it/s]"
          ],
          "name": "stderr"
        },
        {
          "output_type": "stream",
          "text": [
            "Epoch 3, Loss 0.9823733826\n"
          ],
          "name": "stdout"
        },
        {
          "output_type": "stream",
          "text": [
            "100%|██████████| 1563/1563 [00:35<00:00, 44.48it/s]\n",
            "  0%|          | 5/1563 [00:00<00:36, 43.12it/s]"
          ],
          "name": "stderr"
        },
        {
          "output_type": "stream",
          "text": [
            "Epoch 4, Loss 0.8440905663\n"
          ],
          "name": "stdout"
        },
        {
          "output_type": "stream",
          "text": [
            "100%|██████████| 1563/1563 [00:34<00:00, 44.69it/s]\n",
            "  0%|          | 5/1563 [00:00<00:37, 41.24it/s]"
          ],
          "name": "stderr"
        },
        {
          "output_type": "stream",
          "text": [
            "Epoch 5, Loss 0.7178445387\n"
          ],
          "name": "stdout"
        },
        {
          "output_type": "stream",
          "text": [
            "100%|██████████| 1563/1563 [00:35<00:00, 44.50it/s]\n",
            "  0%|          | 5/1563 [00:00<00:34, 44.80it/s]"
          ],
          "name": "stderr"
        },
        {
          "output_type": "stream",
          "text": [
            "Epoch 6, Loss 0.6424244722\n"
          ],
          "name": "stdout"
        },
        {
          "output_type": "stream",
          "text": [
            "100%|██████████| 1563/1563 [00:35<00:00, 44.54it/s]\n",
            "  0%|          | 5/1563 [00:00<00:37, 41.39it/s]"
          ],
          "name": "stderr"
        },
        {
          "output_type": "stream",
          "text": [
            "Epoch 7, Loss 0.5635342047\n"
          ],
          "name": "stdout"
        },
        {
          "output_type": "stream",
          "text": [
            "100%|██████████| 1563/1563 [00:35<00:00, 44.46it/s]\n",
            "  0%|          | 5/1563 [00:00<00:34, 44.72it/s]"
          ],
          "name": "stderr"
        },
        {
          "output_type": "stream",
          "text": [
            "Epoch 8, Loss 0.5156823907\n"
          ],
          "name": "stdout"
        },
        {
          "output_type": "stream",
          "text": [
            "100%|██████████| 1563/1563 [00:35<00:00, 44.44it/s]\n",
            "  0%|          | 5/1563 [00:00<00:36, 43.02it/s]"
          ],
          "name": "stderr"
        },
        {
          "output_type": "stream",
          "text": [
            "Epoch 9, Loss 0.4828316741\n"
          ],
          "name": "stdout"
        },
        {
          "output_type": "stream",
          "text": [
            "100%|██████████| 1563/1563 [00:35<00:00, 44.46it/s]\n",
            "  0%|          | 5/1563 [00:00<00:35, 43.33it/s]"
          ],
          "name": "stderr"
        },
        {
          "output_type": "stream",
          "text": [
            "Epoch 10, Loss 0.4337879226\n"
          ],
          "name": "stdout"
        },
        {
          "output_type": "stream",
          "text": [
            "100%|██████████| 1563/1563 [00:35<00:00, 44.52it/s]\n",
            "  0%|          | 5/1563 [00:00<00:35, 43.86it/s]"
          ],
          "name": "stderr"
        },
        {
          "output_type": "stream",
          "text": [
            "Epoch 11, Loss 0.3993516293\n"
          ],
          "name": "stdout"
        },
        {
          "output_type": "stream",
          "text": [
            "100%|██████████| 1563/1563 [00:35<00:00, 44.32it/s]\n",
            "  0%|          | 5/1563 [00:00<00:37, 41.81it/s]"
          ],
          "name": "stderr"
        },
        {
          "output_type": "stream",
          "text": [
            "Epoch 12, Loss 0.3681752286\n"
          ],
          "name": "stdout"
        },
        {
          "output_type": "stream",
          "text": [
            "100%|██████████| 1563/1563 [00:35<00:00, 44.10it/s]\n",
            "  0%|          | 5/1563 [00:00<00:34, 45.25it/s]"
          ],
          "name": "stderr"
        },
        {
          "output_type": "stream",
          "text": [
            "Epoch 13, Loss 0.3379901801\n"
          ],
          "name": "stdout"
        },
        {
          "output_type": "stream",
          "text": [
            "100%|██████████| 1563/1563 [00:35<00:00, 44.41it/s]\n",
            "  0%|          | 5/1563 [00:00<00:35, 43.44it/s]"
          ],
          "name": "stderr"
        },
        {
          "output_type": "stream",
          "text": [
            "Epoch 14, Loss 0.3168007072\n"
          ],
          "name": "stdout"
        },
        {
          "output_type": "stream",
          "text": [
            "100%|██████████| 1563/1563 [00:35<00:00, 44.38it/s]\n",
            "  0%|          | 5/1563 [00:00<00:37, 41.14it/s]"
          ],
          "name": "stderr"
        },
        {
          "output_type": "stream",
          "text": [
            "Epoch 15, Loss 0.2954433392\n"
          ],
          "name": "stdout"
        },
        {
          "output_type": "stream",
          "text": [
            "100%|██████████| 1563/1563 [00:35<00:00, 44.47it/s]\n",
            "  0%|          | 5/1563 [00:00<00:35, 44.16it/s]"
          ],
          "name": "stderr"
        },
        {
          "output_type": "stream",
          "text": [
            "Epoch 16, Loss 0.2883934329\n"
          ],
          "name": "stdout"
        },
        {
          "output_type": "stream",
          "text": [
            "100%|██████████| 1563/1563 [00:35<00:00, 44.33it/s]\n",
            "  0%|          | 5/1563 [00:00<00:36, 42.70it/s]"
          ],
          "name": "stderr"
        },
        {
          "output_type": "stream",
          "text": [
            "Epoch 17, Loss 0.2727549379\n"
          ],
          "name": "stdout"
        },
        {
          "output_type": "stream",
          "text": [
            "100%|██████████| 1563/1563 [00:35<00:00, 44.36it/s]\n",
            "  0%|          | 5/1563 [00:00<00:34, 44.71it/s]"
          ],
          "name": "stderr"
        },
        {
          "output_type": "stream",
          "text": [
            "Epoch 18, Loss 0.2587469967\n"
          ],
          "name": "stdout"
        },
        {
          "output_type": "stream",
          "text": [
            "100%|██████████| 1563/1563 [00:35<00:00, 44.33it/s]"
          ],
          "name": "stderr"
        },
        {
          "output_type": "stream",
          "text": [
            "Epoch 19, Loss 0.2473383568\n"
          ],
          "name": "stdout"
        },
        {
          "output_type": "stream",
          "text": [
            "\n"
          ],
          "name": "stderr"
        }
      ]
    },
    {
      "cell_type": "code",
      "metadata": {
        "id": "4AQ0yY4g1oE-"
      },
      "source": [
        "# torch.save(net.state_dict(), '/content/drive/MyDrive/Colab Notebooks/transformers_weights.pth')"
      ],
      "execution_count": null,
      "outputs": []
    },
    {
      "cell_type": "markdown",
      "metadata": {
        "id": "wAvL1e2O0r4Z"
      },
      "source": [
        "# Beam search & Attention visualization"
      ]
    },
    {
      "cell_type": "code",
      "metadata": {
        "id": "1ItIvkj3ARfO"
      },
      "source": [
        "class GNMTGlobalScorer(object):\n",
        "    \"\"\"\n",
        "    NMT re-ranking score from\n",
        "    \"Google's Neural Machine Translation System\" :cite:`wu2016google`\n",
        "    Args:\n",
        "       alpha (float): length parameter\n",
        "       beta (float):  coverage parameter\n",
        "    \"\"\"\n",
        "\n",
        "    def __init__(self):\n",
        "      super().__init__()\n",
        "\n",
        "    def score(self, beam, logprobs):\n",
        "        # \"\"\"\n",
        "        # Rescores a prediction based on penalty functions\n",
        "        # \"\"\"\n",
        "        # normalized_probs = self.length_penalty(beam,\n",
        "        #                                        logprobs,\n",
        "        #                                        self.alpha)\n",
        "        # if not beam.stepwise_penalty:\n",
        "        #     penalty = self.cov_penalty(beam,\n",
        "        #                                beam.global_state[\"coverage\"],\n",
        "        #                                self.beta)\n",
        "        #     normalized_probs -= penalty\n",
        "\n",
        "        return logprobs"
      ],
      "execution_count": null,
      "outputs": []
    },
    {
      "cell_type": "code",
      "metadata": {
        "id": "5XgD5iauWros"
      },
      "source": [
        "class Beam(object):\n",
        "  def __init__(self, size, pad, bos, eos, global_scorer, min_length):\n",
        "    super().__init__()\n",
        "    self.prev_ks = []\n",
        "    self.scores = torch.FloatTensor(size).zero_()\n",
        "    self.all_scores = []\n",
        "\n",
        "    self.min_length = min_length\n",
        "\n",
        "    self.next_ys = [torch.LongTensor(size)\n",
        "                        .fill_(pad)]\n",
        "    self.next_ys[0][0] = bos\n",
        "\n",
        "    self.finished = []\n",
        "\n",
        "    self.global_scorer = global_scorer\n",
        "\n",
        "    self._eos = eos\n",
        "    self.eos_top = False\n",
        "\n",
        "    self.size = size\n",
        "\n",
        "  def get_current_state(self):\n",
        "    \"Get the outputs for the current timestep.\"\n",
        "    return self.next_ys[-1]\n",
        "\n",
        "  def get_current_origin(self):\n",
        "    \"Get the backpointers for the current timestep.\"\n",
        "    return self.prev_ks[-1]\n",
        "  def done(self):\n",
        "    return self.eos_top\n",
        "  def sort_finished(self, minimum=None):\n",
        "    if minimum is not None:\n",
        "        i = 0\n",
        "        # Add from beam until we have minimum outputs.\n",
        "        while len(self.finished) < minimum:\n",
        "            global_scores = self.global_scorer.score(self, self.scores)\n",
        "            s = global_scores[i]\n",
        "            self.finished.append((s, len(self.next_ys) - 1, i))\n",
        "            i += 1\n",
        "\n",
        "    self.finished.sort(key=lambda a: -a[0])\n",
        "    scores = [sc for sc, _, _ in self.finished]\n",
        "    ks = [(t, k) for _, t, k in self.finished]\n",
        "    return scores, ks\n",
        "\n",
        "  def get_hyp(self, timestep, k):\n",
        "      \"\"\"\n",
        "      Walk back to construct the full hypothesis.\n",
        "      \"\"\"\n",
        "      hyp = []\n",
        "      for j in range(len(self.prev_ks[:timestep]) - 1, -1, -1):\n",
        "          hyp.append(self.next_ys[j + 1][k])\n",
        "          k = self.prev_ks[j][k]\n",
        "      return hyp[::-1]\n",
        "  def advance(self, word_probs):\n",
        "    word_probs = word_probs.unsqueeze(0)\n",
        "    # print(\"word_probs\", word_probs.shape)\n",
        "    num_words = word_probs.size(2)\n",
        "    \n",
        "    # dont let this shit end\n",
        "    cur_len = len(self.next_ys)\n",
        "    # print(\"cur_len\", cur_len)\n",
        "    if cur_len < self.min_length:\n",
        "        for k in range(len(word_probs)):\n",
        "            word_probs[0][k][self._eos] = -1e20\n",
        "            # print(\"word\", self._eos, \"has\", word_probs[k][self._eos])\n",
        "\n",
        "    if len(self.prev_ks) > 0:\n",
        "      beam_scores = word_probs + self.scores.unsqueeze(1).expand_as(word_probs).to(device)\n",
        "      # print(\"beam_scores.shape\", beam_scores.shape, \"word_probs\", word_probs.shape, \"self.scores.unsqueeze(1).expand_as(word_probs)\", self.scores.unsqueeze(1).expand_as(word_probs).shape)\n",
        "      beam_scores = beam_scores.squeeze(0)\n",
        "      # print(\"beam_scores\", beam_scores)\n",
        "      for i in range(self.next_ys[-1].size(0)):\n",
        "        if self.next_ys[-1][i] == self._eos:\n",
        "          # print(\"sentence\", i, 'is ended')\n",
        "          beam_scores[i] = -1e20\n",
        "    else:\n",
        "      beam_scores = word_probs[0][0]\n",
        "      # print(\"beam_scores.shape first time\", beam_scores.shape)\n",
        "\n",
        "    \n",
        "    flat_beam_scores = beam_scores.view(-1)\n",
        "    # print(\"self.size\", self.size, \"flat_beam_scores.shape\", flat_beam_scores.shape)\n",
        "    \n",
        "    best_scores, best_scores_id = flat_beam_scores.topk(self.size, 0,\n",
        "        True, True)\n",
        "    \n",
        "    self.all_scores.append(self.scores)\n",
        "    self.scores = best_scores\n",
        "    # print(\"best_scores\", best_scores, \"best_scores_id\", best_scores_id)\n",
        "    \n",
        "    # print(\"flat_beam_scores\", flat_beam_scores, \"best_scores\", best_scores, \"best_scores_id\", best_scores_id)\n",
        "    # print(\"num_words\", num_words)\n",
        "    prev_k = torch.floor(best_scores_id / num_words).long()\n",
        "    # print(\"prev_k\", prev_k)\n",
        "    self.prev_ks.append(prev_k)\n",
        "    self.next_ys.append((best_scores_id - prev_k * num_words))\n",
        "    # print(\"self.prev_ks\", self.prev_ks)\n",
        "    # print(\"self.next_ys\", self.next_ys)\n",
        "    for i in range(self.next_ys[-1].size(0)):\n",
        "      if self.next_ys[-1][i] == self._eos:\n",
        "        # print(\"self.scores\", self.scores)\n",
        "        global_scores = self.global_scorer.score(self, self.scores)\n",
        "        s = global_scores[i]\n",
        "        self.finished.append((s, len(self.next_ys) - 1, i))\n",
        "\n",
        "    if self.next_ys[-1][0] == self._eos:\n",
        "      self.all_scores.append(self.scores)\n",
        "      self.eos_top = True"
      ],
      "execution_count": null,
      "outputs": []
    },
    {
      "cell_type": "code",
      "metadata": {
        "id": "9nbJUZ9KVJ7d"
      },
      "source": [
        "def _from_beam(beam):\n",
        "    ret = {\"predictions\": [],\n",
        "            \"scores\": [],\n",
        "            \"attention\": []}\n",
        "    for b in beam:\n",
        "        # n_best = self.n_best\n",
        "        scores, ks = b.sort_finished(minimum=None)\n",
        "        # print(scores, ks)\n",
        "        hyps, attn = [], []\n",
        "        for i, (times, k) in enumerate(ks):#[:n_best]):\n",
        "            # hyp, att = b.get_hyp(times, k)\n",
        "            hyp = b.get_hyp(times, k)\n",
        "            hyps.append(hyp)\n",
        "            # attn.append(att)\n",
        "        ret[\"predictions\"].append(hyps)\n",
        "        ret[\"scores\"].append(scores)\n",
        "        # ret[\"attention\"].append(attn)\n",
        "    return ret"
      ],
      "execution_count": null,
      "outputs": []
    },
    {
      "cell_type": "code",
      "metadata": {
        "colab": {
          "base_uri": "https://localhost:8080/"
        },
        "id": "ekw6sJ2EJSVT",
        "outputId": "450520f1-8acd-4a47-ec05-61bcb7e8424c"
      },
      "source": [
        "sentence = \"Tram nam trong coi nguoi ta\"\n",
        "beam = evaluate(net, sentence, no_tone_vocab, tone_vocab, 20, device, 4)"
      ],
      "execution_count": null,
      "outputs": [
        {
          "output_type": "stream",
          "text": [
            "cur_len 1\n",
            "word 3 has tensor([ 6.2015, -5.5238, -6.0122,  ..., -0.5067, -1.8321, -6.6582])\n",
            "beam_scores.shape first time torch.Size([4136])\n",
            "self.size 4 flat_beam_scores.shape torch.Size([4136])\n",
            "best_scores tensor([21.5089, 21.0419, 16.5810, 15.8958]) best_scores_id tensor([ 783, 1613, 1234,   22])\n",
            "num_words 4136\n",
            "self.prev_ks [tensor([0, 0, 0, 0])]\n",
            "self.next_ys [tensor([2, 1, 1, 1]), tensor([ 783, 1613, 1234,   22])]\n",
            "cur_len 2\n",
            "word 3 has tensor([ 6.4400, -5.5701, -6.0114,  ...,  0.1376, -1.6764, -6.3570])\n",
            "self.size 4 flat_beam_scores.shape torch.Size([16544])\n",
            "best_scores tensor([40.8862, 40.0506, 37.3048, 37.2654]) best_scores_id tensor([  22, 1360,   13,   10])\n",
            "num_words 4136\n",
            "self.prev_ks [tensor([0, 0, 0, 0]), tensor([0, 0, 0, 0])]\n",
            "self.next_ys [tensor([2, 1, 1, 1]), tensor([ 783, 1613, 1234,   22]), tensor([  22, 1360,   13,   10])]\n",
            "cur_len 3\n",
            "word 3 has tensor([ 6.9119, -5.8007, -6.2600,  ..., -0.1259, -1.6524, -6.1620])\n",
            "self.size 4 flat_beam_scores.shape torch.Size([16544])\n",
            "best_scores tensor([60.0824, 56.0421, 55.7184, 55.4701]) best_scores_id tensor([  13,    0, 1613, 1054])\n",
            "num_words 4136\n",
            "self.prev_ks [tensor([0, 0, 0, 0]), tensor([0, 0, 0, 0]), tensor([0, 0, 0, 0])]\n",
            "self.next_ys [tensor([2, 1, 1, 1]), tensor([ 783, 1613, 1234,   22]), tensor([  22, 1360,   13,   10]), tensor([  13,    0, 1613, 1054])]\n",
            "cur_len 4\n",
            "word 3 has tensor([ 7.0723, -5.6396, -6.1200,  ...,  0.3759, -1.7606, -5.9661])\n",
            "self.size 4 flat_beam_scores.shape torch.Size([16544])\n",
            "best_scores tensor([86.7131, 77.9913, 76.0756, 75.8127]) best_scores_id tensor([3442, 4012,  573, 2431])\n",
            "num_words 4136\n",
            "self.prev_ks [tensor([0, 0, 0, 0]), tensor([0, 0, 0, 0]), tensor([0, 0, 0, 0]), tensor([0, 0, 0, 0])]\n",
            "self.next_ys [tensor([2, 1, 1, 1]), tensor([ 783, 1613, 1234,   22]), tensor([  22, 1360,   13,   10]), tensor([  13,    0, 1613, 1054]), tensor([3442, 4012,  573, 2431])]\n",
            "cur_len 5\n",
            "self.size 4 flat_beam_scores.shape torch.Size([16544])\n",
            "best_scores tensor([104.0042, 101.8406, 101.6148, 100.4620]) best_scores_id tensor([   5,  542, 1757,    0])\n",
            "num_words 4136\n",
            "self.prev_ks [tensor([0, 0, 0, 0]), tensor([0, 0, 0, 0]), tensor([0, 0, 0, 0]), tensor([0, 0, 0, 0]), tensor([0, 0, 0, 0])]\n",
            "self.next_ys [tensor([2, 1, 1, 1]), tensor([ 783, 1613, 1234,   22]), tensor([  22, 1360,   13,   10]), tensor([  13,    0, 1613, 1054]), tensor([3442, 4012,  573, 2431]), tensor([   5,  542, 1757,    0])]\n",
            "cur_len 6\n",
            "self.size 4 flat_beam_scores.shape torch.Size([16544])\n",
            "best_scores tensor([124.7591, 119.1938, 118.7754, 117.2222]) best_scores_id tensor([1281, 3455, 3176,  926])\n",
            "num_words 4136\n",
            "self.prev_ks [tensor([0, 0, 0, 0]), tensor([0, 0, 0, 0]), tensor([0, 0, 0, 0]), tensor([0, 0, 0, 0]), tensor([0, 0, 0, 0]), tensor([0, 0, 0, 0])]\n",
            "self.next_ys [tensor([2, 1, 1, 1]), tensor([ 783, 1613, 1234,   22]), tensor([  22, 1360,   13,   10]), tensor([  13,    0, 1613, 1054]), tensor([3442, 4012,  573, 2431]), tensor([   5,  542, 1757,    0]), tensor([1281, 3455, 3176,  926])]\n",
            "cur_len 7\n",
            "self.size 4 flat_beam_scores.shape torch.Size([16544])\n",
            "best_scores tensor([139.3645, 139.1792, 137.4937, 137.1094]) best_scores_id tensor([   3, 1281,  255,    0])\n",
            "num_words 4136\n",
            "self.prev_ks [tensor([0, 0, 0, 0]), tensor([0, 0, 0, 0]), tensor([0, 0, 0, 0]), tensor([0, 0, 0, 0]), tensor([0, 0, 0, 0]), tensor([0, 0, 0, 0]), tensor([0, 0, 0, 0])]\n",
            "self.next_ys [tensor([2, 1, 1, 1]), tensor([ 783, 1613, 1234,   22]), tensor([  22, 1360,   13,   10]), tensor([  13,    0, 1613, 1054]), tensor([3442, 4012,  573, 2431]), tensor([   5,  542, 1757,    0]), tensor([1281, 3455, 3176,  926]), tensor([   3, 1281,  255,    0])]\n",
            "[tensor(139.3645)] [(7, 0)]\n"
          ],
          "name": "stdout"
        }
      ]
    },
    {
      "cell_type": "code",
      "metadata": {
        "colab": {
          "base_uri": "https://localhost:8080/"
        },
        "id": "awVWJOXlPjhx",
        "outputId": "e19550d5-f612-4e7b-fa56-d748fe727b95"
      },
      "source": [
        "# Tram nam trong coi nguoi ta\n",
        "for prediction in beam['predictions'][0]:\n",
        "  print(' '.join(tone_vocab.itos[idx] for idx in prediction[:-1]))\n",
        "  # print(prediction)"
      ],
      "execution_count": null,
      "outputs": [
        {
          "output_type": "stream",
          "text": [
            "trăm năm trong cõi người ta\n"
          ],
          "name": "stdout"
        }
      ]
    },
    {
      "cell_type": "code",
      "metadata": {
        "colab": {
          "base_uri": "https://localhost:8080/"
        },
        "id": "myt91oV71L_Y",
        "outputId": "0d225fd2-ddd5-4605-9184-f606c3ae3a37"
      },
      "source": [
        "# encoder attention: (batch_size*num_head x num_steps x num_steps)\n",
        "net.encoder.attention_weights[0].shape"
      ],
      "execution_count": null,
      "outputs": [
        {
          "output_type": "execute_result",
          "data": {
            "text/plain": [
              "torch.Size([4, 6, 6])"
            ]
          },
          "metadata": {
            "tags": []
          },
          "execution_count": 61
        }
      ]
    },
    {
      "cell_type": "code",
      "metadata": {
        "id": "3dNhPm2ADpyP"
      },
      "source": [
        "import seaborn as sns\n",
        "import matplotlib.pylab as plt"
      ],
      "execution_count": null,
      "outputs": []
    },
    {
      "cell_type": "code",
      "metadata": {
        "colab": {
          "base_uri": "https://localhost:8080/",
          "height": 641
        },
        "id": "-Dhw1afQD7cY",
        "outputId": "e093772a-2183-4b55-ff72-cd89cd984a5c"
      },
      "source": [
        "num_layers = len(net.encoder.attention_weights)\n",
        "num_heads, num_steps, _ = net.encoder.attention_weights[0].shape\n",
        "fig, ax = plt.subplots(2, 4, figsize=(16, 9))\n",
        "for layer in range(num_layers):\n",
        "  for head in range(num_heads):\n",
        "    ax[layer, head] = sns.heatmap(net.encoder.attention_weights[layer][head], \n",
        "                                  ax=ax[layer, head],\n",
        "                                  xticklabels=[w for w in sentence.split()] + [\"<eos>\"],\n",
        "                                  yticklabels=[w for w in sentence.split()] + [\"<eos>\"])\n",
        "plt.tight_layout()"
      ],
      "execution_count": null,
      "outputs": [
        {
          "output_type": "display_data",
          "data": {
            "image/png": "[encoded data removed]",
            "text/plain": [
              "<Figure size 1152x648 with 16 Axes>"
            ]
          },
          "metadata": {
            "tags": [],
            "needs_background": "light"
          }
        }
      ]
    },
    {
      "cell_type": "markdown",
      "metadata": {
        "id": "gHfW0Ld0n-iV"
      },
      "source": [
        "# Evaluate model"
      ]
    },
    {
      "cell_type": "code",
      "metadata": {
        "id": "bPLEFmUSikhw"
      },
      "source": [
        "def inference(sentence):\n",
        "  beam = evaluate(net, sentence, no_tone_vocab, tone_vocab, 20, device, 4)\n",
        "  if len(beam['predictions'][0]) > 0:\n",
        "    return ' '.join(tone_vocab.itos[idx] for idx in beam['predictions'][0][0][:-1])\n",
        "  else:\n",
        "    return ''"
      ],
      "execution_count": null,
      "outputs": []
    },
    {
      "cell_type": "code",
      "metadata": {
        "colab": {
          "base_uri": "https://localhost:8080/",
          "height": 36
        },
        "id": "xMB9ajAgjJ0G",
        "outputId": "73a977da-1ed7-460d-ee51-e40e57d1c439"
      },
      "source": [
        "inference(\"tram nam roi lai ra di\")"
      ],
      "execution_count": null,
      "outputs": [
        {
          "output_type": "execute_result",
          "data": {
            "application/vnd.google.colaboratory.intrinsic+json": {
              "type": "string"
            },
            "text/plain": [
              "'trăm năm rồi lại ra đi'"
            ]
          },
          "metadata": {
            "tags": []
          },
          "execution_count": 102
        }
      ]
    },
    {
      "cell_type": "code",
      "metadata": {
        "colab": {
          "base_uri": "https://localhost:8080/"
        },
        "id": "S0vmaVdVj5eL",
        "outputId": "75ca3dcb-edc2-420e-bac4-f16c0affacea"
      },
      "source": [
        "%%time\n",
        "df_test['predict'] = df_test.text_clean_no_accent.apply(inference)"
      ],
      "execution_count": null,
      "outputs": [
        {
          "output_type": "stream",
          "text": [
            "CPU times: user 1min 37s, sys: 1.03 s, total: 1min 38s\n",
            "Wall time: 49.7 s\n"
          ],
          "name": "stdout"
        },
        {
          "output_type": "stream",
          "text": [
            "/usr/local/lib/python3.7/dist-packages/ipykernel_launcher.py:1: SettingWithCopyWarning: \n",
            "A value is trying to be set on a copy of a slice from a DataFrame.\n",
            "Try using .loc[row_indexer,col_indexer] = value instead\n",
            "\n",
            "See the caveats in the documentation: https://pandas.pydata.org/pandas-docs/stable/user_guide/indexing.html#returning-a-view-versus-a-copy\n",
            "  \"\"\"Entry point for launching an IPython kernel.\n"
          ],
          "name": "stderr"
        }
      ]
    },
    {
      "cell_type": "code",
      "metadata": {
        "colab": {
          "base_uri": "https://localhost:8080/",
          "height": 424
        },
        "id": "5C2sz9Ckmji3",
        "outputId": "aa6b9e29-4851-4919-f2c9-e7f3a51b9b00"
      },
      "source": [
        "df_test"
      ],
      "execution_count": null,
      "outputs": [
        {
          "output_type": "execute_result",
          "data": {
            "text/html": [
              "<div>\n",
              "<style scoped>\n",
              "    .dataframe tbody tr th:only-of-type {\n",
              "        vertical-align: middle;\n",
              "    }\n",
              "\n",
              "    .dataframe tbody tr th {\n",
              "        vertical-align: top;\n",
              "    }\n",
              "\n",
              "    .dataframe thead th {\n",
              "        text-align: right;\n",
              "    }\n",
              "</style>\n",
              "<table border=\"1\" class=\"dataframe\">\n",
              "  <thead>\n",
              "    <tr style=\"text-align: right;\">\n",
              "      <th></th>\n",
              "      <th>text_clean</th>\n",
              "      <th>text_clean_no_accent</th>\n",
              "      <th>predict</th>\n",
              "    </tr>\n",
              "  </thead>\n",
              "  <tbody>\n",
              "    <tr>\n",
              "      <th>9478271</th>\n",
              "      <td>quan hệ quốc phòng mỹ ấn độ thắt chặt sau thỏa...</td>\n",
              "      <td>quan he quoc phong my an do that chat sau thoa...</td>\n",
              "      <td>quan hệ quốc phòng mỹ ấn độ thắt chặt sau thỏa...</td>\n",
              "    </tr>\n",
              "    <tr>\n",
              "      <th>9478272</th>\n",
              "      <td>xin lãnh đạo nhịn phát biểu khai giảng</td>\n",
              "      <td>xin lanh dao nhin phat bieu khai giang</td>\n",
              "      <td>xin lãnh đạo phật phát biểu khải giang</td>\n",
              "    </tr>\n",
              "    <tr>\n",
              "      <th>9478273</th>\n",
              "      <td>bđbp tỉnh quảng nam nhận trách nhiệm trong vụ ...</td>\n",
              "      <td>bdbp tinh quang nam nhan trach nhiem trong vu ...</td>\n",
              "      <td>bđbp tỉnh quảng nam nhận trách nhiệm trong vụ ...</td>\n",
              "    </tr>\n",
              "    <tr>\n",
              "      <th>9478274</th>\n",
              "      <td>premier league hù dọa châu âu bằng tỷ bảng</td>\n",
              "      <td>premier league hu doa chau au bang ty bang</td>\n",
              "      <td>premier league &lt;unk&gt; đóa châu âu bằng tỷ bằng</td>\n",
              "    </tr>\n",
              "    <tr>\n",
              "      <th>9478275</th>\n",
              "      <td>năm thực hiện tái cơ cấu nông nghiệp mờ nhạt b...</td>\n",
              "      <td>nam thuc hien tai co cau nong nghiep mo nhat b...</td>\n",
              "      <td>năm thực hiện tại cơ cấu nông nghiệp mờ nhất b...</td>\n",
              "    </tr>\n",
              "    <tr>\n",
              "      <th>...</th>\n",
              "      <td>...</td>\n",
              "      <td>...</td>\n",
              "      <td>...</td>\n",
              "    </tr>\n",
              "    <tr>\n",
              "      <th>9479266</th>\n",
              "      <td>vợ đòi ly hôn vì chồng bạo hành suốt năm</td>\n",
              "      <td>vo doi ly hon vi chong bao hanh suot nam</td>\n",
              "      <td>vợ đòi ly hôn vì chồng bảo hạnh suốt năm</td>\n",
              "    </tr>\n",
              "    <tr>\n",
              "      <th>9479267</th>\n",
              "      <td>ppi những e ngại về chất lượng tài sản</td>\n",
              "      <td>ppi nhung e ngai ve chat luong tai san</td>\n",
              "      <td>&lt;unk&gt; những ế &lt;unk&gt; về chất lượng tài sản</td>\n",
              "    </tr>\n",
              "    <tr>\n",
              "      <th>9479268</th>\n",
              "      <td>quân đội syria mở rộng vây lấn tấn công trên v...</td>\n",
              "      <td>quan doi syria mo rong vay lan tan cong tren v...</td>\n",
              "      <td>quân đội syria mở rộng vây lần tấn công trên v...</td>\n",
              "    </tr>\n",
              "    <tr>\n",
              "      <th>9479269</th>\n",
              "      <td>cháy siêu thị co opmart tiểu thương hoảng loạn...</td>\n",
              "      <td>chay sieu thi co opmart tieu thuong hoang loan...</td>\n",
              "      <td>cháy siêu thị có &lt;unk&gt; tiểu thương hoảng loạn ...</td>\n",
              "    </tr>\n",
              "    <tr>\n",
              "      <th>9479270</th>\n",
              "      <td>giờ chuyển nhượng cuối cùng tại premier league...</td>\n",
              "      <td>gio chuyen nhuong cuoi cung tai premier league...</td>\n",
              "      <td>giờ chuyển nhượng cuối cùng tại premier league...</td>\n",
              "    </tr>\n",
              "  </tbody>\n",
              "</table>\n",
              "<p>1000 rows × 3 columns</p>\n",
              "</div>"
            ],
            "text/plain": [
              "                                                text_clean  ...                                            predict\n",
              "9478271  quan hệ quốc phòng mỹ ấn độ thắt chặt sau thỏa...  ...  quan hệ quốc phòng mỹ ấn độ thắt chặt sau thỏa...\n",
              "9478272             xin lãnh đạo nhịn phát biểu khai giảng  ...             xin lãnh đạo phật phát biểu khải giang\n",
              "9478273  bđbp tỉnh quảng nam nhận trách nhiệm trong vụ ...  ...  bđbp tỉnh quảng nam nhận trách nhiệm trong vụ ...\n",
              "9478274         premier league hù dọa châu âu bằng tỷ bảng  ...      premier league <unk> đóa châu âu bằng tỷ bằng\n",
              "9478275  năm thực hiện tái cơ cấu nông nghiệp mờ nhạt b...  ...  năm thực hiện tại cơ cấu nông nghiệp mờ nhất b...\n",
              "...                                                    ...  ...                                                ...\n",
              "9479266           vợ đòi ly hôn vì chồng bạo hành suốt năm  ...           vợ đòi ly hôn vì chồng bảo hạnh suốt năm\n",
              "9479267             ppi những e ngại về chất lượng tài sản  ...          <unk> những ế <unk> về chất lượng tài sản\n",
              "9479268  quân đội syria mở rộng vây lấn tấn công trên v...  ...  quân đội syria mở rộng vây lần tấn công trên v...\n",
              "9479269  cháy siêu thị co opmart tiểu thương hoảng loạn...  ...  cháy siêu thị có <unk> tiểu thương hoảng loạn ...\n",
              "9479270  giờ chuyển nhượng cuối cùng tại premier league...  ...  giờ chuyển nhượng cuối cùng tại premier league...\n",
              "\n",
              "[1000 rows x 3 columns]"
            ]
          },
          "metadata": {
            "tags": []
          },
          "execution_count": 119
        }
      ]
    },
    {
      "cell_type": "code",
      "metadata": {
        "id": "tyR24KmDkHLU"
      },
      "source": [
        "def sentence_accuracy(row):\n",
        "  src = row.text_clean.split(\" \")\n",
        "  predict = row.predict.split(\" \")\n",
        "  t = 0\n",
        "  for i in range(min(len(src), len(predict))):\n",
        "    if (src[i] == predict[i]):\n",
        "      t += 1\n",
        "  return t/len(src)"
      ],
      "execution_count": null,
      "outputs": []
    },
    {
      "cell_type": "code",
      "metadata": {
        "colab": {
          "base_uri": "https://localhost:8080/"
        },
        "id": "g6kX41DvnqWV",
        "outputId": "462eadb6-f52b-48d1-c570-32c94afba021"
      },
      "source": [
        "%%time\n",
        "df_test['accuracy'] = df_test.apply(sentence_accuracy, axis=1)"
      ],
      "execution_count": null,
      "outputs": [
        {
          "output_type": "stream",
          "text": [
            "CPU times: user 29.9 ms, sys: 0 ns, total: 29.9 ms\n",
            "Wall time: 29.8 ms\n"
          ],
          "name": "stdout"
        },
        {
          "output_type": "stream",
          "text": [
            "/usr/local/lib/python3.7/dist-packages/ipykernel_launcher.py:1: SettingWithCopyWarning: \n",
            "A value is trying to be set on a copy of a slice from a DataFrame.\n",
            "Try using .loc[row_indexer,col_indexer] = value instead\n",
            "\n",
            "See the caveats in the documentation: https://pandas.pydata.org/pandas-docs/stable/user_guide/indexing.html#returning-a-view-versus-a-copy\n",
            "  \"\"\"Entry point for launching an IPython kernel.\n"
          ],
          "name": "stderr"
        }
      ]
    },
    {
      "cell_type": "code",
      "metadata": {
        "colab": {
          "base_uri": "https://localhost:8080/",
          "height": 510
        },
        "id": "qdUbePz4nY9P",
        "outputId": "7905efeb-2591-4c3f-dc06-94259f641ad5"
      },
      "source": [
        "df_test"
      ],
      "execution_count": null,
      "outputs": [
        {
          "output_type": "execute_result",
          "data": {
            "text/html": [
              "<div>\n",
              "<style scoped>\n",
              "    .dataframe tbody tr th:only-of-type {\n",
              "        vertical-align: middle;\n",
              "    }\n",
              "\n",
              "    .dataframe tbody tr th {\n",
              "        vertical-align: top;\n",
              "    }\n",
              "\n",
              "    .dataframe thead th {\n",
              "        text-align: right;\n",
              "    }\n",
              "</style>\n",
              "<table border=\"1\" class=\"dataframe\">\n",
              "  <thead>\n",
              "    <tr style=\"text-align: right;\">\n",
              "      <th></th>\n",
              "      <th>text_clean</th>\n",
              "      <th>text_clean_no_accent</th>\n",
              "      <th>predict</th>\n",
              "      <th>accuracy</th>\n",
              "    </tr>\n",
              "  </thead>\n",
              "  <tbody>\n",
              "    <tr>\n",
              "      <th>9478271</th>\n",
              "      <td>quan hệ quốc phòng mỹ ấn độ thắt chặt sau thỏa...</td>\n",
              "      <td>quan he quoc phong my an do that chat sau thoa...</td>\n",
              "      <td>quan hệ quốc phòng mỹ ấn độ thắt chặt sau thỏa...</td>\n",
              "      <td>0.928571</td>\n",
              "    </tr>\n",
              "    <tr>\n",
              "      <th>9478272</th>\n",
              "      <td>xin lãnh đạo nhịn phát biểu khai giảng</td>\n",
              "      <td>xin lanh dao nhin phat bieu khai giang</td>\n",
              "      <td>xin lãnh đạo phật phát biểu khải giang</td>\n",
              "      <td>0.625000</td>\n",
              "    </tr>\n",
              "    <tr>\n",
              "      <th>9478273</th>\n",
              "      <td>bđbp tỉnh quảng nam nhận trách nhiệm trong vụ ...</td>\n",
              "      <td>bdbp tinh quang nam nhan trach nhiem trong vu ...</td>\n",
              "      <td>bđbp tỉnh quảng nam nhận trách nhiệm trong vụ ...</td>\n",
              "      <td>0.846154</td>\n",
              "    </tr>\n",
              "    <tr>\n",
              "      <th>9478274</th>\n",
              "      <td>premier league hù dọa châu âu bằng tỷ bảng</td>\n",
              "      <td>premier league hu doa chau au bang ty bang</td>\n",
              "      <td>premier league &lt;unk&gt; đóa châu âu bằng tỷ bằng</td>\n",
              "      <td>0.666667</td>\n",
              "    </tr>\n",
              "    <tr>\n",
              "      <th>9478275</th>\n",
              "      <td>năm thực hiện tái cơ cấu nông nghiệp mờ nhạt b...</td>\n",
              "      <td>nam thuc hien tai co cau nong nghiep mo nhat b...</td>\n",
              "      <td>năm thực hiện tại cơ cấu nông nghiệp mờ nhất b...</td>\n",
              "      <td>0.714286</td>\n",
              "    </tr>\n",
              "    <tr>\n",
              "      <th>...</th>\n",
              "      <td>...</td>\n",
              "      <td>...</td>\n",
              "      <td>...</td>\n",
              "      <td>...</td>\n",
              "    </tr>\n",
              "    <tr>\n",
              "      <th>9479266</th>\n",
              "      <td>vợ đòi ly hôn vì chồng bạo hành suốt năm</td>\n",
              "      <td>vo doi ly hon vi chong bao hanh suot nam</td>\n",
              "      <td>vợ đòi ly hôn vì chồng bảo hạnh suốt năm</td>\n",
              "      <td>0.800000</td>\n",
              "    </tr>\n",
              "    <tr>\n",
              "      <th>9479267</th>\n",
              "      <td>ppi những e ngại về chất lượng tài sản</td>\n",
              "      <td>ppi nhung e ngai ve chat luong tai san</td>\n",
              "      <td>&lt;unk&gt; những ế &lt;unk&gt; về chất lượng tài sản</td>\n",
              "      <td>0.666667</td>\n",
              "    </tr>\n",
              "    <tr>\n",
              "      <th>9479268</th>\n",
              "      <td>quân đội syria mở rộng vây lấn tấn công trên v...</td>\n",
              "      <td>quan doi syria mo rong vay lan tan cong tren v...</td>\n",
              "      <td>quân đội syria mở rộng vây lần tấn công trên v...</td>\n",
              "      <td>0.846154</td>\n",
              "    </tr>\n",
              "    <tr>\n",
              "      <th>9479269</th>\n",
              "      <td>cháy siêu thị co opmart tiểu thương hoảng loạn...</td>\n",
              "      <td>chay sieu thi co opmart tieu thuong hoang loan...</td>\n",
              "      <td>cháy siêu thị có &lt;unk&gt; tiểu thương hoảng loạn ...</td>\n",
              "      <td>0.818182</td>\n",
              "    </tr>\n",
              "    <tr>\n",
              "      <th>9479270</th>\n",
              "      <td>giờ chuyển nhượng cuối cùng tại premier league...</td>\n",
              "      <td>gio chuyen nhuong cuoi cung tai premier league...</td>\n",
              "      <td>giờ chuyển nhượng cuối cùng tại premier league...</td>\n",
              "      <td>0.857143</td>\n",
              "    </tr>\n",
              "  </tbody>\n",
              "</table>\n",
              "<p>1000 rows × 4 columns</p>\n",
              "</div>"
            ],
            "text/plain": [
              "                                                text_clean  ...  accuracy\n",
              "9478271  quan hệ quốc phòng mỹ ấn độ thắt chặt sau thỏa...  ...  0.928571\n",
              "9478272             xin lãnh đạo nhịn phát biểu khai giảng  ...  0.625000\n",
              "9478273  bđbp tỉnh quảng nam nhận trách nhiệm trong vụ ...  ...  0.846154\n",
              "9478274         premier league hù dọa châu âu bằng tỷ bảng  ...  0.666667\n",
              "9478275  năm thực hiện tái cơ cấu nông nghiệp mờ nhạt b...  ...  0.714286\n",
              "...                                                    ...  ...       ...\n",
              "9479266           vợ đòi ly hôn vì chồng bạo hành suốt năm  ...  0.800000\n",
              "9479267             ppi những e ngại về chất lượng tài sản  ...  0.666667\n",
              "9479268  quân đội syria mở rộng vây lấn tấn công trên v...  ...  0.846154\n",
              "9479269  cháy siêu thị co opmart tiểu thương hoảng loạn...  ...  0.818182\n",
              "9479270  giờ chuyển nhượng cuối cùng tại premier league...  ...  0.857143\n",
              "\n",
              "[1000 rows x 4 columns]"
            ]
          },
          "metadata": {
            "tags": []
          },
          "execution_count": 132
        }
      ]
    },
    {
      "cell_type": "code",
      "metadata": {
        "colab": {
          "base_uri": "https://localhost:8080/"
        },
        "id": "vmPUrY72nv8J",
        "outputId": "d352106d-821e-4f45-8b27-0244e235e19b"
      },
      "source": [
        "df_test.accuracy.mean()"
      ],
      "execution_count": null,
      "outputs": [
        {
          "output_type": "execute_result",
          "data": {
            "text/plain": [
              "0.742474838840471"
            ]
          },
          "metadata": {
            "tags": []
          },
          "execution_count": 133
        }
      ]
    },
    {
      "cell_type": "code",
      "metadata": {
        "colab": {
          "base_uri": "https://localhost:8080/",
          "height": 356
        },
        "id": "uFYxdO4LoENd",
        "outputId": "2459d530-6ca4-46c5-d652-69689bb84cb9"
      },
      "source": [
        "plt.hist(df_test.accuracy, bins=20)"
      ],
      "execution_count": null,
      "outputs": [
        {
          "output_type": "execute_result",
          "data": {
            "text/plain": [
              "(array([  7.,   2.,   4.,   2.,   6.,  21.,  10.,  16.,  27.,  20.,  72.,\n",
              "         74.,  49.,  65.,  50.,  86., 134.,  63., 106., 186.]),\n",
              " array([0.  , 0.05, 0.1 , 0.15, 0.2 , 0.25, 0.3 , 0.35, 0.4 , 0.45, 0.5 ,\n",
              "        0.55, 0.6 , 0.65, 0.7 , 0.75, 0.8 , 0.85, 0.9 , 0.95, 1.  ]),\n",
              " <a list of 20 Patch objects>)"
            ]
          },
          "metadata": {
            "tags": []
          },
          "execution_count": 138
        },
        {
          "output_type": "display_data",
          "data": {
            "image/png": "[encoded data removed]",
            "text/plain": [
              "<Figure size 432x288 with 1 Axes>"
            ]
          },
          "metadata": {
            "tags": [],
            "needs_background": "light"
          }
        }
      ]
    },
    {
      "cell_type": "code",
      "metadata": {
        "colab": {
          "base_uri": "https://localhost:8080/",
          "height": 453
        },
        "id": "fz0xNK1hoJPi",
        "outputId": "69147b10-1b77-4acb-81a5-d8aab0a455a0"
      },
      "source": [
        "df_test[df_test.accuracy < 0.1]"
      ],
      "execution_count": null,
      "outputs": [
        {
          "output_type": "execute_result",
          "data": {
            "text/html": [
              "<div>\n",
              "<style scoped>\n",
              "    .dataframe tbody tr th:only-of-type {\n",
              "        vertical-align: middle;\n",
              "    }\n",
              "\n",
              "    .dataframe tbody tr th {\n",
              "        vertical-align: top;\n",
              "    }\n",
              "\n",
              "    .dataframe thead th {\n",
              "        text-align: right;\n",
              "    }\n",
              "</style>\n",
              "<table border=\"1\" class=\"dataframe\">\n",
              "  <thead>\n",
              "    <tr style=\"text-align: right;\">\n",
              "      <th></th>\n",
              "      <th>text_clean</th>\n",
              "      <th>text_clean_no_accent</th>\n",
              "      <th>predict</th>\n",
              "      <th>accuracy</th>\n",
              "    </tr>\n",
              "  </thead>\n",
              "  <tbody>\n",
              "    <tr>\n",
              "      <th>9478409</th>\n",
              "      <td>vào vòng us open venus williams thiết lập kỷ lục</td>\n",
              "      <td>vao vong us open venus williams thiet lap ky luc</td>\n",
              "      <td>&lt;unk&gt; vào hose &lt;unk&gt; &lt;unk&gt; thiết lập kỷ lục me...</td>\n",
              "      <td>0.000000</td>\n",
              "    </tr>\n",
              "    <tr>\n",
              "      <th>9478512</th>\n",
              "      <td>nghệ an người dân chưa chịu bàn giao mặt bằng ...</td>\n",
              "      <td>nghe an nguoi dan chua chiu ban giao mat bang ...</td>\n",
              "      <td></td>\n",
              "      <td>0.000000</td>\n",
              "    </tr>\n",
              "    <tr>\n",
              "      <th>9478664</th>\n",
              "      <td>rosol murray càng đánh càng đuối v us open</td>\n",
              "      <td>rosol murray cang danh cang duoi v us open</td>\n",
              "      <td>&lt;unk&gt; &lt;unk&gt; danh căng cảng dưới căng showbiz &lt;...</td>\n",
              "      <td>0.000000</td>\n",
              "    </tr>\n",
              "    <tr>\n",
              "      <th>9478777</th>\n",
              "      <td>lấy ý kiến góp ý về dự thảo quy định thực hiện...</td>\n",
              "      <td>lay y kien gop y ve du thao quy dinh thuc hien...</td>\n",
              "      <td></td>\n",
              "      <td>0.000000</td>\n",
              "    </tr>\n",
              "    <tr>\n",
              "      <th>9479016</th>\n",
              "      <td>xã hồng thái huyện an dương tp hải phòng các c...</td>\n",
              "      <td>xa hong thai huyen an duong tp hai phong cac c...</td>\n",
              "      <td></td>\n",
              "      <td>0.000000</td>\n",
              "    </tr>\n",
              "    <tr>\n",
              "      <th>9479020</th>\n",
              "      <td>google sẵn sàng ngưng sử dụng thương hiệu điện...</td>\n",
              "      <td>google san sang ngung su dung thuong hieu dien...</td>\n",
              "      <td>google sản &lt;unk&gt; &lt;unk&gt; &lt;unk&gt; &lt;unk&gt; &lt;unk&gt; hiểu ...</td>\n",
              "      <td>0.090909</td>\n",
              "    </tr>\n",
              "    <tr>\n",
              "      <th>9479084</th>\n",
              "      <td>benzema ráo riết tập luyện chờ ngày tái xuất</td>\n",
              "      <td>benzema rao riet tap luyen cho ngay tai xuat</td>\n",
              "      <td>ráo riết ráo riết tập luyện cho ngày tái xuất</td>\n",
              "      <td>0.000000</td>\n",
              "    </tr>\n",
              "    <tr>\n",
              "      <th>9479089</th>\n",
              "      <td>vụ mùi hôi tấn công người dân khu nam sài gòn ...</td>\n",
              "      <td>vu mui hoi tan cong nguoi dan khu nam sai gon ...</td>\n",
              "      <td></td>\n",
              "      <td>0.000000</td>\n",
              "    </tr>\n",
              "    <tr>\n",
              "      <th>9479204</th>\n",
              "      <td>miranda kerr lần đầu nói về ảnh khỏa thân của ...</td>\n",
              "      <td>miranda kerr lan dau noi ve anh khoa than cua ...</td>\n",
              "      <td>ecb lần đầu nỗi đau về anh khoa của chồng cũ c...</td>\n",
              "      <td>0.071429</td>\n",
              "    </tr>\n",
              "  </tbody>\n",
              "</table>\n",
              "</div>"
            ],
            "text/plain": [
              "                                                text_clean  ...  accuracy\n",
              "9478409   vào vòng us open venus williams thiết lập kỷ lục  ...  0.000000\n",
              "9478512  nghệ an người dân chưa chịu bàn giao mặt bằng ...  ...  0.000000\n",
              "9478664         rosol murray càng đánh càng đuối v us open  ...  0.000000\n",
              "9478777  lấy ý kiến góp ý về dự thảo quy định thực hiện...  ...  0.000000\n",
              "9479016  xã hồng thái huyện an dương tp hải phòng các c...  ...  0.000000\n",
              "9479020  google sẵn sàng ngưng sử dụng thương hiệu điện...  ...  0.090909\n",
              "9479084       benzema ráo riết tập luyện chờ ngày tái xuất  ...  0.000000\n",
              "9479089  vụ mùi hôi tấn công người dân khu nam sài gòn ...  ...  0.000000\n",
              "9479204  miranda kerr lần đầu nói về ảnh khỏa thân của ...  ...  0.071429\n",
              "\n",
              "[9 rows x 4 columns]"
            ]
          },
          "metadata": {
            "tags": []
          },
          "execution_count": 136
        }
      ]
    }
  ]
}