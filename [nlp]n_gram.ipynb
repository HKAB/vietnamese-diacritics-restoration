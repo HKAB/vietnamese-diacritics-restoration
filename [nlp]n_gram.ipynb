{
  "nbformat": 4,
  "nbformat_minor": 0,
  "metadata": {
    "colab": {
      "name": "[nlp]n-gram",
      "provenance": [],
      "collapsed_sections": [],
      "machine_shape": "hm"
    },
    "kernelspec": {
      "name": "python3",
      "display_name": "Python 3"
    }
  },
  "cells": [
    {
      "cell_type": "code",
      "metadata": {
        "colab": {
          "base_uri": "https://localhost:8080/"
        },
        "id": "SuEKX3p4Lj7Z",
        "outputId": "7b511df6-c76e-460d-f42c-c5f7c6b5f81c"
      },
      "source": [
        "from google.colab import drive\n",
        "drive.mount('/content/drive')"
      ],
      "execution_count": 1,
      "outputs": [
        {
          "output_type": "stream",
          "text": [
            "Drive already mounted at /content/drive; to attempt to forcibly remount, call drive.mount(\"/content/drive\", force_remount=True).\n"
          ],
          "name": "stdout"
        }
      ]
    },
    {
      "cell_type": "code",
      "metadata": {
        "colab": {
          "base_uri": "https://localhost:8080/",
          "height": 435
        },
        "id": "KYOfSN1tlbyV",
        "outputId": "0c19f9e7-0ea1-4432-9675-979ea8f2be3d"
      },
      "source": [
        "!pip install \"nltk==3.5\""
      ],
      "execution_count": 16,
      "outputs": [
        {
          "output_type": "stream",
          "text": [
            "Collecting nltk==3.5\n",
            "\u001b[?25l  Downloading https://files.pythonhosted.org/packages/92/75/ce35194d8e3022203cca0d2f896dbb88689f9b3fce8e9f9cff942913519d/nltk-3.5.zip (1.4MB)\n",
            "\r\u001b[K     |▎                               | 10kB 17.9MB/s eta 0:00:01\r\u001b[K     |▌                               | 20kB 23.1MB/s eta 0:00:01\r\u001b[K     |▊                               | 30kB 27.8MB/s eta 0:00:01\r\u001b[K     |█                               | 40kB 19.4MB/s eta 0:00:01\r\u001b[K     |█▏                              | 51kB 18.4MB/s eta 0:00:01\r\u001b[K     |█▍                              | 61kB 20.5MB/s eta 0:00:01\r\u001b[K     |█▋                              | 71kB 15.0MB/s eta 0:00:01\r\u001b[K     |█▉                              | 81kB 13.9MB/s eta 0:00:01\r\u001b[K     |██                              | 92kB 14.9MB/s eta 0:00:01\r\u001b[K     |██▎                             | 102kB 14.8MB/s eta 0:00:01\r\u001b[K     |██▌                             | 112kB 14.8MB/s eta 0:00:01\r\u001b[K     |██▊                             | 122kB 14.8MB/s eta 0:00:01\r\u001b[K     |███                             | 133kB 14.8MB/s eta 0:00:01\r\u001b[K     |███▏                            | 143kB 14.8MB/s eta 0:00:01\r\u001b[K     |███▍                            | 153kB 14.8MB/s eta 0:00:01\r\u001b[K     |███▋                            | 163kB 14.8MB/s eta 0:00:01\r\u001b[K     |███▉                            | 174kB 14.8MB/s eta 0:00:01\r\u001b[K     |████▏                           | 184kB 14.8MB/s eta 0:00:01\r\u001b[K     |████▍                           | 194kB 14.8MB/s eta 0:00:01\r\u001b[K     |████▋                           | 204kB 14.8MB/s eta 0:00:01\r\u001b[K     |████▉                           | 215kB 14.8MB/s eta 0:00:01\r\u001b[K     |█████                           | 225kB 14.8MB/s eta 0:00:01\r\u001b[K     |█████▎                          | 235kB 14.8MB/s eta 0:00:01\r\u001b[K     |█████▌                          | 245kB 14.8MB/s eta 0:00:01\r\u001b[K     |█████▊                          | 256kB 14.8MB/s eta 0:00:01\r\u001b[K     |██████                          | 266kB 14.8MB/s eta 0:00:01\r\u001b[K     |██████▏                         | 276kB 14.8MB/s eta 0:00:01\r\u001b[K     |██████▍                         | 286kB 14.8MB/s eta 0:00:01\r\u001b[K     |██████▋                         | 296kB 14.8MB/s eta 0:00:01\r\u001b[K     |██████▉                         | 307kB 14.8MB/s eta 0:00:01\r\u001b[K     |███████                         | 317kB 14.8MB/s eta 0:00:01\r\u001b[K     |███████▎                        | 327kB 14.8MB/s eta 0:00:01\r\u001b[K     |███████▌                        | 337kB 14.8MB/s eta 0:00:01\r\u001b[K     |███████▊                        | 348kB 14.8MB/s eta 0:00:01\r\u001b[K     |████████                        | 358kB 14.8MB/s eta 0:00:01\r\u001b[K     |████████▎                       | 368kB 14.8MB/s eta 0:00:01\r\u001b[K     |████████▌                       | 378kB 14.8MB/s eta 0:00:01\r\u001b[K     |████████▊                       | 389kB 14.8MB/s eta 0:00:01\r\u001b[K     |█████████                       | 399kB 14.8MB/s eta 0:00:01\r\u001b[K     |█████████▏                      | 409kB 14.8MB/s eta 0:00:01\r\u001b[K     |█████████▍                      | 419kB 14.8MB/s eta 0:00:01\r\u001b[K     |█████████▋                      | 430kB 14.8MB/s eta 0:00:01\r\u001b[K     |█████████▉                      | 440kB 14.8MB/s eta 0:00:01\r\u001b[K     |██████████                      | 450kB 14.8MB/s eta 0:00:01\r\u001b[K     |██████████▎                     | 460kB 14.8MB/s eta 0:00:01\r\u001b[K     |██████████▌                     | 471kB 14.8MB/s eta 0:00:01\r\u001b[K     |██████████▊                     | 481kB 14.8MB/s eta 0:00:01\r\u001b[K     |███████████                     | 491kB 14.8MB/s eta 0:00:01\r\u001b[K     |███████████▏                    | 501kB 14.8MB/s eta 0:00:01\r\u001b[K     |███████████▍                    | 512kB 14.8MB/s eta 0:00:01\r\u001b[K     |███████████▋                    | 522kB 14.8MB/s eta 0:00:01\r\u001b[K     |███████████▉                    | 532kB 14.8MB/s eta 0:00:01\r\u001b[K     |████████████▏                   | 542kB 14.8MB/s eta 0:00:01\r\u001b[K     |████████████▍                   | 552kB 14.8MB/s eta 0:00:01\r\u001b[K     |████████████▋                   | 563kB 14.8MB/s eta 0:00:01\r\u001b[K     |████████████▉                   | 573kB 14.8MB/s eta 0:00:01\r\u001b[K     |█████████████                   | 583kB 14.8MB/s eta 0:00:01\r\u001b[K     |█████████████▎                  | 593kB 14.8MB/s eta 0:00:01\r\u001b[K     |█████████████▌                  | 604kB 14.8MB/s eta 0:00:01\r\u001b[K     |█████████████▊                  | 614kB 14.8MB/s eta 0:00:01\r\u001b[K     |██████████████                  | 624kB 14.8MB/s eta 0:00:01\r\u001b[K     |██████████████▏                 | 634kB 14.8MB/s eta 0:00:01\r\u001b[K     |██████████████▍                 | 645kB 14.8MB/s eta 0:00:01\r\u001b[K     |██████████████▋                 | 655kB 14.8MB/s eta 0:00:01\r\u001b[K     |██████████████▉                 | 665kB 14.8MB/s eta 0:00:01\r\u001b[K     |███████████████                 | 675kB 14.8MB/s eta 0:00:01\r\u001b[K     |███████████████▎                | 686kB 14.8MB/s eta 0:00:01\r\u001b[K     |███████████████▌                | 696kB 14.8MB/s eta 0:00:01\r\u001b[K     |███████████████▊                | 706kB 14.8MB/s eta 0:00:01\r\u001b[K     |████████████████                | 716kB 14.8MB/s eta 0:00:01\r\u001b[K     |████████████████▎               | 727kB 14.8MB/s eta 0:00:01\r\u001b[K     |████████████████▌               | 737kB 14.8MB/s eta 0:00:01\r\u001b[K     |████████████████▊               | 747kB 14.8MB/s eta 0:00:01\r\u001b[K     |█████████████████               | 757kB 14.8MB/s eta 0:00:01\r\u001b[K     |█████████████████▏              | 768kB 14.8MB/s eta 0:00:01\r\u001b[K     |█████████████████▍              | 778kB 14.8MB/s eta 0:00:01\r\u001b[K     |█████████████████▋              | 788kB 14.8MB/s eta 0:00:01\r\u001b[K     |█████████████████▉              | 798kB 14.8MB/s eta 0:00:01\r\u001b[K     |██████████████████              | 808kB 14.8MB/s eta 0:00:01\r\u001b[K     |██████████████████▎             | 819kB 14.8MB/s eta 0:00:01\r\u001b[K     |██████████████████▌             | 829kB 14.8MB/s eta 0:00:01\r\u001b[K     |██████████████████▊             | 839kB 14.8MB/s eta 0:00:01\r\u001b[K     |███████████████████             | 849kB 14.8MB/s eta 0:00:01\r\u001b[K     |███████████████████▏            | 860kB 14.8MB/s eta 0:00:01\r\u001b[K     |███████████████████▍            | 870kB 14.8MB/s eta 0:00:01\r\u001b[K     |███████████████████▋            | 880kB 14.8MB/s eta 0:00:01\r\u001b[K     |███████████████████▉            | 890kB 14.8MB/s eta 0:00:01\r\u001b[K     |████████████████████▏           | 901kB 14.8MB/s eta 0:00:01\r\u001b[K     |████████████████████▍           | 911kB 14.8MB/s eta 0:00:01\r\u001b[K     |████████████████████▋           | 921kB 14.8MB/s eta 0:00:01\r\u001b[K     |████████████████████▉           | 931kB 14.8MB/s eta 0:00:01\r\u001b[K     |█████████████████████           | 942kB 14.8MB/s eta 0:00:01\r\u001b[K     |█████████████████████▎          | 952kB 14.8MB/s eta 0:00:01\r\u001b[K     |█████████████████████▌          | 962kB 14.8MB/s eta 0:00:01\r\u001b[K     |█████████████████████▊          | 972kB 14.8MB/s eta 0:00:01\r\u001b[K     |██████████████████████          | 983kB 14.8MB/s eta 0:00:01\r\u001b[K     |██████████████████████▏         | 993kB 14.8MB/s eta 0:00:01\r\u001b[K     |██████████████████████▍         | 1.0MB 14.8MB/s eta 0:00:01\r\u001b[K     |██████████████████████▋         | 1.0MB 14.8MB/s eta 0:00:01\r\u001b[K     |██████████████████████▉         | 1.0MB 14.8MB/s eta 0:00:01\r\u001b[K     |███████████████████████         | 1.0MB 14.8MB/s eta 0:00:01\r\u001b[K     |███████████████████████▎        | 1.0MB 14.8MB/s eta 0:00:01\r\u001b[K     |███████████████████████▌        | 1.1MB 14.8MB/s eta 0:00:01\r\u001b[K     |███████████████████████▊        | 1.1MB 14.8MB/s eta 0:00:01\r\u001b[K     |████████████████████████        | 1.1MB 14.8MB/s eta 0:00:01\r\u001b[K     |████████████████████████▎       | 1.1MB 14.8MB/s eta 0:00:01\r\u001b[K     |████████████████████████▌       | 1.1MB 14.8MB/s eta 0:00:01\r\u001b[K     |████████████████████████▊       | 1.1MB 14.8MB/s eta 0:00:01\r\u001b[K     |█████████████████████████       | 1.1MB 14.8MB/s eta 0:00:01\r\u001b[K     |█████████████████████████▏      | 1.1MB 14.8MB/s eta 0:00:01\r\u001b[K     |█████████████████████████▍      | 1.1MB 14.8MB/s eta 0:00:01\r\u001b[K     |█████████████████████████▋      | 1.1MB 14.8MB/s eta 0:00:01\r\u001b[K     |█████████████████████████▉      | 1.2MB 14.8MB/s eta 0:00:01\r\u001b[K     |██████████████████████████      | 1.2MB 14.8MB/s eta 0:00:01\r\u001b[K     |██████████████████████████▎     | 1.2MB 14.8MB/s eta 0:00:01\r\u001b[K     |██████████████████████████▌     | 1.2MB 14.8MB/s eta 0:00:01\r\u001b[K     |██████████████████████████▊     | 1.2MB 14.8MB/s eta 0:00:01\r\u001b[K     |███████████████████████████     | 1.2MB 14.8MB/s eta 0:00:01\r\u001b[K     |███████████████████████████▏    | 1.2MB 14.8MB/s eta 0:00:01\r\u001b[K     |███████████████████████████▍    | 1.2MB 14.8MB/s eta 0:00:01\r\u001b[K     |███████████████████████████▋    | 1.2MB 14.8MB/s eta 0:00:01\r\u001b[K     |███████████████████████████▉    | 1.2MB 14.8MB/s eta 0:00:01\r\u001b[K     |████████████████████████████▏   | 1.3MB 14.8MB/s eta 0:00:01\r\u001b[K     |████████████████████████████▍   | 1.3MB 14.8MB/s eta 0:00:01\r\u001b[K     |████████████████████████████▋   | 1.3MB 14.8MB/s eta 0:00:01\r\u001b[K     |████████████████████████████▉   | 1.3MB 14.8MB/s eta 0:00:01\r\u001b[K     |█████████████████████████████   | 1.3MB 14.8MB/s eta 0:00:01\r\u001b[K     |█████████████████████████████▎  | 1.3MB 14.8MB/s eta 0:00:01\r\u001b[K     |█████████████████████████████▌  | 1.3MB 14.8MB/s eta 0:00:01\r\u001b[K     |█████████████████████████████▊  | 1.3MB 14.8MB/s eta 0:00:01\r\u001b[K     |██████████████████████████████  | 1.3MB 14.8MB/s eta 0:00:01\r\u001b[K     |██████████████████████████████▏ | 1.4MB 14.8MB/s eta 0:00:01\r\u001b[K     |██████████████████████████████▍ | 1.4MB 14.8MB/s eta 0:00:01\r\u001b[K     |██████████████████████████████▋ | 1.4MB 14.8MB/s eta 0:00:01\r\u001b[K     |██████████████████████████████▉ | 1.4MB 14.8MB/s eta 0:00:01\r\u001b[K     |███████████████████████████████ | 1.4MB 14.8MB/s eta 0:00:01\r\u001b[K     |███████████████████████████████▎| 1.4MB 14.8MB/s eta 0:00:01\r\u001b[K     |███████████████████████████████▌| 1.4MB 14.8MB/s eta 0:00:01\r\u001b[K     |███████████████████████████████▊| 1.4MB 14.8MB/s eta 0:00:01\r\u001b[K     |████████████████████████████████| 1.4MB 14.8MB/s \n",
            "\u001b[?25hRequirement already satisfied: click in /usr/local/lib/python3.7/dist-packages (from nltk==3.5) (7.1.2)\n",
            "Requirement already satisfied: joblib in /usr/local/lib/python3.7/dist-packages (from nltk==3.5) (1.0.1)\n",
            "Requirement already satisfied: regex in /usr/local/lib/python3.7/dist-packages (from nltk==3.5) (2019.12.20)\n",
            "Requirement already satisfied: tqdm in /usr/local/lib/python3.7/dist-packages (from nltk==3.5) (4.41.1)\n",
            "Building wheels for collected packages: nltk\n",
            "  Building wheel for nltk (setup.py) ... \u001b[?25l\u001b[?25hdone\n",
            "  Created wheel for nltk: filename=nltk-3.5-cp37-none-any.whl size=1434676 sha256=94afb4b8b422e4216f8ee2f0f28847ef815ebf65d47dcac232ffda88ec499d67\n",
            "  Stored in directory: /root/.cache/pip/wheels/ae/8c/3f/b1fe0ba04555b08b57ab52ab7f86023639a526d8bc8d384306\n",
            "Successfully built nltk\n",
            "Installing collected packages: nltk\n",
            "  Found existing installation: nltk 3.6.2\n",
            "    Uninstalling nltk-3.6.2:\n",
            "      Successfully uninstalled nltk-3.6.2\n",
            "Successfully installed nltk-3.5\n"
          ],
          "name": "stdout"
        },
        {
          "output_type": "display_data",
          "data": {
            "application/vnd.colab-display-data+json": {
              "pip_warning": {
                "packages": [
                  "nltk"
                ]
              }
            }
          },
          "metadata": {
            "tags": []
          }
        }
      ]
    },
    {
      "cell_type": "code",
      "metadata": {
        "id": "jnHMAkMA0WmC"
      },
      "source": [
        "from collections import Counter\n",
        "import pandas as pd\n",
        "import numpy as np\n",
        "from tqdm import tqdm\n",
        "import matplotlib.pyplot as plt\n",
        "import re\n",
        "from nltk import word_tokenize\n",
        "import string\n",
        "from nltk.lm.preprocessing import padded_everygram_pipeline\n",
        "from nltk.lm import MLE, Laplace, KneserNeyInterpolated, WittenBellInterpolated\n",
        "import os\n",
        "import pickle\n",
        "from nltk.tokenize.treebank import TreebankWordDetokenizer"
      ],
      "execution_count": 2,
      "outputs": []
    },
    {
      "cell_type": "code",
      "metadata": {
        "id": "1izBqBEMfYxm"
      },
      "source": [
        "df = pd.read_csv('/content/drive/MyDrive/NMT/final_data.csv')"
      ],
      "execution_count": 11,
      "outputs": []
    },
    {
      "cell_type": "code",
      "metadata": {
        "colab": {
          "base_uri": "https://localhost:8080/",
          "height": 206
        },
        "id": "hnp2huIhg-vg",
        "outputId": "5aa70e19-b089-4135-9773-d34cde306899"
      },
      "source": [
        "df.head(5)"
      ],
      "execution_count": 12,
      "outputs": [
        {
          "output_type": "execute_result",
          "data": {
            "text/html": [
              "<div>\n",
              "<style scoped>\n",
              "    .dataframe tbody tr th:only-of-type {\n",
              "        vertical-align: middle;\n",
              "    }\n",
              "\n",
              "    .dataframe tbody tr th {\n",
              "        vertical-align: top;\n",
              "    }\n",
              "\n",
              "    .dataframe thead th {\n",
              "        text-align: right;\n",
              "    }\n",
              "</style>\n",
              "<table border=\"1\" class=\"dataframe\">\n",
              "  <thead>\n",
              "    <tr style=\"text-align: right;\">\n",
              "      <th></th>\n",
              "      <th>text_clean</th>\n",
              "      <th>text_clean_no_accent</th>\n",
              "    </tr>\n",
              "  </thead>\n",
              "  <tbody>\n",
              "    <tr>\n",
              "      <th>0</th>\n",
              "      <td>chây ì nộp phạt nguội</td>\n",
              "      <td>chay i nop phat nguoi</td>\n",
              "    </tr>\n",
              "    <tr>\n",
              "      <th>1</th>\n",
              "      <td>cháu đòi tiền cơm dì đòi tiền nhà</td>\n",
              "      <td>chau doi tien com di doi tien nha</td>\n",
              "    </tr>\n",
              "    <tr>\n",
              "      <th>2</th>\n",
              "      <td>đà nẵng nghiên cứu tiện ích nhắn tin khi vi ph...</td>\n",
              "      <td>da nang nghien cuu tien ich nhan tin khi vi ph...</td>\n",
              "    </tr>\n",
              "    <tr>\n",
              "      <th>3</th>\n",
              "      <td>khó xử vụ mẹ tuổi trộm xe hơi của con gái</td>\n",
              "      <td>kho xu vu me tuoi trom xe hoi cua con gai</td>\n",
              "    </tr>\n",
              "    <tr>\n",
              "      <th>4</th>\n",
              "      <td>thay đổi về đăng ký chuyển nhượng xe từ bạn cầ...</td>\n",
              "      <td>thay doi ve dang ky chuyen nhuong xe tu ban ca...</td>\n",
              "    </tr>\n",
              "  </tbody>\n",
              "</table>\n",
              "</div>"
            ],
            "text/plain": [
              "                                          text_clean                               text_clean_no_accent\n",
              "0                              chây ì nộp phạt nguội                              chay i nop phat nguoi\n",
              "1                  cháu đòi tiền cơm dì đòi tiền nhà                  chau doi tien com di doi tien nha\n",
              "2  đà nẵng nghiên cứu tiện ích nhắn tin khi vi ph...  da nang nghien cuu tien ich nhan tin khi vi ph...\n",
              "3          khó xử vụ mẹ tuổi trộm xe hơi của con gái          kho xu vu me tuoi trom xe hoi cua con gai\n",
              "4  thay đổi về đăng ký chuyển nhượng xe từ bạn cầ...  thay doi ve dang ky chuyen nhuong xe tu ban ca..."
            ]
          },
          "metadata": {
            "tags": []
          },
          "execution_count": 12
        }
      ]
    },
    {
      "cell_type": "code",
      "metadata": {
        "id": "qfkDb6dbjEIO"
      },
      "source": [
        "def tokenize(s):\n",
        "  return s.split(\" \")"
      ],
      "execution_count": 5,
      "outputs": []
    },
    {
      "cell_type": "code",
      "metadata": {
        "colab": {
          "base_uri": "https://localhost:8080/"
        },
        "id": "-8QvSBIakeQF",
        "outputId": "0037837f-62aa-4d65-e45f-a4b86709828b"
      },
      "source": [
        "df_train = df.iloc[:100000, :]\n",
        "df_test = df.iloc[-1000:, :]\n",
        "df_train.shape, df_test.shape"
      ],
      "execution_count": 13,
      "outputs": [
        {
          "output_type": "execute_result",
          "data": {
            "text/plain": [
              "((100000, 2), (1000, 2))"
            ]
          },
          "metadata": {
            "tags": []
          },
          "execution_count": 13
        }
      ]
    },
    {
      "cell_type": "code",
      "metadata": {
        "id": "9T-VkVjokmqV"
      },
      "source": [
        "sents = df_train.text_clean.to_list()"
      ],
      "execution_count": 7,
      "outputs": []
    },
    {
      "cell_type": "code",
      "metadata": {
        "colab": {
          "base_uri": "https://localhost:8080/"
        },
        "id": "kMNkmGRji3uh",
        "outputId": "21c556f1-1439-4d5d-efc9-ca4fca70c944"
      },
      "source": [
        "corpus = []\n",
        "for sent in tqdm(sents, position=0, leave=True):\n",
        "  corpus.append(tokenize(sent))"
      ],
      "execution_count": 8,
      "outputs": [
        {
          "output_type": "stream",
          "text": [
            "100%|██████████| 100000/100000 [00:00<00:00, 259429.88it/s]\n"
          ],
          "name": "stderr"
        }
      ]
    },
    {
      "cell_type": "code",
      "metadata": {
        "id": "BJePEGpAlMBE"
      },
      "source": [
        "n = 3\n",
        "train_data, padded_sents = padded_everygram_pipeline(n, corpus)"
      ],
      "execution_count": 11,
      "outputs": []
    },
    {
      "cell_type": "code",
      "metadata": {
        "colab": {
          "base_uri": "https://localhost:8080/"
        },
        "id": "VGmZD5hDmJbK",
        "outputId": "39b86b74-9a81-426f-e3fc-6612dd7e6902"
      },
      "source": [
        "%%time\n",
        "vi_model = KneserNeyInterpolated(n)\n",
        "vi_model.fit(train_data, padded_sents)"
      ],
      "execution_count": 12,
      "outputs": [
        {
          "output_type": "stream",
          "text": [
            "CPU times: user 36.5 s, sys: 277 ms, total: 36.8 s\n",
            "Wall time: 36.7 s\n"
          ],
          "name": "stdout"
        }
      ]
    },
    {
      "cell_type": "code",
      "metadata": {
        "id": "yPaVAHzilqSV"
      },
      "source": [
        "model_dir = \"/content/drive/My Drive/Colab Notebooks/Ngram_model\"\n",
        "with open(os.path.join(model_dir, 'kneserney_1st_ngram_model.pkl'), 'wb') as fout:\n",
        "    pickle.dump(vi_model, fout)"
      ],
      "execution_count": 43,
      "outputs": []
    },
    {
      "cell_type": "code",
      "metadata": {
        "colab": {
          "base_uri": "https://localhost:8080/"
        },
        "id": "smMFgs_3l90n",
        "outputId": "86cf8a0b-af1a-45cc-824c-9b3eda81e202"
      },
      "source": [
        "!wget -O vn_syllables.txt \"https://gist.githubusercontent.com/hieuthi/0f5adb7d3f79e7fb67e0e499004bf558/raw/135a4d9716e49a981624474156d6f247b9b46f6a/all-vietnamese-syllables.txt\""
      ],
      "execution_count": 9,
      "outputs": [
        {
          "output_type": "stream",
          "text": [
            "--2021-05-27 04:53:21--  https://gist.githubusercontent.com/hieuthi/0f5adb7d3f79e7fb67e0e499004bf558/raw/135a4d9716e49a981624474156d6f247b9b46f6a/all-vietnamese-syllables.txt\n",
            "Resolving gist.githubusercontent.com (gist.githubusercontent.com)... 185.199.110.133, 185.199.109.133, 185.199.108.133, ...\n",
            "Connecting to gist.githubusercontent.com (gist.githubusercontent.com)|185.199.110.133|:443... connected.\n",
            "HTTP request sent, awaiting response... 200 OK\n",
            "Length: 116290 (114K) [text/plain]\n",
            "Saving to: ‘vn_syllables.txt’\n",
            "\n",
            "vn_syllables.txt    100%[===================>] 113.56K  --.-KB/s    in 0.008s  \n",
            "\n",
            "2021-05-27 04:53:21 (14.1 MB/s) - ‘vn_syllables.txt’ saved [116290/116290]\n",
            "\n"
          ],
          "name": "stdout"
        }
      ]
    },
    {
      "cell_type": "code",
      "metadata": {
        "id": "Gci-Kb43mgoe"
      },
      "source": [
        "def remove_vn_accent(word):\n",
        "    word = re.sub('[áàảãạăắằẳẵặâấầẩẫậ]', 'a', word)\n",
        "    word = re.sub('[éèẻẽẹêếềểễệ]', 'e', word)\n",
        "    word = re.sub('[óòỏõọôốồổỗộơớờởỡợ]', 'o', word)\n",
        "    word = re.sub('[íìỉĩị]', 'i', word)\n",
        "    word = re.sub('[úùủũụưứừửữự]', 'u', word)\n",
        "    word = re.sub('[ýỳỷỹỵ]', 'y', word)\n",
        "    word = re.sub('đ', 'd', word)\n",
        "    return word\n",
        "\n",
        "def gen_accents_word(word):\n",
        "    word_no_accent = remove_vn_accent(word.lower())\n",
        "    all_accent_word = {word}\n",
        "    for w in open('vn_syllables.txt').read().splitlines():\n",
        "        w_no_accent = remove_vn_accent(w.lower())\n",
        "        if w_no_accent == word_no_accent:\n",
        "            all_accent_word.add(w)\n",
        "    return all_accent_word\n"
      ],
      "execution_count": 5,
      "outputs": []
    },
    {
      "cell_type": "code",
      "metadata": {
        "id": "0Gg9b-w0mmqC"
      },
      "source": [
        "# beam search\n",
        "def beam_search(words, model, k=3):\n",
        "  sequences = []\n",
        "  for idx, word in enumerate(words):\n",
        "    if idx == 0:\n",
        "      sequences = [([x], 0.0) for x in gen_accents_word(word)]\n",
        "    else:\n",
        "      all_sequences = []\n",
        "      for seq in sequences:\n",
        "        for next_word in gen_accents_word(word):\n",
        "          current_word = seq[0][-1]\n",
        "          try:\n",
        "              previous_word = seq[0][-2]\n",
        "              score = model.logscore(next_word, [previous_word, current_word])\n",
        "          except:\n",
        "              score = model.logscore(next_word, [current_word])\n",
        "          new_seq = seq[0].copy()\n",
        "          new_seq.append(next_word)\n",
        "          all_sequences.append((new_seq, seq[1] + score))\n",
        "      all_sequences = sorted(all_sequences,key=lambda x: x[1], reverse=True)\n",
        "      sequences = all_sequences[:k]\n",
        "  return sequences"
      ],
      "execution_count": 4,
      "outputs": []
    },
    {
      "cell_type": "code",
      "metadata": {
        "id": "5bsQinepnL_e"
      },
      "source": [
        "import os\n",
        "import pickle\n",
        "\n",
        "model_dir = \"/content/drive/My Drive/Colab Notebooks/Ngram_model\"\n",
        "with open(os.path.join(model_dir, 'kneserney_1st_ngram_model.pkl'), 'rb') as fin:\n",
        "    model_loaded = pickle.load(fin)\n",
        "\n",
        "# print(len(model_loaded.vocab))"
      ],
      "execution_count": 3,
      "outputs": []
    },
    {
      "cell_type": "code",
      "metadata": {
        "colab": {
          "base_uri": "https://localhost:8080/",
          "height": 36
        },
        "id": "GAYjvNnhJIHu",
        "outputId": "6d774585-e2e7-4726-e0a7-b8dda8d1015e"
      },
      "source": [
        "model_loaded.vocab.unk_label"
      ],
      "execution_count": 14,
      "outputs": [
        {
          "output_type": "execute_result",
          "data": {
            "application/vnd.google.colaboratory.intrinsic+json": {
              "type": "string"
            },
            "text/plain": [
              "'<UNK>'"
            ]
          },
          "metadata": {
            "tags": []
          },
          "execution_count": 14
        }
      ]
    },
    {
      "cell_type": "code",
      "metadata": {
        "colab": {
          "base_uri": "https://localhost:8080/"
        },
        "id": "xBim_f4NJQqv",
        "outputId": "5d7fad67-5bc6-4dc7-e5dd-01a9526b598e"
      },
      "source": [
        "# cháu đòi tiền\n",
        "model_loaded.logscore(\"tiền\", [\"á\", \"đòi\"])"
      ],
      "execution_count": 6,
      "outputs": [
        {
          "output_type": "execute_result",
          "data": {
            "text/plain": [
              "-3.869823092066273"
            ]
          },
          "metadata": {
            "tags": []
          },
          "execution_count": 6
        }
      ]
    },
    {
      "cell_type": "code",
      "metadata": {
        "colab": {
          "base_uri": "https://localhost:8080/"
        },
        "id": "agKnWtxQmqm8",
        "outputId": "d28ee96d-2806-409d-ba99-0ab867709c4f"
      },
      "source": [
        "detokenize = TreebankWordDetokenizer().detokenize\n",
        "sentence = \"ngay hom qua la ngay bau cư tong thong My\"\n",
        "result = beam_search(sentence.lower().split(), model_loaded)\n",
        "print(detokenize(result[0][0]))"
      ],
      "execution_count": 8,
      "outputs": [
        {
          "output_type": "stream",
          "text": [
            "ngày hôm qua là ngày bầu cử tổng thống mỹ\n"
          ],
          "name": "stdout"
        }
      ]
    },
    {
      "cell_type": "markdown",
      "metadata": {
        "id": "ZlKX8M4JL49o"
      },
      "source": [
        "# Evaluation"
      ]
    },
    {
      "cell_type": "code",
      "metadata": {
        "id": "QBmQ3XORL6-F"
      },
      "source": [
        "def inference(sentence):\n",
        "  result = beam_search(sentence.lower().split(), model_loaded)\n",
        "  s_result = detokenize(result[0][0])\n",
        "  if len(s_result) > 0:\n",
        "    return s_result\n",
        "  return ''"
      ],
      "execution_count": 9,
      "outputs": []
    },
    {
      "cell_type": "code",
      "metadata": {
        "colab": {
          "base_uri": "https://localhost:8080/",
          "height": 36
        },
        "id": "icWNWaVTMMsq",
        "outputId": "45d89dba-eccf-43e4-d427-9d26476ac141"
      },
      "source": [
        "inference(\"tram nam roi lai ra di\")"
      ],
      "execution_count": 14,
      "outputs": [
        {
          "output_type": "execute_result",
          "data": {
            "application/vnd.google.colaboratory.intrinsic+json": {
              "type": "string"
            },
            "text/plain": [
              "'trăm năm rồi lái ra đi'"
            ]
          },
          "metadata": {
            "tags": []
          },
          "execution_count": 14
        }
      ]
    },
    {
      "cell_type": "code",
      "metadata": {
        "colab": {
          "base_uri": "https://localhost:8080/"
        },
        "id": "C8Og9gmHMO16",
        "outputId": "bf73e617-7c39-4f38-bf07-e9892d603be0"
      },
      "source": [
        "%%time\n",
        "df_test['predict'] = df_test.text_clean_no_accent.apply(inference)"
      ],
      "execution_count": 15,
      "outputs": [
        {
          "output_type": "stream",
          "text": [
            "CPU times: user 2h 15min 50s, sys: 20.5 s, total: 2h 16min 11s\n",
            "Wall time: 2h 16min 15s\n"
          ],
          "name": "stdout"
        },
        {
          "output_type": "stream",
          "text": [
            "/usr/local/lib/python3.7/dist-packages/ipykernel_launcher.py:1: SettingWithCopyWarning: \n",
            "A value is trying to be set on a copy of a slice from a DataFrame.\n",
            "Try using .loc[row_indexer,col_indexer] = value instead\n",
            "\n",
            "See the caveats in the documentation: https://pandas.pydata.org/pandas-docs/stable/user_guide/indexing.html#returning-a-view-versus-a-copy\n",
            "  \"\"\"Entry point for launching an IPython kernel.\n"
          ],
          "name": "stderr"
        }
      ]
    },
    {
      "cell_type": "code",
      "metadata": {
        "id": "oUzYUnT9tVHM"
      },
      "source": [
        "def sentence_accuracy(row):\n",
        "  src = row.text_clean.split(\" \")\n",
        "  predict = row.predict.split(\" \")\n",
        "  t = 0\n",
        "  for i in range(min(len(src), len(predict))):\n",
        "    if (src[i] == predict[i]):\n",
        "      t += 1\n",
        "  return t/len(src)"
      ],
      "execution_count": 17,
      "outputs": []
    },
    {
      "cell_type": "code",
      "metadata": {
        "colab": {
          "base_uri": "https://localhost:8080/"
        },
        "id": "GBvhjVhYtYfY",
        "outputId": "a815b6f8-b46c-450a-f551-cac7e457ab5d"
      },
      "source": [
        "%%time\n",
        "df_test['accuracy'] = df_test.apply(sentence_accuracy, axis=1)"
      ],
      "execution_count": 18,
      "outputs": [
        {
          "output_type": "stream",
          "text": [
            "CPU times: user 33.4 ms, sys: 1 µs, total: 33.4 ms\n",
            "Wall time: 34.4 ms\n"
          ],
          "name": "stdout"
        },
        {
          "output_type": "stream",
          "text": [
            "/usr/local/lib/python3.7/dist-packages/ipykernel_launcher.py:1: SettingWithCopyWarning: \n",
            "A value is trying to be set on a copy of a slice from a DataFrame.\n",
            "Try using .loc[row_indexer,col_indexer] = value instead\n",
            "\n",
            "See the caveats in the documentation: https://pandas.pydata.org/pandas-docs/stable/user_guide/indexing.html#returning-a-view-versus-a-copy\n",
            "  \"\"\"Entry point for launching an IPython kernel.\n"
          ],
          "name": "stderr"
        }
      ]
    },
    {
      "cell_type": "code",
      "metadata": {
        "colab": {
          "base_uri": "https://localhost:8080/"
        },
        "id": "a-qa8tmwtb46",
        "outputId": "85e0cd5d-535b-4c8b-9b96-1b88859ec2e5"
      },
      "source": [
        "df_test.accuracy.mean()"
      ],
      "execution_count": 19,
      "outputs": [
        {
          "output_type": "execute_result",
          "data": {
            "text/plain": [
              "0.7228009544158676"
            ]
          },
          "metadata": {
            "tags": []
          },
          "execution_count": 19
        }
      ]
    },
    {
      "cell_type": "code",
      "metadata": {
        "colab": {
          "base_uri": "https://localhost:8080/",
          "height": 356
        },
        "id": "Lbk5LNYethdP",
        "outputId": "ac3af439-bb6b-4d00-bf4c-56fb3d53ba9a"
      },
      "source": [
        "plt.hist(df_test.accuracy, bins=20)"
      ],
      "execution_count": 20,
      "outputs": [
        {
          "output_type": "execute_result",
          "data": {
            "text/plain": [
              "(array([ 10.,   0.,   6.,   6.,   9.,  19.,  12.,  23.,  33.,  19.,  69.,\n",
              "         69.,  62.,  85.,  60.,  84., 111.,  71.,  80., 172.]),\n",
              " array([0.  , 0.05, 0.1 , 0.15, 0.2 , 0.25, 0.3 , 0.35, 0.4 , 0.45, 0.5 ,\n",
              "        0.55, 0.6 , 0.65, 0.7 , 0.75, 0.8 , 0.85, 0.9 , 0.95, 1.  ]),\n",
              " <a list of 20 Patch objects>)"
            ]
          },
          "metadata": {
            "tags": []
          },
          "execution_count": 20
        },
        {
          "output_type": "display_data",
          "data": {
            "image/png": "[encoded data removed]",
            "text/plain": [
              "<Figure size 432x288 with 1 Axes>"
            ]
          },
          "metadata": {
            "tags": [],
            "needs_background": "light"
          }
        }
      ]
    }
  ]
}