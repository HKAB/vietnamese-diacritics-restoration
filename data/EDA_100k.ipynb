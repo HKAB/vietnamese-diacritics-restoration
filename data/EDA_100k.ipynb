{
 "cells": [
  {
   "cell_type": "code",
   "execution_count": 1,
   "id": "fixed-blake",
   "metadata": {},
   "outputs": [],
   "source": [
    "import pandas as pd\n",
    "import numpy as np\n",
    "import re"
   ]
  },
  {
   "cell_type": "code",
   "execution_count": 2,
   "id": "august-visit",
   "metadata": {},
   "outputs": [
    {
     "name": "stdout",
     "output_type": "stream",
     "text": [
      "CPU times: user 9.23 s, sys: 3.58 s, total: 12.8 s\n",
      "Wall time: 36.7 s\n"
     ]
    }
   ],
   "source": [
    "%%time\n",
    "with open(\"data/corpus-title.txt\", 'r') as f:\n",
    "    data = f.readlines()\n",
    "df = pd.DataFrame(data, columns=[\"text\"])\n",
    "del data"
   ]
  },
  {
   "cell_type": "code",
   "execution_count": 3,
   "id": "metallic-postcard",
   "metadata": {},
   "outputs": [
    {
     "name": "stdout",
     "output_type": "stream",
     "text": [
      "<class 'pandas.core.frame.DataFrame'>\n",
      "RangeIndex: 9487416 entries, 0 to 9487415\n",
      "Data columns (total 1 columns):\n",
      " #   Column  Dtype \n",
      "---  ------  ----- \n",
      " 0   text    object\n",
      "dtypes: object(1)\n",
      "memory usage: 72.4+ MB\n"
     ]
    }
   ],
   "source": [
    "df.info()"
   ]
  },
  {
   "cell_type": "code",
   "execution_count": 4,
   "id": "successful-contemporary",
   "metadata": {},
   "outputs": [],
   "source": [
    "df['length'] = df['text'].apply(lambda x: len(x))\n",
    "df['num_tokens'] = df['text'].apply(lambda x: len(x.split(\" \")))"
   ]
  },
  {
   "cell_type": "code",
   "execution_count": 5,
   "id": "informed-citizenship",
   "metadata": {},
   "outputs": [
    {
     "data": {
      "text/plain": [
       "(3, 430)"
      ]
     },
     "execution_count": 5,
     "metadata": {},
     "output_type": "execute_result"
    }
   ],
   "source": [
    "df['length'].min(), df['length'].max()"
   ]
  },
  {
   "cell_type": "code",
   "execution_count": 6,
   "id": "three-travel",
   "metadata": {},
   "outputs": [],
   "source": [
    "# only sentences with length > 9 \n",
    "df = df[df['length'] > 9]"
   ]
  },
  {
   "cell_type": "code",
   "execution_count": 7,
   "id": "helpful-female",
   "metadata": {},
   "outputs": [
    {
     "data": {
      "text/plain": [
       "'bán tặng xe không phải thông báo với cơ quan công an từ ngày'"
      ]
     },
     "execution_count": 7,
     "metadata": {},
     "output_type": "execute_result"
    }
   ],
   "source": [
    "def clean_text(x):\n",
    "    x_clean = x\n",
    "    if type(x) == str:\n",
    "        god_pattern = \"[AĂÂÁẮẤÀẰẦẢẲẨÃẴẪẠẶẬĐEÊÉẾÈỀẺỂẼỄẸỆIÍÌỈĨỊOÔƠÓỐỚÒỒỜỎỔỞÕỖỠỌỘỢUƯÚỨÙỪỦỬŨỮỤỰYÝỲỶỸỴAĂÂÁẮẤÀẰẦẢẲẨÃẴẪẠẶẬĐEÊÉẾÈỀẺỂẼỄẸỆIÍÌỈĨỊOÔƠÓỐỚÒỒỜỎỔỞÕỖỠỌỘỢUƯÚỨÙỪỦỬŨỮỤỰYÝỲỶỸỴAĂÂÁẮẤÀẰẦẢẲẨÃẴẪẠẶẬĐEÊÉẾÈỀẺỂẼỄẸỆIÍÌỈĨỊOÔƠÓỐỚÒỒỜỎỔỞÕỖỠỌỘỢUƯÚỨÙỪỦỬŨỮỤỰYÝỲỶỸỴAĂÂÁẮẤÀẰẦẢẲẨÃẴẪẠẶẬĐEÊÉẾÈỀẺỂẼỄẸỆIÍÌỈĨỊOÔƠÓỐỚÒỒỜỎỔỞÕỖỠỌỘỢUƯÚỨÙỪỦỬŨỮỤỰYÝỲỶỸỴAĂÂÁẮẤÀẰẦẢẲẨÃẴẪẠẶẬĐEÊÉẾÈỀẺỂẼỄẸỆIÍÌỈĨỊOÔƠÓỐỚÒỒỜỎỔỞÕỖỠỌỘỢUƯÚỨÙỪỦỬŨỮỤỰYÝỲỶỸỴAĂÂÁẮẤÀẰẦẢẲẨÃẴẪẠẶẬĐEÊÉẾÈỀẺỂẼỄẸỆIÍÌỈĨỊOÔƠÓỐỚÒỒỜỎỔỞÕỖỠỌỘỢUƯÚỨÙỪỦỬŨỮỤỰYÝỲỶỸỴaăâáắấàằầảẳẩãẵẫạặậđeêéếèềẻểẽễẹệiíìỉĩịoôơóốớòồờỏổởõỗỡọộợuưúứùừủửũữụựyýỳỷỹỵaăâáắấàằầảẳẩãẵẫạặậđeêéếèềẻểẽễẹệiíìỉĩịoôơóốớòồờỏổởõỗỡọộợuưúứùừủửũữụựyýỳỷỹỵaăâáắấàằầảẳẩãẵẫạặậđeêéếèềẻểẽễẹệiíìỉĩịoôơóốớòồờỏổởõỗỡọộợuưúứùừủửũữụựyýỳỷỹỵaăâáắấàằầảẳẩãẵẫạặậđeêéếèềẻểẽễẹệiíìỉĩịoôơóốớòồờỏổởõỗỡọộợuưúứùừủửũữụựyýỳỷỹỵaăâáắấàằầảẳẩãẵẫạặậđeêéếèềẻểẽễẹệiíìỉĩịoôơóốớòồờỏổởõỗỡọộợuưúứùừủửũữụựyýỳỷỹỵaăâáắấàằầảẳẩãẵẫạặậđeêéếèềẻểẽễẹệiíìỉĩịoôơóốớòồờỏổởõỗỡọộợuưúứùừủửũữụựyýỳỷỹỵA-Za-z]+\"\n",
    "        w_iter = re.findall(god_pattern, x)\n",
    "        x_clean = ' '.join(w for w in w_iter)\n",
    "    x_clean = x_clean.lower()\n",
    "    x_clean = x_clean.strip()\n",
    "    return x_clean\n",
    "#         for number in re.findall('(?:[+-]?(?:[0-9]+))', x):\n",
    "#             x = x.replace(number, \"\")\n",
    "#         x = x.replace(\"  \", \"\")\n",
    "#         x = x.strip()\n",
    "#     return x\n",
    "# re.findall(\"\"[.!?'\"(){}']\"\")\n",
    "clean_text(\"Bán, tặng xe không phải thông báo với cơ quan công an từ ngày 12/2.\\n\")"
   ]
  },
  {
   "cell_type": "code",
   "execution_count": 8,
   "id": "varying-improvement",
   "metadata": {},
   "outputs": [
    {
     "name": "stdout",
     "output_type": "stream",
     "text": [
      "CPU times: user 1min 22s, sys: 1.93 s, total: 1min 24s\n",
      "Wall time: 1min 24s\n"
     ]
    }
   ],
   "source": [
    "%%time\n",
    "df['text_clean'] = df['text'].apply(clean_text)"
   ]
  },
  {
   "cell_type": "code",
   "execution_count": 9,
   "id": "healthy-century",
   "metadata": {},
   "outputs": [],
   "source": [
    "df[['text_clean']].to_csv(\"data/corpus-title_clean.csv\", index=False)"
   ]
  },
  {
   "cell_type": "markdown",
   "id": "palestinian-scheme",
   "metadata": {},
   "source": [
    "## Handle the shit above"
   ]
  },
  {
   "cell_type": "code",
   "execution_count": 2,
   "id": "outdoor-dollar",
   "metadata": {},
   "outputs": [],
   "source": [
    "df = pd.read_csv(\"data/corpus-title_clean.csv\")"
   ]
  },
  {
   "cell_type": "code",
   "execution_count": 11,
   "id": "manufactured-feature",
   "metadata": {},
   "outputs": [],
   "source": [
    "df = df[~df.text_clean.isnull()]"
   ]
  },
  {
   "cell_type": "code",
   "execution_count": 12,
   "id": "amended-strategy",
   "metadata": {},
   "outputs": [
    {
     "name": "stdout",
     "output_type": "stream",
     "text": [
      "<class 'pandas.core.frame.DataFrame'>\n",
      "Int64Index: 9479271 entries, 0 to 9479598\n",
      "Data columns (total 1 columns):\n",
      " #   Column      Dtype \n",
      "---  ------      ----- \n",
      " 0   text_clean  object\n",
      "dtypes: object(1)\n",
      "memory usage: 144.6+ MB\n"
     ]
    }
   ],
   "source": [
    "df.info()"
   ]
  },
  {
   "cell_type": "code",
   "execution_count": 13,
   "id": "derived-madison",
   "metadata": {},
   "outputs": [
    {
     "data": {
      "text/plain": [
       "'chay i nop phat nguoi'"
      ]
     },
     "execution_count": 13,
     "metadata": {},
     "output_type": "execute_result"
    }
   ],
   "source": [
    "def no_accent_vietnamese(s):\n",
    "    if (type(s) == str):\n",
    "        s = re.sub(r'[àáạảãâầấậẩẫăằắặẳẵ]', 'a', s)\n",
    "        s = re.sub(r'[ÀÁẠẢÃĂẰẮẶẲẴÂẦẤẬẨẪ]', 'A', s)\n",
    "        s = re.sub(r'[èéẹẻẽêềếệểễ]', 'e', s)\n",
    "        s = re.sub(r'[ÈÉẸẺẼÊỀẾỆỂỄ]', 'E', s)\n",
    "        s = re.sub(r'[òóọỏõôồốộổỗơờớợởỡ]', 'o', s)\n",
    "        s = re.sub(r'[ÒÓỌỎÕÔỒỐỘỔỖƠỜỚỢỞỠ]', 'O', s)\n",
    "        s = re.sub(r'[ìíịỉĩ]', 'i', s)\n",
    "        s = re.sub(r'[ÌÍỊỈĨ]', 'I', s)\n",
    "        s = re.sub(r'[ùúụủũưừứựửữ]', 'u', s)\n",
    "        s = re.sub(r'[ƯỪỨỰỬỮÙÚỤỦŨ]', 'U', s)\n",
    "        s = re.sub(r'[ỳýỵỷỹ]', 'y', s)\n",
    "        s = re.sub(r'[ỲÝỴỶỸ]', 'Y', s)\n",
    "        s = re.sub(r'[Đ]', 'D', s)\n",
    "        s = re.sub(r'[đ]', 'd', s)\n",
    "    return s\n",
    "no_accent_vietnamese(\"chây ì nộp phạt nguội\")"
   ]
  },
  {
   "cell_type": "code",
   "execution_count": 14,
   "id": "minimal-pharmacology",
   "metadata": {},
   "outputs": [
    {
     "name": "stdout",
     "output_type": "stream",
     "text": [
      "CPU times: user 4min 2s, sys: 3.39 s, total: 4min 5s\n",
      "Wall time: 4min 5s\n"
     ]
    },
    {
     "name": "stderr",
     "output_type": "stream",
     "text": [
      "/home/hkab/miniconda3/envs/nlp/lib/python3.6/site-packages/ipykernel_launcher.py:1: SettingWithCopyWarning: \n",
      "A value is trying to be set on a copy of a slice from a DataFrame.\n",
      "Try using .loc[row_indexer,col_indexer] = value instead\n",
      "\n",
      "See the caveats in the documentation: https://pandas.pydata.org/pandas-docs/stable/user_guide/indexing.html#returning-a-view-versus-a-copy\n",
      "  \"\"\"Entry point for launching an IPython kernel.\n"
     ]
    }
   ],
   "source": [
    "%%time\n",
    "df['text_clean_no_accent'] = df['text_clean'].apply(no_accent_vietnamese)"
   ]
  },
  {
   "cell_type": "code",
   "execution_count": 15,
   "id": "average-challenge",
   "metadata": {},
   "outputs": [
    {
     "data": {
      "text/html": [
       "<div>\n",
       "<style scoped>\n",
       "    .dataframe tbody tr th:only-of-type {\n",
       "        vertical-align: middle;\n",
       "    }\n",
       "\n",
       "    .dataframe tbody tr th {\n",
       "        vertical-align: top;\n",
       "    }\n",
       "\n",
       "    .dataframe thead th {\n",
       "        text-align: right;\n",
       "    }\n",
       "</style>\n",
       "<table border=\"1\" class=\"dataframe\">\n",
       "  <thead>\n",
       "    <tr style=\"text-align: right;\">\n",
       "      <th></th>\n",
       "      <th>text_clean</th>\n",
       "      <th>text_clean_no_accent</th>\n",
       "    </tr>\n",
       "  </thead>\n",
       "  <tbody>\n",
       "    <tr>\n",
       "      <th>0</th>\n",
       "      <td>chây ì nộp phạt nguội</td>\n",
       "      <td>chay i nop phat nguoi</td>\n",
       "    </tr>\n",
       "    <tr>\n",
       "      <th>1</th>\n",
       "      <td>cháu đòi tiền cơm dì đòi tiền nhà</td>\n",
       "      <td>chau doi tien com di doi tien nha</td>\n",
       "    </tr>\n",
       "    <tr>\n",
       "      <th>2</th>\n",
       "      <td>đà nẵng nghiên cứu tiện ích nhắn tin khi vi ph...</td>\n",
       "      <td>da nang nghien cuu tien ich nhan tin khi vi ph...</td>\n",
       "    </tr>\n",
       "    <tr>\n",
       "      <th>3</th>\n",
       "      <td>khó xử vụ mẹ tuổi trộm xe hơi của con gái</td>\n",
       "      <td>kho xu vu me tuoi trom xe hoi cua con gai</td>\n",
       "    </tr>\n",
       "    <tr>\n",
       "      <th>4</th>\n",
       "      <td>thay đổi về đăng ký chuyển nhượng xe từ bạn cầ...</td>\n",
       "      <td>thay doi ve dang ky chuyen nhuong xe tu ban ca...</td>\n",
       "    </tr>\n",
       "    <tr>\n",
       "      <th>5</th>\n",
       "      <td>những trường hợp cần trưng cầu giám định trong...</td>\n",
       "      <td>nhung truong hop can trung cau giam dinh trong...</td>\n",
       "    </tr>\n",
       "    <tr>\n",
       "      <th>6</th>\n",
       "      <td>thị trấn ollolai ở italia bán nhà với giá hơn ...</td>\n",
       "      <td>thi tran ollolai o italia ban nha voi gia hon ...</td>\n",
       "    </tr>\n",
       "    <tr>\n",
       "      <th>7</th>\n",
       "      <td>bỏ quy định bán tặng xe ô tô phải thông báo vớ...</td>\n",
       "      <td>bo quy dinh ban tang xe o to phai thong bao vo...</td>\n",
       "    </tr>\n",
       "    <tr>\n",
       "      <th>8</th>\n",
       "      <td>từ người bán tặng xe ô tô không phải thông báo...</td>\n",
       "      <td>tu nguoi ban tang xe o to khong phai thong bao...</td>\n",
       "    </tr>\n",
       "    <tr>\n",
       "      <th>9</th>\n",
       "      <td>cái kết đắng chát sau năm đám cưới là lời tuyê...</td>\n",
       "      <td>cai ket dang chat sau nam dam cuoi la loi tuye...</td>\n",
       "    </tr>\n",
       "  </tbody>\n",
       "</table>\n",
       "</div>"
      ],
      "text/plain": [
       "                                          text_clean  \\\n",
       "0                              chây ì nộp phạt nguội   \n",
       "1                  cháu đòi tiền cơm dì đòi tiền nhà   \n",
       "2  đà nẵng nghiên cứu tiện ích nhắn tin khi vi ph...   \n",
       "3          khó xử vụ mẹ tuổi trộm xe hơi của con gái   \n",
       "4  thay đổi về đăng ký chuyển nhượng xe từ bạn cầ...   \n",
       "5  những trường hợp cần trưng cầu giám định trong...   \n",
       "6  thị trấn ollolai ở italia bán nhà với giá hơn ...   \n",
       "7  bỏ quy định bán tặng xe ô tô phải thông báo vớ...   \n",
       "8  từ người bán tặng xe ô tô không phải thông báo...   \n",
       "9  cái kết đắng chát sau năm đám cưới là lời tuyê...   \n",
       "\n",
       "                                text_clean_no_accent  \n",
       "0                              chay i nop phat nguoi  \n",
       "1                  chau doi tien com di doi tien nha  \n",
       "2  da nang nghien cuu tien ich nhan tin khi vi ph...  \n",
       "3          kho xu vu me tuoi trom xe hoi cua con gai  \n",
       "4  thay doi ve dang ky chuyen nhuong xe tu ban ca...  \n",
       "5  nhung truong hop can trung cau giam dinh trong...  \n",
       "6  thi tran ollolai o italia ban nha voi gia hon ...  \n",
       "7  bo quy dinh ban tang xe o to phai thong bao vo...  \n",
       "8  tu nguoi ban tang xe o to khong phai thong bao...  \n",
       "9  cai ket dang chat sau nam dam cuoi la loi tuye...  "
      ]
     },
     "execution_count": 15,
     "metadata": {},
     "output_type": "execute_result"
    }
   ],
   "source": [
    "df.head(10)"
   ]
  },
  {
   "cell_type": "code",
   "execution_count": 16,
   "id": "differential-zealand",
   "metadata": {},
   "outputs": [],
   "source": [
    "df.to_csv('data/final_data.csv', index=False)"
   ]
  }
 ],
 "metadata": {
  "kernelspec": {
   "display_name": "Python 3",
   "language": "python",
   "name": "python3"
  },
  "language_info": {
   "codemirror_mode": {
    "name": "ipython",
    "version": 3
   },
   "file_extension": ".py",
   "mimetype": "text/x-python",
   "name": "python",
   "nbconvert_exporter": "python",
   "pygments_lexer": "ipython3",
   "version": "3.6.13"
  }
 },
 "nbformat": 4,
 "nbformat_minor": 5
}
