{
 "cells": [
  {
   "cell_type": "code",
   "execution_count": 1,
   "id": "finished-cause",
   "metadata": {},
   "outputs": [],
   "source": [
    "import pandas as pd\n",
    "import numpy as np\n",
    "import re"
   ]
  },
  {
   "cell_type": "code",
   "execution_count": 29,
   "id": "moved-allowance",
   "metadata": {},
   "outputs": [
    {
     "name": "stdout",
     "output_type": "stream",
     "text": [
      "CPU times: user 371 ms, sys: 47.9 ms, total: 419 ms\n",
      "Wall time: 1.05 s\n"
     ]
    }
   ],
   "source": [
    "%%time\n",
    "with open(\"200k/paper_train.cd\", 'r') as f:\n",
    "    paper_train_cd = f.readlines()\n",
    "with open(\"200k/paper_test.cd\", 'r') as f:\n",
    "    paper_test_cd = f.readlines()\n",
    "\n",
    "num_train = len(paper_train_cd)\n",
    "num_test = len(paper_test_cd)\n",
    "\n",
    "df = pd.DataFrame(paper_train_cd + paper_test_cd, columns=[\"text\"])\n",
    "del paper_train_cd\n",
    "del paper_test_cd"
   ]
  },
  {
   "cell_type": "code",
   "execution_count": 30,
   "id": "manufactured-judge",
   "metadata": {},
   "outputs": [
    {
     "name": "stdout",
     "output_type": "stream",
     "text": [
      "<class 'pandas.core.frame.DataFrame'>\n",
      "RangeIndex: 202274 entries, 0 to 202273\n",
      "Data columns (total 1 columns):\n",
      " #   Column  Non-Null Count   Dtype \n",
      "---  ------  --------------   ----- \n",
      " 0   text    202274 non-null  object\n",
      "dtypes: object(1)\n",
      "memory usage: 1.5+ MB\n"
     ]
    }
   ],
   "source": [
    "df.info()"
   ]
  },
  {
   "cell_type": "code",
   "execution_count": 31,
   "id": "retained-geography",
   "metadata": {},
   "outputs": [],
   "source": [
    "df['length'] = df['text'].apply(lambda x: len(x))\n",
    "df['num_tokens'] = df['text'].apply(lambda x: len(x.split(\" \")))"
   ]
  },
  {
   "cell_type": "code",
   "execution_count": 32,
   "id": "generous-editor",
   "metadata": {},
   "outputs": [
    {
     "data": {
      "text/plain": [
       "(2, 3009)"
      ]
     },
     "execution_count": 32,
     "metadata": {},
     "output_type": "execute_result"
    }
   ],
   "source": [
    "df['length'].min(), df['length'].max()"
   ]
  },
  {
   "cell_type": "code",
   "execution_count": 33,
   "id": "upset-emission",
   "metadata": {},
   "outputs": [
    {
     "data": {
      "text/plain": [
       "'bán tặng xe không phải thông báo với cơ quan công an từ ngày'"
      ]
     },
     "execution_count": 33,
     "metadata": {},
     "output_type": "execute_result"
    }
   ],
   "source": [
    "def clean_text(x):\n",
    "    x_clean = x\n",
    "    if type(x) == str:\n",
    "        god_pattern = \"[AĂÂÁẮẤÀẰẦẢẲẨÃẴẪẠẶẬĐEÊÉẾÈỀẺỂẼỄẸỆIÍÌỈĨỊOÔƠÓỐỚÒỒỜỎỔỞÕỖỠỌỘỢUƯÚỨÙỪỦỬŨỮỤỰYÝỲỶỸỴAĂÂÁẮẤÀẰẦẢẲẨÃẴẪẠẶẬĐEÊÉẾÈỀẺỂẼỄẸỆIÍÌỈĨỊOÔƠÓỐỚÒỒỜỎỔỞÕỖỠỌỘỢUƯÚỨÙỪỦỬŨỮỤỰYÝỲỶỸỴAĂÂÁẮẤÀẰẦẢẲẨÃẴẪẠẶẬĐEÊÉẾÈỀẺỂẼỄẸỆIÍÌỈĨỊOÔƠÓỐỚÒỒỜỎỔỞÕỖỠỌỘỢUƯÚỨÙỪỦỬŨỮỤỰYÝỲỶỸỴAĂÂÁẮẤÀẰẦẢẲẨÃẴẪẠẶẬĐEÊÉẾÈỀẺỂẼỄẸỆIÍÌỈĨỊOÔƠÓỐỚÒỒỜỎỔỞÕỖỠỌỘỢUƯÚỨÙỪỦỬŨỮỤỰYÝỲỶỸỴAĂÂÁẮẤÀẰẦẢẲẨÃẴẪẠẶẬĐEÊÉẾÈỀẺỂẼỄẸỆIÍÌỈĨỊOÔƠÓỐỚÒỒỜỎỔỞÕỖỠỌỘỢUƯÚỨÙỪỦỬŨỮỤỰYÝỲỶỸỴAĂÂÁẮẤÀẰẦẢẲẨÃẴẪẠẶẬĐEÊÉẾÈỀẺỂẼỄẸỆIÍÌỈĨỊOÔƠÓỐỚÒỒỜỎỔỞÕỖỠỌỘỢUƯÚỨÙỪỦỬŨỮỤỰYÝỲỶỸỴaăâáắấàằầảẳẩãẵẫạặậđeêéếèềẻểẽễẹệiíìỉĩịoôơóốớòồờỏổởõỗỡọộợuưúứùừủửũữụựyýỳỷỹỵaăâáắấàằầảẳẩãẵẫạặậđeêéếèềẻểẽễẹệiíìỉĩịoôơóốớòồờỏổởõỗỡọộợuưúứùừủửũữụựyýỳỷỹỵaăâáắấàằầảẳẩãẵẫạặậđeêéếèềẻểẽễẹệiíìỉĩịoôơóốớòồờỏổởõỗỡọộợuưúứùừủửũữụựyýỳỷỹỵaăâáắấàằầảẳẩãẵẫạặậđeêéếèềẻểẽễẹệiíìỉĩịoôơóốớòồờỏổởõỗỡọộợuưúứùừủửũữụựyýỳỷỹỵaăâáắấàằầảẳẩãẵẫạặậđeêéếèềẻểẽễẹệiíìỉĩịoôơóốớòồờỏổởõỗỡọộợuưúứùừủửũữụựyýỳỷỹỵaăâáắấàằầảẳẩãẵẫạặậđeêéếèềẻểẽễẹệiíìỉĩịoôơóốớòồờỏổởõỗỡọộợuưúứùừủửũữụựyýỳỷỹỵA-Za-z]+\"\n",
    "        w_iter = re.findall(god_pattern, x)\n",
    "        x_clean = ' '.join(w for w in w_iter)\n",
    "    x_clean = x_clean.lower()\n",
    "    x_clean = x_clean.strip()\n",
    "    return x_clean\n",
    "#         for number in re.findall('(?:[+-]?(?:[0-9]+))', x):\n",
    "#             x = x.replace(number, \"\")\n",
    "#         x = x.replace(\"  \", \"\")\n",
    "#         x = x.strip()\n",
    "#     return x\n",
    "# re.findall(\"\"[.!?'\"(){}']\"\")\n",
    "clean_text(\"Bán, tặng xe không phải thông báo với cơ quan công an từ ngày 12/2.\\n\")"
   ]
  },
  {
   "cell_type": "code",
   "execution_count": 34,
   "id": "eastern-suicide",
   "metadata": {},
   "outputs": [
    {
     "name": "stdout",
     "output_type": "stream",
     "text": [
      "CPU times: user 2.44 s, sys: 88.6 ms, total: 2.53 s\n",
      "Wall time: 2.53 s\n"
     ]
    }
   ],
   "source": [
    "%%time\n",
    "df['text_clean'] = df['text'].apply(clean_text)"
   ]
  },
  {
   "cell_type": "code",
   "execution_count": 35,
   "id": "agreed-camera",
   "metadata": {},
   "outputs": [
    {
     "data": {
      "text/plain": [
       "'chay i nop phat nguoi'"
      ]
     },
     "execution_count": 35,
     "metadata": {},
     "output_type": "execute_result"
    }
   ],
   "source": [
    "def no_accent_vietnamese(s):\n",
    "    if (type(s) == str):\n",
    "        s = re.sub(r'[àáạảãâầấậẩẫăằắặẳẵ]', 'a', s)\n",
    "        s = re.sub(r'[ÀÁẠẢÃĂẰẮẶẲẴÂẦẤẬẨẪ]', 'A', s)\n",
    "        s = re.sub(r'[èéẹẻẽêềếệểễ]', 'e', s)\n",
    "        s = re.sub(r'[ÈÉẸẺẼÊỀẾỆỂỄ]', 'E', s)\n",
    "        s = re.sub(r'[òóọỏõôồốộổỗơờớợởỡ]', 'o', s)\n",
    "        s = re.sub(r'[ÒÓỌỎÕÔỒỐỘỔỖƠỜỚỢỞỠ]', 'O', s)\n",
    "        s = re.sub(r'[ìíịỉĩ]', 'i', s)\n",
    "        s = re.sub(r'[ÌÍỊỈĨ]', 'I', s)\n",
    "        s = re.sub(r'[ùúụủũưừứựửữ]', 'u', s)\n",
    "        s = re.sub(r'[ƯỪỨỰỬỮÙÚỤỦŨ]', 'U', s)\n",
    "        s = re.sub(r'[ỳýỵỷỹ]', 'y', s)\n",
    "        s = re.sub(r'[ỲÝỴỶỸ]', 'Y', s)\n",
    "        s = re.sub(r'[Đ]', 'D', s)\n",
    "        s = re.sub(r'[đ]', 'd', s)\n",
    "    return s\n",
    "no_accent_vietnamese(\"chây ì nộp phạt nguội\")"
   ]
  },
  {
   "cell_type": "code",
   "execution_count": 36,
   "id": "removed-breath",
   "metadata": {},
   "outputs": [
    {
     "name": "stdout",
     "output_type": "stream",
     "text": [
      "CPU times: user 5.7 s, sys: 0 ns, total: 5.7 s\n",
      "Wall time: 5.69 s\n"
     ]
    }
   ],
   "source": [
    "%%time\n",
    "df['text_clean_no_accent'] = df['text_clean'].apply(no_accent_vietnamese)"
   ]
  },
  {
   "cell_type": "code",
   "execution_count": 42,
   "id": "fatty-presentation",
   "metadata": {},
   "outputs": [],
   "source": [
    "df.iloc[:num_train, [3, 4]].to_csv('200k/final_data_train.csv', index=False)\n",
    "df.iloc[num_train:, [3, 4]].to_csv('200k/final_data_test.csv', index=False)"
   ]
  },
  {
   "cell_type": "code",
   "execution_count": 43,
   "id": "superb-bikini",
   "metadata": {},
   "outputs": [
    {
     "data": {
      "text/html": [
       "<div>\n",
       "<style scoped>\n",
       "    .dataframe tbody tr th:only-of-type {\n",
       "        vertical-align: middle;\n",
       "    }\n",
       "\n",
       "    .dataframe tbody tr th {\n",
       "        vertical-align: top;\n",
       "    }\n",
       "\n",
       "    .dataframe thead th {\n",
       "        text-align: right;\n",
       "    }\n",
       "</style>\n",
       "<table border=\"1\" class=\"dataframe\">\n",
       "  <thead>\n",
       "    <tr style=\"text-align: right;\">\n",
       "      <th></th>\n",
       "      <th>text_clean</th>\n",
       "      <th>text_clean_no_accent</th>\n",
       "    </tr>\n",
       "  </thead>\n",
       "  <tbody>\n",
       "    <tr>\n",
       "      <th>0</th>\n",
       "      <td>bạn đã từng xem một cảnh kỳ thú trên phim hay ...</td>\n",
       "      <td>ban da tung xem mot canh ky thu tren phim hay ...</td>\n",
       "    </tr>\n",
       "    <tr>\n",
       "      <th>1</th>\n",
       "      <td>và bạn có ngỡ ngàng khi biết được rằng những đ...</td>\n",
       "      <td>va ban co ngo ngang khi biet duoc rang nhung d...</td>\n",
       "    </tr>\n",
       "    <tr>\n",
       "      <th>2</th>\n",
       "      <td>nếu có bạn thì chắc chắn chẳng phải mình đâu</td>\n",
       "      <td>neu co ban thi chac chan chang phai minh dau</td>\n",
       "    </tr>\n",
       "    <tr>\n",
       "      <th>3</th>\n",
       "      <td>chúng ta sẽ không hết ngạc nhiên vì những kết ...</td>\n",
       "      <td>chung ta se khong het ngac nhien vi nhung ket ...</td>\n",
       "    </tr>\n",
       "    <tr>\n",
       "      <th>4</th>\n",
       "      <td>vì lý do này nhiều người cho rằng máy tính thậ...</td>\n",
       "      <td>vi ly do nay nhieu nguoi cho rang may tinh tha...</td>\n",
       "    </tr>\n",
       "    <tr>\n",
       "      <th>...</th>\n",
       "      <td>...</td>\n",
       "      <td>...</td>\n",
       "    </tr>\n",
       "    <tr>\n",
       "      <th>201770</th>\n",
       "      <td>đến trận chung kết đối thủ đột nhiên đau bụng ...</td>\n",
       "      <td>den tran chung ket doi thu dot nhien dau bung ...</td>\n",
       "    </tr>\n",
       "    <tr>\n",
       "      <th>201771</th>\n",
       "      <td>chạy việt dã sếp đoạt huy chương bạc</td>\n",
       "      <td>chay viet da sep doat huy chuong bac</td>\n",
       "    </tr>\n",
       "    <tr>\n",
       "      <th>201772</th>\n",
       "      <td>nếu không nhường sếp cấp trên mấy bước cuối cù...</td>\n",
       "      <td>neu khong nhuong sep cap tren may buoc cuoi cu...</td>\n",
       "    </tr>\n",
       "    <tr>\n",
       "      <th>201773</th>\n",
       "      <td>phong trào văn thể lên như diều mà tình hình s...</td>\n",
       "      <td>phong trao van the len nhu dieu ma tinh hinh s...</td>\n",
       "    </tr>\n",
       "    <tr>\n",
       "      <th>201774</th>\n",
       "      <td>nhưng đời còn dài lo gì</td>\n",
       "      <td>nhung doi con dai lo gi</td>\n",
       "    </tr>\n",
       "  </tbody>\n",
       "</table>\n",
       "<p>201775 rows × 2 columns</p>\n",
       "</div>"
      ],
      "text/plain": [
       "                                               text_clean  \\\n",
       "0       bạn đã từng xem một cảnh kỳ thú trên phim hay ...   \n",
       "1       và bạn có ngỡ ngàng khi biết được rằng những đ...   \n",
       "2            nếu có bạn thì chắc chắn chẳng phải mình đâu   \n",
       "3       chúng ta sẽ không hết ngạc nhiên vì những kết ...   \n",
       "4       vì lý do này nhiều người cho rằng máy tính thậ...   \n",
       "...                                                   ...   \n",
       "201770  đến trận chung kết đối thủ đột nhiên đau bụng ...   \n",
       "201771               chạy việt dã sếp đoạt huy chương bạc   \n",
       "201772  nếu không nhường sếp cấp trên mấy bước cuối cù...   \n",
       "201773  phong trào văn thể lên như diều mà tình hình s...   \n",
       "201774                            nhưng đời còn dài lo gì   \n",
       "\n",
       "                                     text_clean_no_accent  \n",
       "0       ban da tung xem mot canh ky thu tren phim hay ...  \n",
       "1       va ban co ngo ngang khi biet duoc rang nhung d...  \n",
       "2            neu co ban thi chac chan chang phai minh dau  \n",
       "3       chung ta se khong het ngac nhien vi nhung ket ...  \n",
       "4       vi ly do nay nhieu nguoi cho rang may tinh tha...  \n",
       "...                                                   ...  \n",
       "201770  den tran chung ket doi thu dot nhien dau bung ...  \n",
       "201771               chay viet da sep doat huy chuong bac  \n",
       "201772  neu khong nhuong sep cap tren may buoc cuoi cu...  \n",
       "201773  phong trao van the len nhu dieu ma tinh hinh s...  \n",
       "201774                            nhung doi con dai lo gi  \n",
       "\n",
       "[201775 rows x 2 columns]"
      ]
     },
     "execution_count": 43,
     "metadata": {},
     "output_type": "execute_result"
    }
   ],
   "source": [
    "df.iloc[:num_train, [3, 4]]"
   ]
  }
 ],
 "metadata": {
  "kernelspec": {
   "display_name": "Python 3",
   "language": "python",
   "name": "python3"
  },
  "language_info": {
   "codemirror_mode": {
    "name": "ipython",
    "version": 3
   },
   "file_extension": ".py",
   "mimetype": "text/x-python",
   "name": "python",
   "nbconvert_exporter": "python",
   "pygments_lexer": "ipython3",
   "version": "3.6.13"
  }
 },
 "nbformat": 4,
 "nbformat_minor": 5
}
