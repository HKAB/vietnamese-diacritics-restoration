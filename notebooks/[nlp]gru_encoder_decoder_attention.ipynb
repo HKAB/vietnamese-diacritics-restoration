{
 "cells": [
  {
   "cell_type": "code",
   "execution_count": 2,
   "metadata": {
    "colab": {
     "base_uri": "https://localhost:8080/"
    },
    "id": "SuEKX3p4Lj7Z",
    "outputId": "bf6ee0f4-ff1e-4d7f-a35f-450e4374c7cb"
   },
   "outputs": [
    {
     "name": "stdout",
     "output_type": "stream",
     "text": [
      "Mounted at /content/drive\n"
     ]
    }
   ],
   "source": [
    "from google.colab import drive\n",
    "drive.mount('/content/drive')"
   ]
  },
  {
   "cell_type": "code",
   "execution_count": 1,
   "metadata": {
    "id": "jnHMAkMA0WmC"
   },
   "outputs": [],
   "source": [
    "import torch\n",
    "import torchtext\n",
    "from torchtext.data import get_tokenizer\n",
    "from collections import Counter\n",
    "from torchtext.vocab import Vocab\n",
    "import pandas as pd\n",
    "import numpy as np\n",
    "from tqdm import tqdm\n",
    "import matplotlib.pyplot as plt\n",
    "import torch.nn as nn\n",
    "from torch import Tensor\n",
    "from typing import Tuple\n",
    "from torch.nn import functional as F"
   ]
  },
  {
   "cell_type": "code",
   "execution_count": 4,
   "metadata": {
    "id": "rhZ9e6-I0hz1"
   },
   "outputs": [],
   "source": [
    "device = torch.device('cuda' if torch.cuda.is_available() else 'cpu')"
   ]
  },
  {
   "cell_type": "markdown",
   "metadata": {
    "id": "80H2zKgHnHfV"
   },
   "source": [
    "# Load data"
   ]
  },
  {
   "cell_type": "code",
   "execution_count": 5,
   "metadata": {
    "id": "X6hhbQXd0ZDo"
   },
   "outputs": [],
   "source": [
    "df = pd.read_csv('/content/drive/MyDrive/NMT/final_data.csv')"
   ]
  },
  {
   "cell_type": "code",
   "execution_count": 6,
   "metadata": {
    "id": "loHhuV2S0aiL"
   },
   "outputs": [],
   "source": [
    "# tokenize by space\n",
    "tokenizer = get_tokenizer(tokenizer=None)"
   ]
  },
  {
   "cell_type": "code",
   "execution_count": 7,
   "metadata": {
    "id": "d00ytWbb0bqj"
   },
   "outputs": [],
   "source": [
    "def build_vocab(iter_text_data, tokenizer):\n",
    "    counter = Counter()\n",
    "    for line in iter_text_data:#df.text_clean.to_numpy():\n",
    "        counter.update(tokenizer(line))\n",
    "    return Vocab(counter, min_freq=1000, specials=['<unk>', '<pad>', '<bos>', '<eos>'])"
   ]
  },
  {
   "cell_type": "code",
   "execution_count": 8,
   "metadata": {
    "colab": {
     "base_uri": "https://localhost:8080/"
    },
    "id": "dTlPalea0bh4",
    "outputId": "c99e5a18-6a62-4198-c5c5-b20ed03ebe5d"
   },
   "outputs": [
    {
     "name": "stdout",
     "output_type": "stream",
     "text": [
      "CPU times: user 1min 4s, sys: 171 ms, total: 1min 4s\n",
      "Wall time: 1min 4s\n"
     ]
    }
   ],
   "source": [
    "%%time\n",
    "tone_vocab = build_vocab(df.text_clean.to_numpy(), tokenizer)\n",
    "no_tone_vocab = build_vocab(df.text_clean_no_accent.to_numpy(), tokenizer)"
   ]
  },
  {
   "cell_type": "code",
   "execution_count": 9,
   "metadata": {
    "colab": {
     "base_uri": "https://localhost:8080/"
    },
    "id": "m6aTKTvbOpyk",
    "outputId": "94653a73-6d82-4b5e-9d3c-78be1c76d19b"
   },
   "outputs": [
    {
     "data": {
      "text/plain": [
       "(4136, 2248)"
      ]
     },
     "execution_count": 9,
     "metadata": {
      "tags": []
     },
     "output_type": "execute_result"
    }
   ],
   "source": [
    "len(tone_vocab), len(no_tone_vocab)"
   ]
  },
  {
   "cell_type": "code",
   "execution_count": 10,
   "metadata": {
    "id": "5IybvC0Q0dVB"
   },
   "outputs": [],
   "source": [
    "def data_process(tone_array, no_tone_array, tone_vocab, no_tone_vocab, tokenizer):\n",
    "    data = []\n",
    "    for (tone_str, no_tone_str) in tqdm(zip(tone_array, no_tone_array)):\n",
    "#         print(tone_str, no_tone_str)\n",
    "#         break\n",
    "        tone_tensor_ = torch.tensor([tone_vocab[token] for token in tokenizer(tone_str)],\n",
    "                                dtype=torch.long)\n",
    "        no_tone_tensor_ = torch.tensor([no_tone_vocab[token] for token in tokenizer(no_tone_str)],\n",
    "                                dtype=torch.long)\n",
    "        data.append((tone_tensor_, no_tone_tensor_))\n",
    "    return data"
   ]
  },
  {
   "cell_type": "code",
   "execution_count": 73,
   "metadata": {
    "colab": {
     "base_uri": "https://localhost:8080/"
    },
    "id": "kBJ8nM_t0ebI",
    "outputId": "c8233bad-bd00-4a3d-efff-cc476eefda9d"
   },
   "outputs": [
    {
     "data": {
      "text/plain": [
       "((100000, 2), (1000, 2))"
      ]
     },
     "execution_count": 73,
     "metadata": {
      "tags": []
     },
     "output_type": "execute_result"
    }
   ],
   "source": [
    "train_range = 100000#int(df.shape[0]*1/100)\n",
    "test_range = 1000#int(df.shape[0]*0.5/100)\n",
    "df_train = df.iloc[:train_range, :]\n",
    "df_test = df.iloc[-test_range:, :]\n",
    "df_train.shape, df_test.shape"
   ]
  },
  {
   "cell_type": "code",
   "execution_count": 12,
   "metadata": {
    "colab": {
     "base_uri": "https://localhost:8080/",
     "height": 424
    },
    "id": "ZCeLte6mr22g",
    "outputId": "e94df975-03b2-4c74-97a0-e5e940b9fb37"
   },
   "outputs": [
    {
     "data": {
      "text/html": [
       "<div>\n",
       "<style scoped>\n",
       "    .dataframe tbody tr th:only-of-type {\n",
       "        vertical-align: middle;\n",
       "    }\n",
       "\n",
       "    .dataframe tbody tr th {\n",
       "        vertical-align: top;\n",
       "    }\n",
       "\n",
       "    .dataframe thead th {\n",
       "        text-align: right;\n",
       "    }\n",
       "</style>\n",
       "<table border=\"1\" class=\"dataframe\">\n",
       "  <thead>\n",
       "    <tr style=\"text-align: right;\">\n",
       "      <th></th>\n",
       "      <th>text_clean</th>\n",
       "      <th>text_clean_no_accent</th>\n",
       "    </tr>\n",
       "  </thead>\n",
       "  <tbody>\n",
       "    <tr>\n",
       "      <th>0</th>\n",
       "      <td>chây ì nộp phạt nguội</td>\n",
       "      <td>chay i nop phat nguoi</td>\n",
       "    </tr>\n",
       "    <tr>\n",
       "      <th>1</th>\n",
       "      <td>cháu đòi tiền cơm dì đòi tiền nhà</td>\n",
       "      <td>chau doi tien com di doi tien nha</td>\n",
       "    </tr>\n",
       "    <tr>\n",
       "      <th>2</th>\n",
       "      <td>đà nẵng nghiên cứu tiện ích nhắn tin khi vi ph...</td>\n",
       "      <td>da nang nghien cuu tien ich nhan tin khi vi ph...</td>\n",
       "    </tr>\n",
       "    <tr>\n",
       "      <th>3</th>\n",
       "      <td>khó xử vụ mẹ tuổi trộm xe hơi của con gái</td>\n",
       "      <td>kho xu vu me tuoi trom xe hoi cua con gai</td>\n",
       "    </tr>\n",
       "    <tr>\n",
       "      <th>4</th>\n",
       "      <td>thay đổi về đăng ký chuyển nhượng xe từ bạn cầ...</td>\n",
       "      <td>thay doi ve dang ky chuyen nhuong xe tu ban ca...</td>\n",
       "    </tr>\n",
       "    <tr>\n",
       "      <th>...</th>\n",
       "      <td>...</td>\n",
       "      <td>...</td>\n",
       "    </tr>\n",
       "    <tr>\n",
       "      <th>9995</th>\n",
       "      <td>những khoảnh khắc thảm họa thiên nhiên đáng sợ...</td>\n",
       "      <td>nhung khoanh khac tham hoa thien nhien dang so...</td>\n",
       "    </tr>\n",
       "    <tr>\n",
       "      <th>9996</th>\n",
       "      <td>yemen đơn vị điều tra hình sự bị không kích nh...</td>\n",
       "      <td>yemen don vi dieu tra hinh su bi khong kich nh...</td>\n",
       "    </tr>\n",
       "    <tr>\n",
       "      <th>9997</th>\n",
       "      <td>nguyên nhân tàu chở khách đâm tàu chở hàng tại mỹ</td>\n",
       "      <td>nguyen nhan tau cho khach dam tau cho hang tai my</td>\n",
       "    </tr>\n",
       "    <tr>\n",
       "      <th>9998</th>\n",
       "      <td>thổ nhĩ kỳ cảnh báo binh sĩ mỹ tại các khu vực...</td>\n",
       "      <td>tho nhi ky canh bao binh si my tai cac khu vuc...</td>\n",
       "    </tr>\n",
       "    <tr>\n",
       "      <th>9999</th>\n",
       "      <td>tàu hỏa đâm trúng tàu chở hàng ở mỹ khiến hơn ...</td>\n",
       "      <td>tau hoa dam trung tau cho hang o my khien hon ...</td>\n",
       "    </tr>\n",
       "  </tbody>\n",
       "</table>\n",
       "<p>10000 rows × 2 columns</p>\n",
       "</div>"
      ],
      "text/plain": [
       "                                             text_clean                               text_clean_no_accent\n",
       "0                                 chây ì nộp phạt nguội                              chay i nop phat nguoi\n",
       "1                     cháu đòi tiền cơm dì đòi tiền nhà                  chau doi tien com di doi tien nha\n",
       "2     đà nẵng nghiên cứu tiện ích nhắn tin khi vi ph...  da nang nghien cuu tien ich nhan tin khi vi ph...\n",
       "3             khó xử vụ mẹ tuổi trộm xe hơi của con gái          kho xu vu me tuoi trom xe hoi cua con gai\n",
       "4     thay đổi về đăng ký chuyển nhượng xe từ bạn cầ...  thay doi ve dang ky chuyen nhuong xe tu ban ca...\n",
       "...                                                 ...                                                ...\n",
       "9995  những khoảnh khắc thảm họa thiên nhiên đáng sợ...  nhung khoanh khac tham hoa thien nhien dang so...\n",
       "9996  yemen đơn vị điều tra hình sự bị không kích nh...  yemen don vi dieu tra hinh su bi khong kich nh...\n",
       "9997  nguyên nhân tàu chở khách đâm tàu chở hàng tại mỹ  nguyen nhan tau cho khach dam tau cho hang tai my\n",
       "9998  thổ nhĩ kỳ cảnh báo binh sĩ mỹ tại các khu vực...  tho nhi ky canh bao binh si my tai cac khu vuc...\n",
       "9999  tàu hỏa đâm trúng tàu chở hàng ở mỹ khiến hơn ...  tau hoa dam trung tau cho hang o my khien hon ...\n",
       "\n",
       "[10000 rows x 2 columns]"
      ]
     },
     "execution_count": 12,
     "metadata": {
      "tags": []
     },
     "output_type": "execute_result"
    }
   ],
   "source": [
    "df_train"
   ]
  },
  {
   "cell_type": "code",
   "execution_count": 56,
   "metadata": {
    "colab": {
     "base_uri": "https://localhost:8080/"
    },
    "id": "x5W47MSd0fmN",
    "outputId": "165d1f66-dac6-4247-a9a8-d8f981912539"
   },
   "outputs": [
    {
     "name": "stderr",
     "output_type": "stream",
     "text": [
      "\n",
      "0it [00:00, ?it/s]\u001b[A\n",
      "2732it [00:00, 27312.54it/s]\u001b[A\n",
      "5303it [00:00, 26806.01it/s]\u001b[A\n",
      "8219it [00:00, 27470.25it/s]\u001b[A\n",
      "10035it [00:00, 21966.15it/s]\u001b[A\n",
      "12624it [00:00, 23008.82it/s]\u001b[A\n",
      "14920it [00:00, 22993.51it/s]\u001b[A\n",
      "17010it [00:00, 22322.30it/s]\u001b[A\n",
      "19769it [00:00, 19434.38it/s]\u001b[A\n",
      "22394it [00:01, 21076.05it/s]\u001b[A\n",
      "24514it [00:01, 20931.45it/s]\u001b[A\n",
      "27875it [00:01, 23600.16it/s]\u001b[A\n",
      "30355it [00:01, 23019.62it/s]\u001b[A\n",
      "32953it [00:01, 23832.49it/s]\u001b[A\n",
      "35405it [00:01, 23418.89it/s]\u001b[A\n",
      "38175it [00:01, 24556.70it/s]\u001b[A\n",
      "41163it [00:01, 25942.31it/s]\u001b[A\n",
      "43813it [00:01, 25011.45it/s]\u001b[A\n",
      "46507it [00:01, 25557.72it/s]\u001b[A\n",
      "49098it [00:02, 22595.86it/s]\u001b[A\n",
      "51446it [00:02, 17464.18it/s]\u001b[A\n",
      "54520it [00:02, 20062.88it/s]\u001b[A\n",
      "57220it [00:02, 21738.01it/s]\u001b[A\n",
      "59649it [00:02, 22407.25it/s]\u001b[A\n",
      "62520it [00:02, 23987.02it/s]\u001b[A\n",
      "65079it [00:02, 19504.12it/s]\u001b[A\n",
      "67686it [00:03, 21095.49it/s]\u001b[A\n",
      "70028it [00:03, 21742.68it/s]\u001b[A\n",
      "72434it [00:03, 22389.59it/s]\u001b[A\n",
      "74785it [00:03, 20842.67it/s]\u001b[A\n",
      "77694it [00:03, 22778.35it/s]\u001b[A\n",
      "80096it [00:03, 18928.51it/s]\u001b[A\n",
      "82185it [00:03, 13582.06it/s]\u001b[A\n",
      "83893it [00:03, 13868.32it/s]\u001b[A\n",
      "86144it [00:04, 15671.19it/s]\u001b[A\n",
      "89010it [00:04, 18136.35it/s]\u001b[A\n",
      "91142it [00:04, 17076.70it/s]\u001b[A\n",
      "93402it [00:04, 18427.09it/s]\u001b[A\n",
      "95441it [00:04, 18443.80it/s]\u001b[A\n",
      "100000it [00:04, 21113.57it/s]\n"
     ]
    }
   ],
   "source": [
    "# %%time\n",
    "train_data = data_process(df_train.text_clean.to_numpy(), \n",
    "                          df_train.text_clean_no_accent.to_numpy(), \n",
    "                          tone_vocab, no_tone_vocab, tokenizer)\n",
    "# val_data = data_process(df_test.text_clean.to_numpy(), \n",
    "#                           df_test.text_clean_no_accent.to_numpy(), \n",
    "#                           tone_vocab, no_tone_vocab, tokenizer)"
   ]
  },
  {
   "cell_type": "code",
   "execution_count": 57,
   "metadata": {
    "colab": {
     "base_uri": "https://localhost:8080/"
    },
    "id": "40YEENGb0gvH",
    "outputId": "cc2d20f1-fd16-4274-c995-981def87bf42"
   },
   "outputs": [
    {
     "name": "stderr",
     "output_type": "stream",
     "text": [
      "\n",
      "1000it [00:00, 28774.82it/s]\n"
     ]
    }
   ],
   "source": [
    "val_data = data_process(df_test.text_clean.to_numpy(), \n",
    "                          df_test.text_clean_no_accent.to_numpy(), \n",
    "                          tone_vocab, no_tone_vocab, tokenizer)"
   ]
  },
  {
   "cell_type": "code",
   "execution_count": 58,
   "metadata": {
    "id": "LtRWyDdA0itJ"
   },
   "outputs": [],
   "source": [
    "BATCH_SIZE = 64\n",
    "PAD_IDX = tone_vocab['<pad>']\n",
    "BOS_IDX = tone_vocab['<bos>']\n",
    "EOS_IDX = tone_vocab['<eos>']\n",
    "\n",
    "from torch.nn.utils.rnn import pad_sequence\n",
    "from torch.utils.data import DataLoader\n",
    "\n",
    "def generate_batch(data_batch):\n",
    "    tone_batch, no_tone_batch = [], []\n",
    "    for (tone_item, no_tone_item) in data_batch:\n",
    "        tone_batch.append(torch.cat([tone_item, torch.tensor([EOS_IDX])], dim=0))\n",
    "        no_tone_batch.append(torch.cat([no_tone_item, torch.tensor([EOS_IDX])], dim=0))\n",
    "        \n",
    "    tone_batch = pad_sequence(tone_batch, padding_value=PAD_IDX, batch_first=True)\n",
    "    no_tone_batch = pad_sequence(no_tone_batch, padding_value=PAD_IDX, batch_first=True)\n",
    "    return no_tone_batch, tone_batch"
   ]
  },
  {
   "cell_type": "code",
   "execution_count": 14,
   "metadata": {
    "colab": {
     "base_uri": "https://localhost:8080/"
    },
    "id": "zU4TcfdhYtrO",
    "outputId": "5294702f-416a-419e-a880-ac13f1f4cd2d"
   },
   "outputs": [
    {
     "data": {
      "text/plain": [
       "(1, 2, 3)"
      ]
     },
     "execution_count": 14,
     "metadata": {
      "tags": []
     },
     "output_type": "execute_result"
    }
   ],
   "source": [
    "PAD_IDX, BOS_IDX, EOS_IDX"
   ]
  },
  {
   "cell_type": "code",
   "execution_count": 59,
   "metadata": {
    "colab": {
     "base_uri": "https://localhost:8080/"
    },
    "id": "AtMSDuN10j6n",
    "outputId": "fa4a5e5f-4a5e-4baa-8fb4-4370b9dea438"
   },
   "outputs": [
    {
     "name": "stdout",
     "output_type": "stream",
     "text": [
      "CPU times: user 1.24 ms, sys: 6 µs, total: 1.25 ms\n",
      "Wall time: 1.26 ms\n"
     ]
    }
   ],
   "source": [
    "%%time\n",
    "train_iter = DataLoader(train_data, batch_size=BATCH_SIZE,\n",
    "                        shuffle=True, collate_fn=generate_batch)\n",
    "valid_iter = DataLoader(val_data, batch_size=BATCH_SIZE,\n",
    "                        shuffle=True, collate_fn=generate_batch)\n"
   ]
  },
  {
   "cell_type": "code",
   "execution_count": 42,
   "metadata": {
    "colab": {
     "base_uri": "https://localhost:8080/"
    },
    "id": "v0Nq5Uie0lGA",
    "outputId": "b486b41a-deb1-4b96-ce44-03c3b69bd6a9"
   },
   "outputs": [
    {
     "name": "stdout",
     "output_type": "stream",
     "text": [
      "torch.Size([64, 28]) torch.Size([64, 28])\n"
     ]
    },
    {
     "data": {
      "text/plain": [
       "0"
      ]
     },
     "execution_count": 42,
     "metadata": {
      "tags": []
     },
     "output_type": "execute_result"
    }
   ],
   "source": [
    "max_len = 0\n",
    "for X, y in train_iter:\n",
    "    # max_len = max(max_len, X.shape[1])\n",
    "    print(X.shape, y.shape)\n",
    "    break\n",
    "    # break\n",
    "max_len"
   ]
  },
  {
   "cell_type": "markdown",
   "metadata": {
    "id": "oYRBtGxgnK5U"
   },
   "source": [
    "# Model"
   ]
  },
  {
   "cell_type": "code",
   "execution_count": 11,
   "metadata": {
    "id": "jgJgSfgn0mHq"
   },
   "outputs": [],
   "source": [
    "class Encoder(nn.Module):\n",
    "    def __init__(self,\n",
    "                 vocab_size: int,\n",
    "                 embed_size: int,\n",
    "                 num_hiddens: int,\n",
    "                 num_layers: int,\n",
    "                 dropout: float):\n",
    "        super().__init__()\n",
    "        \n",
    "        self.embedding = nn.Embedding(vocab_size, embed_size)\n",
    "        self.rnn = nn.GRU(embed_size, num_hiddens, num_layers)\n",
    "        \n",
    "        self.dropout = nn.Dropout(dropout)\n",
    "\n",
    "    # X: (batch_size x num_steps)\n",
    "\n",
    "    def forward(self,\n",
    "                X: Tensor) -> Tuple[Tensor]:\n",
    "        X = self.dropout(self.embedding(X))\n",
    "        # X: (batch_size, num_steps, embed_size)\n",
    "\n",
    "        X = X.permute(1, 0, 2)\n",
    "        # X: (num_steps, batch_size, embed_size)\n",
    "        \n",
    "        output, state = self.rnn(X)\n",
    "        # output: (num_steps, batch_size, num_hiddens)\n",
    "        # state : (num_layers, batch_size, num_hiddens)\n",
    "        \n",
    "        return output, state"
   ]
  },
  {
   "cell_type": "code",
   "execution_count": 12,
   "metadata": {
    "id": "n3VikDsTABit"
   },
   "outputs": [],
   "source": [
    "class AdditiveAttention(nn.Module):\n",
    "  def __init__(self, key_size, query_size, num_hiddens, dropout):\n",
    "    super().__init__()\n",
    "    self.W_k = nn.Linear(key_size, num_hiddens, bias=False)\n",
    "    self.W_q = nn.Linear(query_size, num_hiddens, bias=False)\n",
    "    self.W_v = nn.Linear(num_hiddens, 1, bias=False)\n",
    "    self.dropout = nn.Dropout(dropout)\n",
    "\n",
    "  # query:  (batch_size x 1 x num_hiddens)\n",
    "  # keys:   (batch_size, num_steps, num_hiddens)\n",
    "  # values: (batch_size, num_steps, num_hiddens)\n",
    "  # mask:   (batch_size x 1 x num_steps)\n",
    "  def forward(self, queries, keys, values, mask):\n",
    "    queries, keys = self.W_q(queries), self.W_k(keys)\n",
    "    # query:  (batch_size x 1 x num_hiddens)\n",
    "    # keys:   (batch_size, num_steps, num_hiddens)\n",
    "    # i choosed key_size = num_hiddens\n",
    "\n",
    "    # queries: (batch_size x 1 x 1 x num_hiddens) `1 query`\n",
    "    # keys:    (batch_size x 1 x num_steps x num_hiddens)\n",
    "    # broadcast sum\n",
    "    features = queries.unsqueeze(2) + keys.unsqueeze(1)\n",
    "    # features: (batch_size x 1 x num_steps x num_hiddens)\n",
    "\n",
    "    features = torch.tanh(features)\n",
    "\n",
    "    scores = self.W_v(features).squeeze(-1)\n",
    "    # scores: (batch_size x 1 x num_steps x 1).squeeze(-1): (batch_size x 1 x num_steps)\n",
    "\n",
    "    self._attention_weights = F.softmax(scores.masked_fill(mask=mask, value=-np.inf), dim=-1)\n",
    "    \n",
    "    # return shape: (batch_size, 1, num_hiddens) `1 query`\n",
    "    return torch.bmm(self._attention_weights, values)"
   ]
  },
  {
   "cell_type": "code",
   "execution_count": 13,
   "metadata": {
    "colab": {
     "base_uri": "https://localhost:8080/"
    },
    "id": "osvOvjMQL40_",
    "outputId": "3758eb54-a7e7-42e5-ebfc-6b9461f10ed0"
   },
   "outputs": [
    {
     "data": {
      "text/plain": [
       "(torch.Size([2, 1, 4]), torch.Size([2, 10, 4]))"
      ]
     },
     "execution_count": 13,
     "metadata": {
      "tags": []
     },
     "output_type": "execute_result"
    }
   ],
   "source": [
    "queries, keys = torch.normal(0, 1, (2, 1, 20)), torch.ones(2, 10, 2)\n",
    "values = torch.arange(40, dtype=torch.float32).reshape(1, 10, 4).repeat(2, 1, 1)\n",
    "\n",
    "attention = AdditiveAttention(2, 20, 8, 0.1)\n",
    "attention.eval()\n",
    "mask = torch.stack([torch.cat((torch.zeros(2), torch.ones(8))),\n",
    "                    torch.cat((torch.zeros(6), torch.ones(4)))]).unsqueeze(1).type(torch.bool)\n",
    "attention(queries, keys, values, mask).shape, values.shape"
   ]
  },
  {
   "cell_type": "code",
   "execution_count": 30,
   "metadata": {
    "id": "jyHvafd-0nGH"
   },
   "outputs": [],
   "source": [
    "class Decoder(nn.Module):\n",
    "    def __init__(self,\n",
    "                 vocab_size: int,\n",
    "                 embed_size: int,\n",
    "                 num_hiddens: int,\n",
    "                 num_layers: int,\n",
    "                 dropout: float = 0.0):\n",
    "        super().__init__()\n",
    "        \n",
    "        self.embedding = nn.Embedding(vocab_size, embed_size)\n",
    "        self.attention = AdditiveAttention(num_hiddens, num_hiddens, num_hiddens, dropout)\n",
    "        self.rnn = nn.GRU(embed_size + num_hiddens, num_hiddens, num_layers)\n",
    "        self.dense = nn.Linear(num_hiddens, vocab_size)\n",
    "        self.log_softmax = nn.LogSoftmax(dim=2)\n",
    "        self.dropout = nn.Dropout(dropout)\n",
    "\n",
    "        self._attention_weights = []\n",
    "    \n",
    "    def init_state(self, enc_outputs):\n",
    "      # outputs (num_steps x batch_size x num_hidden)\n",
    "      outputs, hidden_states = enc_outputs\n",
    "      return (outputs.permute(1, 0, 2), hidden_states)\n",
    "    \n",
    "    # X:     (batch_size x num_steps)\n",
    "    # state: ((batch_size, num_steps, num_hiddens), (num_layers, batch_size, num_hiddens))\n",
    "    # mask:  (batch_size x 1 x num_steps)\n",
    "    def forward(self,\n",
    "                X: Tensor,\n",
    "                state: Tensor,\n",
    "                mask: Tensor) -> Tuple[Tensor]:\n",
    "        X = self.dropout(self.embedding(X))\n",
    "        # X: (batch_size x num_steps x embed_size)\n",
    "\n",
    "        X = X.permute(1, 0, 2)\n",
    "        # X: (num_steps x batch_size x embed_size)\n",
    "\n",
    "        enc_outputs, hidden_state = state\n",
    "\n",
    "        outputs = []\n",
    "\n",
    "        # for every steps\n",
    "        for x in X:\n",
    "          query = torch.unsqueeze(hidden_state[-1], dim=1)\n",
    "          # query: (batch_size x 1 x num_hiddens)\n",
    "          context = self.attention(query, enc_outputs, enc_outputs, mask)\n",
    "          # context: (batch_size, 1, num_hiddens)\n",
    "          x = torch.cat((context, torch.unsqueeze(x, dim=1)), dim=-1)\n",
    "          # x = (batch_size, 1, num_hiddens) cat with (batch_size x 1 x embed_size)\n",
    "          # x: (batch_size, 1, num_hiddens + embed_size)\n",
    "          output, hidden_state = self.rnn(x.permute(1, 0, 2), hidden_state)\n",
    "          # output      : (1, batch_size, num_hiddens + embed_size)\n",
    "          # hidden_state: (num_layers, batch_size, num_hiddens)\n",
    "\n",
    "          outputs.append(output)\n",
    "          self._attention_weights.append(self.attention._attention_weights)\n",
    "        outputs = self.dense(torch.cat(outputs, dim=0))\n",
    "        outputs = self.log_softmax(outputs)\n",
    "\n",
    "        # return shape: (batch_size, num_steps, vocab_size), [(batch_size, num_steps, num_hiddens), (num_layers, batch_size, num_hiddens)]\n",
    "        return outputs.permute(1, 0, 2), [enc_outputs, hidden_state]"
   ]
  },
  {
   "cell_type": "code",
   "execution_count": 15,
   "metadata": {
    "id": "3Pkf84fe0oeR"
   },
   "outputs": [],
   "source": [
    "class Seq2Seq(nn.Module):\n",
    "    def __init__(self,\n",
    "                 encoder: nn.Module,\n",
    "                 decoder: nn.Module,\n",
    "                 pad_idx: int,\n",
    "                 device: torch.device,):\n",
    "        super().__init__()\n",
    "\n",
    "        self.encoder = encoder\n",
    "        self.decoder = decoder\n",
    "        self.pad_idx = pad_idx\n",
    "        self.device = device\n",
    "    def create_mask(self, src):\n",
    "      return (src == self.pad_idx).unsqueeze(1)\n",
    "    \n",
    "    # enc_x: (batch_size x num_steps)\n",
    "    # dec_X: (batch_size x num_steps)\n",
    "    def forward(self,\n",
    "                enc_X: Tensor,\n",
    "                dec_X: Tensor) -> Tensor:\n",
    "        mask = self.create_mask(enc_X)\n",
    "        # mask: (batch_size x 1 x num_steps)\n",
    "\n",
    "        enc_outputs = self.encoder(enc_X)\n",
    "        # enc_outputs\n",
    "        # output: (num_steps, batch_size, num_hiddens)\n",
    "        # state : (num_layers, batch_size, num_hiddens)\n",
    "\n",
    "        dec_state = self.decoder.init_state(enc_outputs)\n",
    "        # dec_state: ((batch_size, num_steps, num_hiddens), (num_layers, batch_size, num_hiddens))\n",
    "\n",
    "        return self.decoder(dec_X, dec_state, mask)"
   ]
  },
  {
   "cell_type": "markdown",
   "metadata": {
    "id": "z9lWZ6xBneVd"
   },
   "source": [
    "# Train & evaluate model"
   ]
  },
  {
   "cell_type": "code",
   "execution_count": 16,
   "metadata": {
    "id": "_0NQ7jOm0pgT"
   },
   "outputs": [],
   "source": [
    "def train_seq2seq(net, data_iter, lr, num_epochs, no_tone_vocab, device):\n",
    "    def xavier_init_weights(m):\n",
    "        if type(m) == nn.Linear:\n",
    "            nn.init.xavier_uniform_(m.weight)\n",
    "        if type(m) == nn.GRU:\n",
    "            for param in m._flat_weights_names:\n",
    "                if \"weight\" in param:\n",
    "                    nn.init.xavier_uniform_(m._parameters[param])\n",
    "    net.apply(xavier_init_weights)\n",
    "    net.to(device)\n",
    "    \n",
    "    optimizer = torch.optim.Adam(net.parameters(), lr=lr)\n",
    "    \n",
    "    PAD_IDX = tone_vocab.stoi['<pad>']\n",
    "    loss = nn.CrossEntropyLoss(ignore_index=PAD_IDX)\n",
    "    net.train()\n",
    "    \n",
    "    for epoch in range(num_epochs):\n",
    "        epoch_loss = 0\n",
    "        for batch in tqdm(data_iter, position=0, leave=True):\n",
    "            optimizer.zero_grad()\n",
    "            \n",
    "            X, Y = [x.to(device) for x in batch]\n",
    "            # X: (batch_size x num_steps)\n",
    "            # Y: (batch_size x num_steps)\n",
    "\n",
    "            bos = torch.tensor([tone_vocab.stoi['<bos>']]*Y.shape[0], device=device).reshape(-1, 1)\n",
    "            dec_input = torch.cat([bos, Y[:, :-1]], 1) # teacher forcing\n",
    "\n",
    "            # dec_input: (batch_size x num_steps)\n",
    "\n",
    "            Y_hat, _ = net(X, dec_input)\n",
    "            # Y_hat: (batch_size, num_steps, vocab_size)\n",
    "            # _: [(batch_size, num_steps, num_hiddens), (num_layers, batch_size, num_hiddens)]\n",
    "\n",
    "            l = loss(Y_hat.permute(0, 2, 1), Y)#nn.functional.one_hot(Y, len(no_tone_vocab)).squeeze())\n",
    "            \n",
    "            l.backward()\n",
    "            \n",
    "            # clip gradient\n",
    "            torch.nn.utils.clip_grad_norm_(net.parameters(), 1)\n",
    "            optimizer.step()\n",
    "            epoch_loss += l.item()\n",
    "        if ((epoch + 1) % 1 == 0):\n",
    "            print(f'Epoch {epoch}, Loss {epoch_loss/len(data_iter):.10f}')"
   ]
  },
  {
   "cell_type": "code",
   "execution_count": 61,
   "metadata": {
    "id": "QHQjcmYQ5so2"
   },
   "outputs": [],
   "source": [
    "def evaluate(net, sentence, no_tone_vocab, tone_vocab, max_length, device, beam_size):\n",
    "  net.eval()\n",
    "\n",
    "  src_tokens = [no_tone_vocab.stoi[word] for word in sentence.lower().split(\" \")] + [no_tone_vocab.stoi['<eos>']]\n",
    "\n",
    "  # unsqueeze add batch dim\n",
    "  enc_X = torch.unsqueeze(\n",
    "      torch.tensor(src_tokens, dtype=torch.long, device=device), dim=0\n",
    "  )\n",
    "  mask = (enc_X == no_tone_vocab.stoi['<pad>']).unsqueeze(1)\n",
    "\n",
    "  #TODO: add attention to beam\n",
    "  net.decoder._attention_weights = []\n",
    "\n",
    "  with torch.no_grad():\n",
    "    enc_outputs = net.encoder(enc_X)\n",
    "    # enc_outputs\n",
    "    # output: (num_steps, batch_size, num_hiddens)\n",
    "    # state : (num_layers, batch_size, num_hiddens)\n",
    "  \n",
    "  outputs, dec_state = net.decoder.init_state(enc_outputs)\n",
    "  # outputs:   (batch_size, num_steps, num_hiddens)\n",
    "  # dec_state: (num_layers, batch_size, num_hiddens)\n",
    "  \n",
    "  outputs = outputs.repeat((beam_size, 1, 1))\n",
    "  dec_state = dec_state.repeat((1, beam_size, 1))\n",
    "\n",
    "\n",
    "  beam = [Beam(beam_size, 1, 2, 3, GNMTGlobalScorer(), 5) for _ in range(1)]\n",
    "  \n",
    "\n",
    "  for i in range(max_length):\n",
    "    if all((b.done() for b in beam)):\n",
    "      break\n",
    "    with torch.no_grad():\n",
    "      dec_X = torch.stack([b.get_current_state() for b in beam]).t().contiguous().view(1, -1).t().to(device)\n",
    "      Y, (outputs, dec_state) = net.decoder(dec_X, (outputs, dec_state), mask)\n",
    "      # Y:        (batch_size, num_steps, vocab_size)\n",
    "      # outputs:  (batch_size, num_steps, num_hiddens)\n",
    "      # dec_state:(num_layers, batch_size, num_hiddens)\n",
    "\n",
    "      select_indices_array = []\n",
    "      for j, b in enumerate(beam):\n",
    "        b.advance(Y[:, j])\n",
    "        select_indices_array.append(b.get_current_origin() * 1 + j)\n",
    "      \n",
    "      select_indices = torch.cat(select_indices_array) \\\n",
    "                      .view(1, beam_size) \\\n",
    "                      .transpose(0, 1) \\\n",
    "                      .contiguous() \\\n",
    "                      .view(-1).type(torch.int32).to(device)\n",
    "      \n",
    "      dec_state = dec_state.index_select(1, select_indices)\n",
    "  ret = _from_beam(beam)\n",
    "  return ret\n"
   ]
  },
  {
   "cell_type": "markdown",
   "metadata": {
    "id": "8H6Mpzu6ni6E"
   },
   "source": [
    "# Train in action"
   ]
  },
  {
   "cell_type": "code",
   "execution_count": 31,
   "metadata": {
    "colab": {
     "base_uri": "https://localhost:8080/"
    },
    "id": "5RwzNj9s0qnD",
    "outputId": "bdc8af21-089e-48bf-b086-9f3e7b50861c"
   },
   "outputs": [
    {
     "data": {
      "text/plain": [
       "Seq2Seq(\n",
       "  (encoder): Encoder(\n",
       "    (embedding): Embedding(2248, 128)\n",
       "    (rnn): GRU(128, 128)\n",
       "    (dropout): Dropout(p=0.0, inplace=False)\n",
       "  )\n",
       "  (decoder): Decoder(\n",
       "    (embedding): Embedding(4136, 128)\n",
       "    (attention): AdditiveAttention(\n",
       "      (W_k): Linear(in_features=128, out_features=128, bias=False)\n",
       "      (W_q): Linear(in_features=128, out_features=128, bias=False)\n",
       "      (W_v): Linear(in_features=128, out_features=1, bias=False)\n",
       "      (dropout): Dropout(p=0.0, inplace=False)\n",
       "    )\n",
       "    (rnn): GRU(256, 128)\n",
       "    (dense): Linear(in_features=128, out_features=4136, bias=True)\n",
       "    (log_softmax): LogSoftmax(dim=2)\n",
       "    (dropout): Dropout(p=0.0, inplace=False)\n",
       "  )\n",
       ")"
      ]
     },
     "execution_count": 31,
     "metadata": {
      "tags": []
     },
     "output_type": "execute_result"
    }
   ],
   "source": [
    "tone_vocab_size = len(tone_vocab)\n",
    "no_tone_vocab_size = len(no_tone_vocab)\n",
    "\n",
    "embed_size = 128\n",
    "num_hiddens = 128\n",
    "num_layers = 1\n",
    "dropout = 0.0\n",
    "\n",
    "lr = 0.008\n",
    "num_epochs = 20\n",
    "\n",
    "enc = Encoder(no_tone_vocab_size, embed_size, num_hiddens, num_layers, dropout)\n",
    "\n",
    "dec = Decoder(tone_vocab_size, embed_size, num_hiddens, num_layers, dropout)\n",
    "\n",
    "net = Seq2Seq(enc, dec, tone_vocab.stoi['<pad>'], device).to(device)\n",
    "\n",
    "net.load_state_dict(torch.load(\"/content/drive/MyDrive/Colab Notebooks/gru_encoder_decoder_attention_weights_correct.pth\", map_location=torch.device('cpu')))\n",
    "net.eval()"
   ]
  },
  {
   "cell_type": "code",
   "execution_count": 32,
   "metadata": {
    "colab": {
     "base_uri": "https://localhost:8080/"
    },
    "id": "QNsBsIpc0r-y",
    "outputId": "03370eaa-099d-4f14-a20e-536681b23fe3"
   },
   "outputs": [
    {
     "name": "stdout",
     "output_type": "stream",
     "text": [
      "The model has 1,630,888 trainable parameters\n"
     ]
    }
   ],
   "source": [
    "def count_parameters(model: nn.Module):\n",
    "    return sum(p.numel() for p in model.parameters() if p.requires_grad)\n",
    "\n",
    "\n",
    "print(f'The model has {count_parameters(net):,} trainable parameters')"
   ]
  },
  {
   "cell_type": "code",
   "execution_count": 62,
   "metadata": {
    "colab": {
     "base_uri": "https://localhost:8080/"
    },
    "id": "G_oH-aOn0tLc",
    "outputId": "b83e9545-b07a-4c81-c802-b05e61e528a0"
   },
   "outputs": [
    {
     "name": "stderr",
     "output_type": "stream",
     "text": [
      "100%|██████████| 1563/1563 [02:13<00:00, 11.70it/s]\n",
      "  0%|          | 2/1563 [00:00<02:21, 11.00it/s]"
     ]
    },
    {
     "name": "stdout",
     "output_type": "stream",
     "text": [
      "Epoch 0, Loss 2.8661183019\n"
     ]
    },
    {
     "name": "stderr",
     "output_type": "stream",
     "text": [
      "100%|██████████| 1563/1563 [02:10<00:00, 11.94it/s]\n",
      "  0%|          | 2/1563 [00:00<02:11, 11.87it/s]"
     ]
    },
    {
     "name": "stdout",
     "output_type": "stream",
     "text": [
      "Epoch 1, Loss 1.2553576452\n"
     ]
    },
    {
     "name": "stderr",
     "output_type": "stream",
     "text": [
      "100%|██████████| 1563/1563 [02:12<00:00, 11.80it/s]\n",
      "  0%|          | 1/1563 [00:00<02:52,  9.08it/s]"
     ]
    },
    {
     "name": "stdout",
     "output_type": "stream",
     "text": [
      "Epoch 2, Loss 1.1172081811\n"
     ]
    },
    {
     "name": "stderr",
     "output_type": "stream",
     "text": [
      "100%|██████████| 1563/1563 [02:10<00:00, 11.94it/s]\n",
      "  0%|          | 2/1563 [00:00<01:57, 13.28it/s]"
     ]
    },
    {
     "name": "stdout",
     "output_type": "stream",
     "text": [
      "Epoch 3, Loss 0.8600581089\n"
     ]
    },
    {
     "name": "stderr",
     "output_type": "stream",
     "text": [
      "100%|██████████| 1563/1563 [02:10<00:00, 11.99it/s]\n",
      "  0%|          | 2/1563 [00:00<02:14, 11.60it/s]"
     ]
    },
    {
     "name": "stdout",
     "output_type": "stream",
     "text": [
      "Epoch 4, Loss 0.6470306327\n"
     ]
    },
    {
     "name": "stderr",
     "output_type": "stream",
     "text": [
      "100%|██████████| 1563/1563 [02:13<00:00, 11.71it/s]\n",
      "  0%|          | 2/1563 [00:00<02:11, 11.90it/s]"
     ]
    },
    {
     "name": "stdout",
     "output_type": "stream",
     "text": [
      "Epoch 5, Loss 0.5648341948\n"
     ]
    },
    {
     "name": "stderr",
     "output_type": "stream",
     "text": [
      "100%|██████████| 1563/1563 [02:14<00:00, 11.66it/s]\n",
      "  0%|          | 2/1563 [00:00<02:19, 11.16it/s]"
     ]
    },
    {
     "name": "stdout",
     "output_type": "stream",
     "text": [
      "Epoch 6, Loss 0.5243893058\n"
     ]
    },
    {
     "name": "stderr",
     "output_type": "stream",
     "text": [
      "100%|██████████| 1563/1563 [02:10<00:00, 11.96it/s]\n",
      "  0%|          | 2/1563 [00:00<02:07, 12.21it/s]"
     ]
    },
    {
     "name": "stdout",
     "output_type": "stream",
     "text": [
      "Epoch 7, Loss 0.5347159102\n"
     ]
    },
    {
     "name": "stderr",
     "output_type": "stream",
     "text": [
      "100%|██████████| 1563/1563 [02:05<00:00, 12.49it/s]\n",
      "  0%|          | 2/1563 [00:00<01:53, 13.70it/s]"
     ]
    },
    {
     "name": "stdout",
     "output_type": "stream",
     "text": [
      "Epoch 8, Loss 0.5094209996\n"
     ]
    },
    {
     "name": "stderr",
     "output_type": "stream",
     "text": [
      "100%|██████████| 1563/1563 [02:06<00:00, 12.33it/s]\n",
      "  0%|          | 2/1563 [00:00<02:06, 12.36it/s]"
     ]
    },
    {
     "name": "stdout",
     "output_type": "stream",
     "text": [
      "Epoch 9, Loss 0.5179095048\n"
     ]
    },
    {
     "name": "stderr",
     "output_type": "stream",
     "text": [
      "100%|██████████| 1563/1563 [02:08<00:00, 12.15it/s]\n",
      "  0%|          | 2/1563 [00:00<02:16, 11.43it/s]"
     ]
    },
    {
     "name": "stdout",
     "output_type": "stream",
     "text": [
      "Epoch 10, Loss 0.4970319890\n"
     ]
    },
    {
     "name": "stderr",
     "output_type": "stream",
     "text": [
      "100%|██████████| 1563/1563 [02:06<00:00, 12.39it/s]\n",
      "  0%|          | 2/1563 [00:00<02:03, 12.66it/s]"
     ]
    },
    {
     "name": "stdout",
     "output_type": "stream",
     "text": [
      "Epoch 11, Loss 0.4964913048\n"
     ]
    },
    {
     "name": "stderr",
     "output_type": "stream",
     "text": [
      "100%|██████████| 1563/1563 [02:06<00:00, 12.40it/s]\n",
      "  0%|          | 2/1563 [00:00<01:58, 13.16it/s]"
     ]
    },
    {
     "name": "stdout",
     "output_type": "stream",
     "text": [
      "Epoch 12, Loss 0.4955945895\n"
     ]
    },
    {
     "name": "stderr",
     "output_type": "stream",
     "text": [
      "100%|██████████| 1563/1563 [02:07<00:00, 12.29it/s]\n",
      "  0%|          | 2/1563 [00:00<01:53, 13.80it/s]"
     ]
    },
    {
     "name": "stdout",
     "output_type": "stream",
     "text": [
      "Epoch 13, Loss 0.4899392009\n"
     ]
    },
    {
     "name": "stderr",
     "output_type": "stream",
     "text": [
      "100%|██████████| 1563/1563 [02:08<00:00, 12.19it/s]\n",
      "  0%|          | 2/1563 [00:00<02:07, 12.27it/s]"
     ]
    },
    {
     "name": "stdout",
     "output_type": "stream",
     "text": [
      "Epoch 14, Loss 0.4800641102\n"
     ]
    },
    {
     "name": "stderr",
     "output_type": "stream",
     "text": [
      "100%|██████████| 1563/1563 [02:05<00:00, 12.45it/s]\n",
      "  0%|          | 2/1563 [00:00<02:14, 11.62it/s]"
     ]
    },
    {
     "name": "stdout",
     "output_type": "stream",
     "text": [
      "Epoch 15, Loss 0.4868701970\n"
     ]
    },
    {
     "name": "stderr",
     "output_type": "stream",
     "text": [
      "100%|██████████| 1563/1563 [02:06<00:00, 12.32it/s]\n",
      "  0%|          | 2/1563 [00:00<02:11, 11.86it/s]"
     ]
    },
    {
     "name": "stdout",
     "output_type": "stream",
     "text": [
      "Epoch 16, Loss 0.5113624723\n"
     ]
    },
    {
     "name": "stderr",
     "output_type": "stream",
     "text": [
      "100%|██████████| 1563/1563 [02:07<00:00, 12.25it/s]\n",
      "  0%|          | 2/1563 [00:00<02:06, 12.33it/s]"
     ]
    },
    {
     "name": "stdout",
     "output_type": "stream",
     "text": [
      "Epoch 17, Loss 0.4964607733\n"
     ]
    },
    {
     "name": "stderr",
     "output_type": "stream",
     "text": [
      "100%|██████████| 1563/1563 [02:09<00:00, 12.10it/s]\n",
      "  0%|          | 2/1563 [00:00<02:09, 12.03it/s]"
     ]
    },
    {
     "name": "stdout",
     "output_type": "stream",
     "text": [
      "Epoch 18, Loss 0.5131721485\n"
     ]
    },
    {
     "name": "stderr",
     "output_type": "stream",
     "text": [
      "100%|██████████| 1563/1563 [02:09<00:00, 12.05it/s]"
     ]
    },
    {
     "name": "stdout",
     "output_type": "stream",
     "text": [
      "Epoch 19, Loss 0.5142165320\n"
     ]
    },
    {
     "name": "stderr",
     "output_type": "stream",
     "text": [
      "\n"
     ]
    }
   ],
   "source": [
    "train_seq2seq(net, train_iter, lr, num_epochs, no_tone_vocab, device)"
   ]
  },
  {
   "cell_type": "code",
   "execution_count": 64,
   "metadata": {
    "id": "Q1YNckuXtw0O"
   },
   "outputs": [],
   "source": [
    "torch.save(net.state_dict(), 'gru_encoder_decoder_attention_weights.pth')"
   ]
  },
  {
   "cell_type": "markdown",
   "metadata": {
    "id": "8LckEXlUnYKs"
   },
   "source": [
    "# Beam search"
   ]
  },
  {
   "cell_type": "code",
   "execution_count": 24,
   "metadata": {
    "id": "1ItIvkj3ARfO"
   },
   "outputs": [],
   "source": [
    "class GNMTGlobalScorer(object):\n",
    "    \"\"\"\n",
    "    NMT re-ranking score from\n",
    "    \"Google's Neural Machine Translation System\" :cite:`wu2016google`\n",
    "    Args:\n",
    "       alpha (float): length parameter\n",
    "       beta (float):  coverage parameter\n",
    "    \"\"\"\n",
    "\n",
    "    def __init__(self):\n",
    "      super().__init__()\n",
    "\n",
    "    def score(self, beam, logprobs):\n",
    "        # \"\"\"\n",
    "        # Rescores a prediction based on penalty functions\n",
    "        # \"\"\"\n",
    "        # normalized_probs = self.length_penalty(beam,\n",
    "        #                                        logprobs,\n",
    "        #                                        self.alpha)\n",
    "        # if not beam.stepwise_penalty:\n",
    "        #     penalty = self.cov_penalty(beam,\n",
    "        #                                beam.global_state[\"coverage\"],\n",
    "        #                                self.beta)\n",
    "        #     normalized_probs -= penalty\n",
    "\n",
    "        return logprobs"
   ]
  },
  {
   "cell_type": "code",
   "execution_count": 19,
   "metadata": {
    "id": "5XgD5iauWros"
   },
   "outputs": [],
   "source": [
    "class Beam(object):\n",
    "  def __init__(self, size, pad, bos, eos, global_scorer, min_length):\n",
    "    super().__init__()\n",
    "    self.prev_ks = []\n",
    "    self.scores = torch.FloatTensor(size).zero_()\n",
    "    self.all_scores = []\n",
    "\n",
    "    self.min_length = min_length\n",
    "\n",
    "    self.next_ys = [torch.LongTensor(size)\n",
    "                        .fill_(pad)]\n",
    "    self.next_ys[0][0] = bos\n",
    "\n",
    "    self.finished = []\n",
    "\n",
    "    self.global_scorer = global_scorer\n",
    "\n",
    "    self._eos = eos\n",
    "    self.eos_top = False\n",
    "\n",
    "    self.size = size\n",
    "\n",
    "  def get_current_state(self):\n",
    "    \"Get the outputs for the current timestep.\"\n",
    "    return self.next_ys[-1]\n",
    "\n",
    "  def get_current_origin(self):\n",
    "    \"Get the backpointers for the current timestep.\"\n",
    "    return self.prev_ks[-1]\n",
    "  def done(self):\n",
    "    return self.eos_top\n",
    "  def sort_finished(self, minimum=None):\n",
    "    if minimum is not None:\n",
    "        i = 0\n",
    "        # Add from beam until we have minimum outputs.\n",
    "        while len(self.finished) < minimum:\n",
    "            global_scores = self.global_scorer.score(self, self.scores)\n",
    "            s = global_scores[i]\n",
    "            self.finished.append((s, len(self.next_ys) - 1, i))\n",
    "            i += 1\n",
    "\n",
    "    self.finished.sort(key=lambda a: -a[0])\n",
    "    scores = [sc for sc, _, _ in self.finished]\n",
    "    ks = [(t, k) for _, t, k in self.finished]\n",
    "    return scores, ks\n",
    "\n",
    "  def get_hyp(self, timestep, k):\n",
    "      \"\"\"\n",
    "      Walk back to construct the full hypothesis.\n",
    "      \"\"\"\n",
    "      hyp = []\n",
    "      for j in range(len(self.prev_ks[:timestep]) - 1, -1, -1):\n",
    "          hyp.append(self.next_ys[j + 1][k])\n",
    "          k = self.prev_ks[j][k]\n",
    "      return hyp[::-1]\n",
    "  def advance(self, word_probs):\n",
    "    word_probs = word_probs.unsqueeze(0)\n",
    "    # print(\"word_probs\", word_probs.shape)\n",
    "    num_words = word_probs.size(2)\n",
    "    \n",
    "    # dont let this shit end\n",
    "    cur_len = len(self.next_ys)\n",
    "    # print(\"cur_len\", cur_len)\n",
    "    if cur_len < self.min_length:\n",
    "        for k in range(len(word_probs)):\n",
    "            word_probs[0][k][self._eos] = -1e20\n",
    "            # print(\"word\", self._eos, \"has\", word_probs[k][self._eos])\n",
    "\n",
    "    if len(self.prev_ks) > 0:\n",
    "      beam_scores = word_probs + self.scores.unsqueeze(1).expand_as(word_probs).to(device)\n",
    "      # print(\"beam_scores.shape\", beam_scores.shape, \"word_probs\", word_probs.shape, \"self.scores.unsqueeze(1).expand_as(word_probs)\", self.scores.unsqueeze(1).expand_as(word_probs).shape)\n",
    "      beam_scores = beam_scores.squeeze(0)\n",
    "      # print(\"beam_scores\", beam_scores)\n",
    "      for i in range(self.next_ys[-1].size(0)):\n",
    "        if self.next_ys[-1][i] == self._eos:\n",
    "          # print(\"sentence\", i, 'is ended')\n",
    "          beam_scores[i] = -1e20\n",
    "    else:\n",
    "      beam_scores = word_probs[0][0]\n",
    "      # print(\"beam_scores.shape first time\", beam_scores.shape)\n",
    "\n",
    "    \n",
    "    flat_beam_scores = beam_scores.view(-1)\n",
    "    # print(\"self.size\", self.size, \"flat_beam_scores.shape\", flat_beam_scores.shape)\n",
    "    \n",
    "    best_scores, best_scores_id = flat_beam_scores.topk(self.size, 0,\n",
    "        True, True)\n",
    "    \n",
    "    self.all_scores.append(self.scores)\n",
    "    self.scores = best_scores\n",
    "    # print(\"best_scores\", best_scores, \"best_scores_id\", best_scores_id)\n",
    "    \n",
    "    # print(\"flat_beam_scores\", flat_beam_scores, \"best_scores\", best_scores, \"best_scores_id\", best_scores_id)\n",
    "    # print(\"num_words\", num_words)\n",
    "    prev_k = torch.floor(best_scores_id / num_words).long()\n",
    "    # print(\"prev_k\", prev_k)\n",
    "    self.prev_ks.append(prev_k)\n",
    "    self.next_ys.append((best_scores_id - prev_k * num_words))\n",
    "    # print(\"self.prev_ks\", self.prev_ks)\n",
    "    # print(\"self.next_ys\", self.next_ys)\n",
    "    for i in range(self.next_ys[-1].size(0)):\n",
    "      if self.next_ys[-1][i] == self._eos:\n",
    "        # print(\"self.scores\", self.scores)\n",
    "        global_scores = self.global_scorer.score(self, self.scores)\n",
    "        s = global_scores[i]\n",
    "        self.finished.append((s, len(self.next_ys) - 1, i))\n",
    "\n",
    "    if self.next_ys[-1][0] == self._eos:\n",
    "      self.all_scores.append(self.scores)\n",
    "      self.eos_top = True"
   ]
  },
  {
   "cell_type": "code",
   "execution_count": null,
   "metadata": {
    "id": "08mNF2QhZtXj"
   },
   "outputs": [],
   "source": [
    "# a = torch.rand(1, 4136)\n",
    "# b = torch.ones(4, 1)\n",
    "# b.expand_as()\n",
    "# torch.FloatTensor(4).zero_().unsqueeze(0).shape"
   ]
  },
  {
   "cell_type": "code",
   "execution_count": 20,
   "metadata": {
    "id": "9nbJUZ9KVJ7d"
   },
   "outputs": [],
   "source": [
    "def _from_beam(beam):\n",
    "    ret = {\"predictions\": [],\n",
    "            \"scores\": [],\n",
    "            \"attention\": []}\n",
    "    for b in beam:\n",
    "        # n_best = self.n_best\n",
    "        scores, ks = b.sort_finished(minimum=None)\n",
    "        # print(scores, ks)\n",
    "        hyps, attn = [], []\n",
    "        for i, (times, k) in enumerate(ks):#[:n_best]):\n",
    "            # hyp, att = b.get_hyp(times, k)\n",
    "            hyp = b.get_hyp(times, k)\n",
    "            hyps.append(hyp)\n",
    "            # attn.append(att)\n",
    "        ret[\"predictions\"].append(hyps)\n",
    "        ret[\"scores\"].append(scores)\n",
    "        # ret[\"attention\"].append(attn)\n",
    "    return ret"
   ]
  },
  {
   "cell_type": "code",
   "execution_count": 62,
   "metadata": {
    "id": "ekw6sJ2EJSVT"
   },
   "outputs": [],
   "source": [
    "sentence = \"tram nam trong coi nguoi ta\"\n",
    "beam = evaluate(net, sentence, no_tone_vocab, tone_vocab, 20, device, 4)"
   ]
  },
  {
   "cell_type": "code",
   "execution_count": 63,
   "metadata": {
    "colab": {
     "base_uri": "https://localhost:8080/"
    },
    "id": "awVWJOXlPjhx",
    "outputId": "d081b9f2-ddad-4a16-8c69-150b58d94e82"
   },
   "outputs": [
    {
     "name": "stdout",
     "output_type": "stream",
     "text": [
      "trạm năm trong cõi người ta\n",
      "trạm năm trong còi người ta\n",
      "trăm năm coi cõi người ta\n",
      "trạm nằm còi còi người ta\n"
     ]
    }
   ],
   "source": [
    "predictions = []\n",
    "for i, prediction in enumerate(beam['predictions'][0]):\n",
    "  predictions.append(' '.join(tone_vocab.itos[idx] for idx in prediction[:-1]))\n",
    "  print(predictions[i])\n",
    "  # print(prediction)"
   ]
  },
  {
   "cell_type": "code",
   "execution_count": 41,
   "metadata": {
    "id": "yNdPKjVKoKuL"
   },
   "outputs": [],
   "source": [
    "import seaborn as sns\n",
    "import matplotlib.pylab as plt"
   ]
  },
  {
   "cell_type": "code",
   "execution_count": 69,
   "metadata": {
    "colab": {
     "base_uri": "https://localhost:8080/",
     "height": 290
    },
    "id": "pk1joJInkkIm",
    "outputId": "070aa7c7-c0f5-4332-c549-c3768a733430"
   },
   "outputs": [
    {
     "data": {
      "image/png": "[encoded data removed]",
      "text/plain": [
       "<Figure size 1152x288 with 8 Axes>"
      ]
     },
     "metadata": {
      "needs_background": "light",
      "tags": []
     },
     "output_type": "display_data"
    }
   ],
   "source": [
    "num_steps = len(net.decoder._attention_weights)\n",
    "batch_size = net.decoder._attention_weights[0].shape[0]\n",
    "heatmap_matrix = torch.cat([steps for steps in net.decoder._attention_weights], dim=1)\n",
    "\n",
    "fig, ax = plt.subplots(1, batch_size, figsize=(16, 4))\n",
    "for batch in range(batch_size):\n",
    "  ax[batch] = sns.heatmap(heatmap_matrix[i], \n",
    "                              ax=ax[batch],\n",
    "                              xticklabels=[w for w in sentence.split()] + [\"<eos>\"],\n",
    "                              yticklabels=[w for w in predictions[batch].split()] + [\"<eos>\"])\n",
    "plt.tight_layout()"
   ]
  },
  {
   "cell_type": "code",
   "execution_count": 37,
   "metadata": {
    "colab": {
     "base_uri": "https://localhost:8080/"
    },
    "id": "MzrFEf_dCNey",
    "outputId": "7b968431-ee1f-4c19-9ed2-5135df27f533"
   },
   "outputs": [
    {
     "data": {
      "text/plain": [
       "{'attention': [],\n",
       " 'predictions': [[[tensor(279), tensor(3)], [tensor(235), tensor(3)]]],\n",
       " 'scores': [[tensor(-3.4922), tensor(-4.8874)]]}"
      ]
     },
     "execution_count": 37,
     "metadata": {
      "tags": []
     },
     "output_type": "execute_result"
    }
   ],
   "source": [
    "beam"
   ]
  },
  {
   "cell_type": "markdown",
   "metadata": {
    "id": "tMeEsrZItsow"
   },
   "source": [
    "# Evaluate model"
   ]
  },
  {
   "cell_type": "code",
   "execution_count": 70,
   "metadata": {
    "id": "c7WZvCgEtsQE"
   },
   "outputs": [],
   "source": [
    "def inference(sentence):\n",
    "  beam = evaluate(net, sentence, no_tone_vocab, tone_vocab, 20, device, 4)\n",
    "  if len(beam['predictions'][0]) > 0:\n",
    "    return ' '.join(tone_vocab.itos[idx] for idx in beam['predictions'][0][0][:-1])\n",
    "  else:\n",
    "    return ''"
   ]
  },
  {
   "cell_type": "code",
   "execution_count": 71,
   "metadata": {
    "colab": {
     "base_uri": "https://localhost:8080/",
     "height": 36
    },
    "id": "FnM2I-ZYt4_q",
    "outputId": "fb5d3694-2104-4f7a-c267-5b5baba8d025"
   },
   "outputs": [
    {
     "data": {
      "application/vnd.google.colaboratory.intrinsic+json": {
       "type": "string"
      },
      "text/plain": [
       "'trạm năm rồi lại ra đi'"
      ]
     },
     "execution_count": 71,
     "metadata": {
      "tags": []
     },
     "output_type": "execute_result"
    }
   ],
   "source": [
    "inference(\"tram nam roi lai ra di\")"
   ]
  },
  {
   "cell_type": "code",
   "execution_count": 74,
   "metadata": {
    "colab": {
     "base_uri": "https://localhost:8080/"
    },
    "id": "rnN6Iur2t6EB",
    "outputId": "1886c53b-b083-4bc1-a4f8-3c389614674a"
   },
   "outputs": [
    {
     "name": "stdout",
     "output_type": "stream",
     "text": [
      "CPU times: user 40 s, sys: 9.69 s, total: 49.7 s\n",
      "Wall time: 24.9 s\n"
     ]
    },
    {
     "name": "stderr",
     "output_type": "stream",
     "text": [
      "/usr/local/lib/python3.7/dist-packages/ipykernel_launcher.py:1: SettingWithCopyWarning: \n",
      "A value is trying to be set on a copy of a slice from a DataFrame.\n",
      "Try using .loc[row_indexer,col_indexer] = value instead\n",
      "\n",
      "See the caveats in the documentation: https://pandas.pydata.org/pandas-docs/stable/user_guide/indexing.html#returning-a-view-versus-a-copy\n",
      "  \"\"\"Entry point for launching an IPython kernel.\n"
     ]
    }
   ],
   "source": [
    "%%time\n",
    "df_test['predict'] = df_test.text_clean_no_accent.apply(inference)"
   ]
  },
  {
   "cell_type": "code",
   "execution_count": 75,
   "metadata": {
    "id": "-wdCpBXwuAzZ"
   },
   "outputs": [],
   "source": [
    "def sentence_accuracy(row):\n",
    "  src = row.text_clean.split(\" \")\n",
    "  predict = row.predict.split(\" \")\n",
    "  t = 0\n",
    "  for i in range(min(len(src), len(predict))):\n",
    "    if (src[i] == predict[i]):\n",
    "      t += 1\n",
    "  return t/len(src)"
   ]
  },
  {
   "cell_type": "code",
   "execution_count": 76,
   "metadata": {
    "colab": {
     "base_uri": "https://localhost:8080/"
    },
    "id": "UufB6RH3uB4C",
    "outputId": "9a789827-b21a-45e3-b263-f049e7e29f82"
   },
   "outputs": [
    {
     "name": "stdout",
     "output_type": "stream",
     "text": [
      "CPU times: user 24.5 ms, sys: 0 ns, total: 24.5 ms\n",
      "Wall time: 24.2 ms\n"
     ]
    },
    {
     "name": "stderr",
     "output_type": "stream",
     "text": [
      "/usr/local/lib/python3.7/dist-packages/ipykernel_launcher.py:1: SettingWithCopyWarning: \n",
      "A value is trying to be set on a copy of a slice from a DataFrame.\n",
      "Try using .loc[row_indexer,col_indexer] = value instead\n",
      "\n",
      "See the caveats in the documentation: https://pandas.pydata.org/pandas-docs/stable/user_guide/indexing.html#returning-a-view-versus-a-copy\n",
      "  \"\"\"Entry point for launching an IPython kernel.\n"
     ]
    }
   ],
   "source": [
    "%%time\n",
    "df_test['accuracy'] = df_test.apply(sentence_accuracy, axis=1)"
   ]
  },
  {
   "cell_type": "code",
   "execution_count": 77,
   "metadata": {
    "colab": {
     "base_uri": "https://localhost:8080/"
    },
    "id": "mrQn5ulguDFh",
    "outputId": "c5c50ed2-fe52-4b93-b2ed-4570ae2acfa2"
   },
   "outputs": [
    {
     "data": {
      "text/plain": [
       "0.712119025788827"
      ]
     },
     "execution_count": 77,
     "metadata": {
      "tags": []
     },
     "output_type": "execute_result"
    }
   ],
   "source": [
    "df_test.accuracy.mean()"
   ]
  },
  {
   "cell_type": "code",
   "execution_count": 78,
   "metadata": {
    "colab": {
     "base_uri": "https://localhost:8080/",
     "height": 359
    },
    "id": "NMXK32kduEY-",
    "outputId": "2aefc1c5-8c6e-42c2-fef3-6d4b37c976e4"
   },
   "outputs": [
    {
     "data": {
      "text/plain": [
       "(array([ 19.,   0.,   7.,   8.,  10.,  20.,  15.,  14.,  23.,  16.,  62.,\n",
       "         64.,  61.,  91.,  72., 101., 134.,  58., 117., 108.]),\n",
       " array([0.  , 0.05, 0.1 , 0.15, 0.2 , 0.25, 0.3 , 0.35, 0.4 , 0.45, 0.5 ,\n",
       "        0.55, 0.6 , 0.65, 0.7 , 0.75, 0.8 , 0.85, 0.9 , 0.95, 1.  ]),\n",
       " <a list of 20 Patch objects>)"
      ]
     },
     "execution_count": 78,
     "metadata": {
      "tags": []
     },
     "output_type": "execute_result"
    },
    {
     "data": {
      "image/png": "[encoded data removed]",
      "text/plain": [
       "<Figure size 432x288 with 1 Axes>"
      ]
     },
     "metadata": {
      "needs_background": "light",
      "tags": []
     },
     "output_type": "display_data"
    }
   ],
   "source": [
    "plt.hist(df_test.accuracy, bins=20)"
   ]
  }
 ],
 "metadata": {
  "colab": {
   "collapsed_sections": [],
   "machine_shape": "hm",
   "name": "[nlp]gru_encoder_decoder_attention",
   "provenance": []
  },
  "kernelspec": {
   "display_name": "Python 3",
   "language": "python",
   "name": "python3"
  },
  "language_info": {
   "codemirror_mode": {
    "name": "ipython",
    "version": 3
   },
   "file_extension": ".py",
   "mimetype": "text/x-python",
   "name": "python",
   "nbconvert_exporter": "python",
   "pygments_lexer": "ipython3",
   "version": "3.6.13"
  }
 },
 "nbformat": 4,
 "nbformat_minor": 4
}
